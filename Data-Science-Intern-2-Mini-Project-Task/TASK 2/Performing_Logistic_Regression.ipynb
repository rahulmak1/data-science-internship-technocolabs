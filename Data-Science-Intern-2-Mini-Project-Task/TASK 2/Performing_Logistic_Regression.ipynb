{
  "nbformat": 4,
  "nbformat_minor": 0,
  "metadata": {
    "kernelspec": {
      "display_name": "Python 3",
      "language": "python",
      "name": "python3"
    },
    "language_info": {
      "codemirror_mode": {
        "name": "ipython",
        "version": 3
      },
      "file_extension": ".py",
      "mimetype": "text/x-python",
      "name": "python",
      "nbconvert_exporter": "python",
      "pygments_lexer": "ipython3",
      "version": "3.7.4"
    },
    "colab": {
      "name": "Performing_Logistic_Regression.ipynb",
      "provenance": []
    }
  },
  "cells": [
    {
      "cell_type": "code",
      "metadata": {
        "id": "UU7ZhoThDYj0",
        "colab_type": "code",
        "colab": {
          "base_uri": "https://localhost:8080/",
          "height": 34
        },
        "outputId": "723a5a7a-5045-4dd1-a0e8-8ae25d0577b7"
      },
      "source": [
        "from google.colab import drive\n",
        "drive.mount('/content/drive')"
      ],
      "execution_count": 136,
      "outputs": [
        {
          "output_type": "stream",
          "text": [
            "Drive already mounted at /content/drive; to attempt to forcibly remount, call drive.mount(\"/content/drive\", force_remount=True).\n"
          ],
          "name": "stdout"
        }
      ]
    },
    {
      "cell_type": "code",
      "metadata": {
        "id": "_xBCaJ-SBOTf",
        "colab_type": "code",
        "colab": {
          "base_uri": "https://localhost:8080/",
          "height": 34
        },
        "outputId": "0cec4ba1-6ac2-448b-dcec-68ac3a5cc07b"
      },
      "source": [
        "%autosave 10"
      ],
      "execution_count": 137,
      "outputs": [
        {
          "output_type": "display_data",
          "data": {
            "application/javascript": [
              "IPython.notebook.set_autosave_interval(10000)"
            ]
          },
          "metadata": {
            "tags": []
          }
        },
        {
          "output_type": "stream",
          "text": [
            "Autosaving every 10 seconds\n"
          ],
          "name": "stdout"
        }
      ]
    },
    {
      "cell_type": "markdown",
      "metadata": {
        "id": "Wq4rcVt7BOTn",
        "colab_type": "text"
      },
      "source": [
        "**First, create a dataframe of *cleaned_data.csv*. Then, use scikit-learn's `train_test_split` to make a new set of training and testing data. This time, instead of `EDUCATION`, use `LIMIT_BAL`: the account's credit limit.**"
      ]
    },
    {
      "cell_type": "code",
      "metadata": {
        "id": "txfG5EpoIliF",
        "colab_type": "code",
        "colab": {}
      },
      "source": [
        "import pandas as pd\n",
        "import matplotlib.pyplot as plt\n",
        "# Import the dataset\n",
        "df_train = pd.read_csv('/content/drive/My Drive/cleaned_data.csv')"
      ],
      "execution_count": 138,
      "outputs": []
    },
    {
      "cell_type": "code",
      "metadata": {
        "id": "FTi_hX7EIalR",
        "colab_type": "code",
        "colab": {}
      },
      "source": [
        "X = df_train.drop(columns={'ID','default payment next month','EDUCATION_CAT'})\n",
        "y = df_train['default payment next month']"
      ],
      "execution_count": 139,
      "outputs": []
    },
    {
      "cell_type": "code",
      "metadata": {
        "eid": "662ef",
        "id": "0IRl3CdHBOTo",
        "colab_type": "code",
        "colab": {}
      },
      "source": [
        "from sklearn.model_selection import train_test_split\n",
        "X_train, X_test, y_train, y_test = train_test_split(X, y, test_size=0.2, random_state=0)"
      ],
      "execution_count": 140,
      "outputs": []
    },
    {
      "cell_type": "code",
      "metadata": {
        "id": "CNjBZTHBI8l_",
        "colab_type": "code",
        "colab": {
          "base_uri": "https://localhost:8080/",
          "height": 34
        },
        "outputId": "263a239d-28ea-4104-c3b9-787fad711435"
      },
      "source": [
        "X_train.shape, X_test.shape ,y_train.shape , X_test.shape"
      ],
      "execution_count": 141,
      "outputs": [
        {
          "output_type": "execute_result",
          "data": {
            "text/plain": [
              "((21331, 27), (5333, 27), (21331,), (5333, 27))"
            ]
          },
          "metadata": {
            "tags": []
          },
          "execution_count": 141
        }
      ]
    },
    {
      "cell_type": "markdown",
      "metadata": {
        "id": "kLF1MMk3BOTw",
        "colab_type": "text"
      },
      "source": [
        "_________________________________________________________________________\n",
        "**Next, train a logistic regression model using the training data from your split.**\n"
      ]
    },
    {
      "cell_type": "code",
      "metadata": {
        "id": "hEnVr7zdJR-S",
        "colab_type": "code",
        "colab": {}
      },
      "source": [
        "# scale data before regression\n",
        "from sklearn.preprocessing import StandardScaler\n",
        "\n",
        "scaler = StandardScaler()\n",
        "X_train = scaler.fit_transform(X_train)\n",
        "X_test = scaler.fit_transform(X_test)"
      ],
      "execution_count": 142,
      "outputs": []
    },
    {
      "cell_type": "code",
      "metadata": {
        "eid": "05e84",
        "id": "9Lt2gpi7BOTx",
        "colab_type": "code",
        "colab": {}
      },
      "source": [
        "# fitting logistic regression to the training set\n",
        "from sklearn.linear_model import LogisticRegression\n",
        "classifier = LogisticRegression(random_state=0)\n",
        "classifier.fit(X_train, y_train)\n",
        "# predictiing the test result\n",
        "y_pred = classifier.predict(X_test)"
      ],
      "execution_count": 143,
      "outputs": []
    },
    {
      "cell_type": "markdown",
      "metadata": {
        "id": "IOAFBvttBOT1",
        "colab_type": "text"
      },
      "source": [
        "_________________________________________________________________________\n",
        "**Then, create the array of predicted probabilities for the testing data.**\n"
      ]
    },
    {
      "cell_type": "code",
      "metadata": {
        "eid": "b671b",
        "id": "9xFm0o65BOT3",
        "colab_type": "code",
        "colab": {
          "base_uri": "https://localhost:8080/",
          "height": 34
        },
        "outputId": "ad7609de-23a6-488f-e548-99793b2633ed"
      },
      "source": [
        "y_pred"
      ],
      "execution_count": 144,
      "outputs": [
        {
          "output_type": "execute_result",
          "data": {
            "text/plain": [
              "array([0, 0, 0, ..., 0, 0, 0])"
            ]
          },
          "metadata": {
            "tags": []
          },
          "execution_count": 144
        }
      ]
    },
    {
      "cell_type": "code",
      "metadata": {
        "id": "ygExY_IPeBTf",
        "colab_type": "code",
        "colab": {}
      },
      "source": [
        "y_pred_prob= classifier.predict_proba(X_test)"
      ],
      "execution_count": 145,
      "outputs": []
    },
    {
      "cell_type": "code",
      "metadata": {
        "id": "uLpzWmzheQj8",
        "colab_type": "code",
        "colab": {
          "base_uri": "https://localhost:8080/",
          "height": 51
        },
        "outputId": "00326aed-003a-454d-d6ea-9f44a5ba01d4"
      },
      "source": [
        "y_pred_prob_2 = y_pred_prob[:,1]\n",
        "y_pred_prob_2"
      ],
      "execution_count": 146,
      "outputs": [
        {
          "output_type": "execute_result",
          "data": {
            "text/plain": [
              "array([0.09118821, 0.0285821 , 0.20023731, ..., 0.1468045 , 0.19906192,\n",
              "       0.10827522])"
            ]
          },
          "metadata": {
            "tags": []
          },
          "execution_count": 146
        }
      ]
    },
    {
      "cell_type": "code",
      "metadata": {
        "id": "0vOzq4Rob0iv",
        "colab_type": "code",
        "colab": {
          "base_uri": "https://localhost:8080/",
          "height": 666
        },
        "outputId": "cdf7159a-1e6e-472b-bf56-8b20237fe9f1"
      },
      "source": [
        "from sklearn.metrics import confusion_matrix ,classification_report, accuracy_score\n",
        "import seaborn as sns\n",
        "cm = confusion_matrix(y_test,y_pred)\n",
        "plt.figure(figsize=(10,7))\n",
        "sns.heatmap(cm,annot=True)\n",
        "print('classification_report:\\n',classification_report(y_test,y_pred))\n",
        "print('confusion matrix:\\n',cm)\n",
        "print('accuracy_score:',accuracy_score(y_test,y_pred))"
      ],
      "execution_count": 147,
      "outputs": [
        {
          "output_type": "stream",
          "text": [
            "classification_report:\n",
            "               precision    recall  f1-score   support\n",
            "\n",
            "           0       0.83      0.98      0.90      4204\n",
            "           1       0.74      0.26      0.39      1129\n",
            "\n",
            "    accuracy                           0.82      5333\n",
            "   macro avg       0.79      0.62      0.64      5333\n",
            "weighted avg       0.81      0.82      0.79      5333\n",
            "\n",
            "confusion matrix:\n",
            " [[4101  103]\n",
            " [ 832  297]]\n",
            "accuracy_score: 0.8246765422838928\n"
          ],
          "name": "stdout"
        },
        {
          "output_type": "display_data",
          "data": {
            "image/png": "[encoded data removed]",
            "text/plain": [
              "<Figure size 720x504 with 2 Axes>"
            ]
          },
          "metadata": {
            "tags": [],
            "needs_background": "light"
          }
        }
      ]
    },
    {
      "cell_type": "markdown",
      "metadata": {
        "id": "IRnVsR62BOT7",
        "colab_type": "text"
      },
      "source": [
        "_________________________________________________________________________\n",
        "**Next, calculate the ROC AUC using the predicted probabilities and the true labels of the testing data. Compare this to the ROC AUC from using the `EDUCATION` feature.**\n"
      ]
    },
    {
      "cell_type": "code",
      "metadata": {
        "eid": "58476",
        "id": "UQKZ46PjBOT8",
        "colab_type": "code",
        "colab": {
          "base_uri": "https://localhost:8080/",
          "height": 34
        },
        "outputId": "10f16428-25ba-4f37-d01b-22d952770777"
      },
      "source": [
        "from sklearn.metrics import roc_auc_score\n",
        "roc_auc_score(y_test , y_pred_prob_2)"
      ],
      "execution_count": 148,
      "outputs": [
        {
          "output_type": "execute_result",
          "data": {
            "text/plain": [
              "0.7226987204391786"
            ]
          },
          "metadata": {
            "tags": []
          },
          "execution_count": 148
        }
      ]
    },
    {
      "cell_type": "markdown",
      "metadata": {
        "id": "Gg3KSWdTBOUC",
        "colab_type": "text"
      },
      "source": [
        "_________________________________________________________________________\n",
        "**Now, plot the ROC curve.**\n"
      ]
    },
    {
      "cell_type": "code",
      "metadata": {
        "eid": "289eb",
        "id": "_2zYM2kVBOUD",
        "colab_type": "code",
        "colab": {
          "base_uri": "https://localhost:8080/",
          "height": 458
        },
        "outputId": "63f9241e-0ac9-4e87-8e90-bed86c321183"
      },
      "source": [
        "from sklearn.metrics import roc_curve\n",
        "fpr,tpr,threshold = roc_curve(y_test , y_pred_prob_2)\n",
        "plt.figure(figsize=(10,7))\n",
        "plt.plot(fpr,tpr,label = 'roc curve')\n",
        "plt.plot([0,1],[0,1],'r--')\n",
        "plt.title('ROC curve')\n",
        "plt.xlabel('False positive rate')\n",
        "plt.ylabel('True positive rate')\n",
        "plt.legend()\n",
        "plt.show()"
      ],
      "execution_count": 149,
      "outputs": [
        {
          "output_type": "display_data",
          "data": {
            "image/png": "[encoded data removed]",
            "text/plain": [
              "<Figure size 720x504 with 1 Axes>"
            ]
          },
          "metadata": {
            "tags": [],
            "needs_background": "light"
          }
        }
      ]
    },
    {
      "cell_type": "markdown",
      "metadata": {
        "id": "3IfU2zo8BOUJ",
        "colab_type": "text"
      },
      "source": [
        "_________________________________________________________________________\n",
        "**Then, calculate the data for the precision-recall curve on the testing data using scikit-learn functionality.**\n"
      ]
    },
    {
      "cell_type": "code",
      "metadata": {
        "eid": "73fdb",
        "id": "ob7DGDQ7BOUL",
        "colab_type": "code",
        "colab": {
          "base_uri": "https://localhost:8080/",
          "height": 119
        },
        "outputId": "a9dbc138-c530-4b90-e21b-261a4e0836ad"
      },
      "source": [
        "from sklearn.metrics import precision_recall_curve\n",
        "precision_recall_curve(y_test , y_pred_prob_2)"
      ],
      "execution_count": 150,
      "outputs": [
        {
          "output_type": "execute_result",
          "data": {
            "text/plain": [
              "(array([0.21229786, 0.21214971, 0.21218962, ..., 1.        , 1.        ,\n",
              "        1.        ]),\n",
              " array([1.00000000e+00, 9.99114260e-01, 9.99114260e-01, ...,\n",
              "        1.77147919e-03, 8.85739593e-04, 0.00000000e+00]),\n",
              " array([0.01275115, 0.01285449, 0.01434246, ..., 0.95908544, 0.97639688,\n",
              "        0.99325772]))"
            ]
          },
          "metadata": {
            "tags": []
          },
          "execution_count": 150
        }
      ]
    },
    {
      "cell_type": "markdown",
      "metadata": {
        "id": "x6Akuq_QBOUZ",
        "colab_type": "text"
      },
      "source": [
        "_________________________________________________________________________\n",
        "**Plot the precision-recall curve using matplotlib.**\n"
      ]
    },
    {
      "cell_type": "code",
      "metadata": {
        "ein": "5119c",
        "id": "YVnzsc67BOUa",
        "colab_type": "code",
        "colab": {
          "base_uri": "https://localhost:8080/",
          "height": 442
        },
        "outputId": "a040744e-e19e-40dd-9f14-4eff27c5bb76"
      },
      "source": [
        "from sklearn.metrics import precision_recall_curve\n",
        "from sklearn.metrics import auc\n",
        "precision , recall ,threshold = precision_recall_curve(y_test , y_pred_prob_2)\n",
        "plt.figure(figsize=(10,7))\n",
        "plt.plot(recall ,precision)\n",
        "plt.xlabel('recall')\n",
        "plt.ylabel('precision')\n",
        "plt.show()"
      ],
      "execution_count": 156,
      "outputs": [
        {
          "output_type": "display_data",
          "data": {
            "image/png": "[encoded data removed]",
            "text/plain": [
              "<Figure size 720x504 with 1 Axes>"
            ]
          },
          "metadata": {
            "tags": [],
            "needs_background": "light"
          }
        }
      ]
    },
    {
      "cell_type": "markdown",
      "metadata": {
        "id": "BuV8NmgoBOUd",
        "colab_type": "text"
      },
      "source": [
        "_________________________________________________________________________\n",
        "**Now, use scikit-learn to calculate the area under the precision-recall curve.**\n"
      ]
    },
    {
      "cell_type": "code",
      "metadata": {
        "eid": "34e7d",
        "id": "DOTcOtgzBOUe",
        "colab_type": "code",
        "colab": {
          "base_uri": "https://localhost:8080/",
          "height": 34
        },
        "outputId": "efcc4d36-8b68-40f2-8438-25c45e7e36cc"
      },
      "source": [
        "from sklearn.metrics import auc\n",
        "print(auc(recall, precision))"
      ],
      "execution_count": 157,
      "outputs": [
        {
          "output_type": "stream",
          "text": [
            "0.5057615076030296\n"
          ],
          "name": "stdout"
        }
      ]
    },
    {
      "cell_type": "markdown",
      "metadata": {
        "id": "YrT6ZlcBBOUj",
        "colab_type": "text"
      },
      "source": [
        "_________________________________________________________________________\n",
        "**Finally, recalculate the ROC AUC, except this time do it for the training data.**"
      ]
    },
    {
      "cell_type": "code",
      "metadata": {
        "eid": "d61c3",
        "id": "UOaS5wDxBOUj",
        "colab_type": "code",
        "colab": {
          "base_uri": "https://localhost:8080/",
          "height": 34
        },
        "outputId": "1b470511-e3ec-473c-dd61-a77a39f7669b"
      },
      "source": [
        "y_pred_prob_train = classifier.predict_proba(X_train)\n",
        "print(roc_auc_score(y_train , y_pred_prob_train[:,1]))"
      ],
      "execution_count": 153,
      "outputs": [
        {
          "output_type": "stream",
          "text": [
            "0.7256619745136608\n"
          ],
          "name": "stdout"
        }
      ]
    },
    {
      "cell_type": "markdown",
      "metadata": {
        "id": "OQGybcgRBOUn",
        "colab_type": "text"
      },
      "source": [
        "    How is this different, conceptually and quantitatively, from your earlier calculation?\n"
      ]
    }
  ]
}