{
  "nbformat": 4,
  "nbformat_minor": 0,
  "metadata": {
    "kernelspec": {
      "display_name": "Python 3",
      "language": "python",
      "name": "python3"
    },
    "language_info": {
      "codemirror_mode": {
        "name": "ipython",
        "version": 3
      },
      "file_extension": ".py",
      "mimetype": "text/x-python",
      "name": "python",
      "nbconvert_exporter": "python",
      "pygments_lexer": "ipython3",
      "version": "3.7.4"
    },
    "colab": {
      "name": "Deriving_Financial_Insights.ipynb",
      "provenance": []
    }
  },
  "cells": [
    {
      "cell_type": "markdown",
      "metadata": {
        "id": "us_dekHe_pam",
        "colab_type": "text"
      },
      "source": [
        "**Your challenge can be found toward the end of this notebook. The code below will be needed in order to begin the challenge. Read through and execute all necessary portions of this code to complete the tasks for this challenge.**"
      ]
    },
    {
      "cell_type": "markdown",
      "metadata": {
        "id": "Q_P5HU2m_pap",
        "colab_type": "text"
      },
      "source": [
        "##### Import the necessary packages"
      ]
    },
    {
      "cell_type": "code",
      "metadata": {
        "id": "RcJVLuo__-iU",
        "colab_type": "code",
        "colab": {
          "base_uri": "https://localhost:8080/",
          "height": 34
        },
        "outputId": "5cd88e40-75bc-4083-aa8b-9dfd00eabe2a"
      },
      "source": [
        "from google.colab import drive\n",
        "drive.mount('/content/drive')"
      ],
      "execution_count": null,
      "outputs": [
        {
          "output_type": "stream",
          "text": [
            "Drive already mounted at /content/drive; to attempt to forcibly remount, call drive.mount(\"/content/drive\", force_remount=True).\n"
          ],
          "name": "stdout"
        }
      ]
    },
    {
      "cell_type": "code",
      "metadata": {
        "id": "yOMQ7gH4VMKO",
        "colab_type": "code",
        "colab": {
          "base_uri": "https://localhost:8080/",
          "height": 34
        },
        "outputId": "fa9525ad-4289-4475-d19b-16413d0be402"
      },
      "source": [
        "drive.mount(\"/content/drive\", force_remount=True)"
      ],
      "execution_count": null,
      "outputs": [
        {
          "output_type": "stream",
          "text": [
            "Mounted at /content/drive\n"
          ],
          "name": "stdout"
        }
      ]
    },
    {
      "cell_type": "code",
      "metadata": {
        "id": "YAuzLpJ1_paq",
        "colab_type": "code",
        "colab": {}
      },
      "source": [
        "import numpy as np #numerical computation\n",
        "import pandas as pd #data wrangling\n",
        "import matplotlib.pyplot as plt #plotting package\n",
        "#Next line helps with rendering plots\n",
        "%matplotlib inline\n",
        "import matplotlib as mpl #add'l plotting functionality\n",
        "#mpl.rcParams['figure.dpi'] = 400 #high res figures\n",
        "import graphviz #to visualize decision trees"
      ],
      "execution_count": null,
      "outputs": []
    },
    {
      "cell_type": "markdown",
      "metadata": {
        "id": "t3b5HHmq_paw",
        "colab_type": "text"
      },
      "source": [
        "##### Cleaning the Dataset"
      ]
    },
    {
      "cell_type": "code",
      "metadata": {
        "id": "Av4xMUso_pax",
        "colab_type": "code",
        "colab": {}
      },
      "source": [
        "df_orig = pd.read_excel('/content/drive/My Drive/default_of_credit_card_clients.xls')\n"
      ],
      "execution_count": null,
      "outputs": []
    },
    {
      "cell_type": "code",
      "metadata": {
        "id": "yS4hJCw__pa2",
        "colab_type": "code",
        "colab": {}
      },
      "source": [
        "df_zero_mask = df_orig == 0"
      ],
      "execution_count": null,
      "outputs": []
    },
    {
      "cell_type": "code",
      "metadata": {
        "id": "eVjH3A2g_pa6",
        "colab_type": "code",
        "colab": {}
      },
      "source": [
        "feature_zero_mask = df_zero_mask.iloc[:,1:].all(axis=1)"
      ],
      "execution_count": null,
      "outputs": []
    },
    {
      "cell_type": "code",
      "metadata": {
        "id": "AjOhmOzm_pa-",
        "colab_type": "code",
        "colab": {
          "base_uri": "https://localhost:8080/",
          "height": 34
        },
        "outputId": "e68a83c1-9fcf-4959-89bd-c6e0f68ca226"
      },
      "source": [
        "sum(feature_zero_mask)\n",
        "# 315"
      ],
      "execution_count": null,
      "outputs": [
        {
          "output_type": "execute_result",
          "data": {
            "text/plain": [
              "315"
            ]
          },
          "metadata": {
            "tags": []
          },
          "execution_count": 255
        }
      ]
    },
    {
      "cell_type": "markdown",
      "metadata": {
        "id": "PVxrNKnp_pbC",
        "colab_type": "text"
      },
      "source": [
        "Remove all the rows with all zero features and response, confirm this that gets rid of the duplicate IDs."
      ]
    },
    {
      "cell_type": "code",
      "metadata": {
        "id": "KdQw04j__pbD",
        "colab_type": "code",
        "colab": {}
      },
      "source": [
        "df_clean = df_orig.loc[~feature_zero_mask,:].copy()"
      ],
      "execution_count": null,
      "outputs": []
    },
    {
      "cell_type": "code",
      "metadata": {
        "id": "3tgpzrrJ_pbH",
        "colab_type": "code",
        "colab": {
          "base_uri": "https://localhost:8080/",
          "height": 34
        },
        "outputId": "95199b93-b0d0-4a0d-aad5-d4b7334e8334"
      },
      "source": [
        "df_clean.shape\n",
        "# (29685, 25)"
      ],
      "execution_count": null,
      "outputs": [
        {
          "output_type": "execute_result",
          "data": {
            "text/plain": [
              "(29685, 25)"
            ]
          },
          "metadata": {
            "tags": []
          },
          "execution_count": 257
        }
      ]
    },
    {
      "cell_type": "code",
      "metadata": {
        "id": "vmCbE1In_pbL",
        "colab_type": "code",
        "colab": {
          "base_uri": "https://localhost:8080/",
          "height": 34
        },
        "outputId": "343d21e0-7b8e-4113-e2b8-77cdfb0b410d"
      },
      "source": [
        "df_clean['ID'].nunique()\n",
        "# 29685"
      ],
      "execution_count": null,
      "outputs": [
        {
          "output_type": "execute_result",
          "data": {
            "text/plain": [
              "29685"
            ]
          },
          "metadata": {
            "tags": []
          },
          "execution_count": 258
        }
      ]
    },
    {
      "cell_type": "markdown",
      "metadata": {
        "id": "c4jm-TXR_pbP",
        "colab_type": "text"
      },
      "source": [
        "Clean up the `EDUCATION` and `MARRIAGE` features as in Chapter 1"
      ]
    },
    {
      "cell_type": "code",
      "metadata": {
        "id": "11an6Kye_pbQ",
        "colab_type": "code",
        "colab": {
          "base_uri": "https://localhost:8080/",
          "height": 153
        },
        "outputId": "60bdd839-b5da-428e-b05a-529564caabc9"
      },
      "source": [
        "df_clean['EDUCATION'].value_counts()\n",
        "# 2    13884\n",
        "# 1    10474\n",
        "# 3     4867\n",
        "# 5      275\n",
        "# 4      122\n",
        "# 6       49\n",
        "# 0       14\n",
        "# Name: EDUCATION, dtype: int64"
      ],
      "execution_count": null,
      "outputs": [
        {
          "output_type": "execute_result",
          "data": {
            "text/plain": [
              "2    13884\n",
              "1    10474\n",
              "3     4867\n",
              "5      275\n",
              "4      122\n",
              "6       49\n",
              "0       14\n",
              "Name: EDUCATION, dtype: int64"
            ]
          },
          "metadata": {
            "tags": []
          },
          "execution_count": 259
        }
      ]
    },
    {
      "cell_type": "markdown",
      "metadata": {
        "id": "464scXBn_pbT",
        "colab_type": "text"
      },
      "source": [
        "\"Education (1 = graduate school; 2 = university; 3 = high school; 4 = others)\""
      ]
    },
    {
      "cell_type": "markdown",
      "metadata": {
        "id": "YJ_ydKqN_pbU",
        "colab_type": "text"
      },
      "source": [
        "Assign unknown categories to other."
      ]
    },
    {
      "cell_type": "code",
      "metadata": {
        "id": "OMABx42g_pbU",
        "colab_type": "code",
        "colab": {}
      },
      "source": [
        "df_clean['EDUCATION'].replace(to_replace=[0, 5, 6], value=4, inplace=True)"
      ],
      "execution_count": null,
      "outputs": []
    },
    {
      "cell_type": "code",
      "metadata": {
        "id": "FCwqh6dE_pbZ",
        "colab_type": "code",
        "colab": {
          "base_uri": "https://localhost:8080/",
          "height": 102
        },
        "outputId": "85fc74ec-ae75-43ad-afab-6f3cedb50cd6"
      },
      "source": [
        "df_clean['EDUCATION'].value_counts()\n",
        "# 2    13884\n",
        "# 1    10474\n",
        "# 3     4867\n",
        "# 4      460\n",
        "# Name: EDUCATION, dtype: int64"
      ],
      "execution_count": null,
      "outputs": [
        {
          "output_type": "execute_result",
          "data": {
            "text/plain": [
              "2    13884\n",
              "1    10474\n",
              "3     4867\n",
              "4      460\n",
              "Name: EDUCATION, dtype: int64"
            ]
          },
          "metadata": {
            "tags": []
          },
          "execution_count": 261
        }
      ]
    },
    {
      "cell_type": "markdown",
      "metadata": {
        "id": "b0lXpJM8_pbc",
        "colab_type": "text"
      },
      "source": [
        "Examine and clean marriage feature as well:"
      ]
    },
    {
      "cell_type": "code",
      "metadata": {
        "id": "XJf7Oo1c_pbd",
        "colab_type": "code",
        "colab": {
          "base_uri": "https://localhost:8080/",
          "height": 102
        },
        "outputId": "a5118879-20c0-47a7-a4c5-f64db50f746b"
      },
      "source": [
        "df_clean['MARRIAGE'].value_counts()\n",
        "# 2    15810\n",
        "# 1    13503\n",
        "# 3      318\n",
        "# 0       54\n",
        "# Name: MARRIAGE, dtype: int64"
      ],
      "execution_count": null,
      "outputs": [
        {
          "output_type": "execute_result",
          "data": {
            "text/plain": [
              "2    15810\n",
              "1    13503\n",
              "3      318\n",
              "0       54\n",
              "Name: MARRIAGE, dtype: int64"
            ]
          },
          "metadata": {
            "tags": []
          },
          "execution_count": 262
        }
      ]
    },
    {
      "cell_type": "code",
      "metadata": {
        "id": "-6fQ5meQ_pbg",
        "colab_type": "code",
        "colab": {}
      },
      "source": [
        "#Should only be (1 = married; 2 = single; 3 = others).\n",
        "df_clean['MARRIAGE'].replace(to_replace=0, value=3, inplace=True)"
      ],
      "execution_count": null,
      "outputs": []
    },
    {
      "cell_type": "code",
      "metadata": {
        "id": "MEaLBbGA_pbk",
        "colab_type": "code",
        "colab": {
          "base_uri": "https://localhost:8080/",
          "height": 85
        },
        "outputId": "e847d892-a7fe-434d-c978-d5ceaac50b6c"
      },
      "source": [
        "df_clean['MARRIAGE'].value_counts()\n",
        "# 2    15810\n",
        "# 1    13503\n",
        "# 3      372\n",
        "# Name: MARRIAGE, dtype: int64"
      ],
      "execution_count": null,
      "outputs": [
        {
          "output_type": "execute_result",
          "data": {
            "text/plain": [
              "2    15810\n",
              "1    13503\n",
              "3      372\n",
              "Name: MARRIAGE, dtype: int64"
            ]
          },
          "metadata": {
            "tags": []
          },
          "execution_count": 264
        }
      ]
    },
    {
      "cell_type": "markdown",
      "metadata": {
        "id": "BrZMXwJr_pbo",
        "colab_type": "text"
      },
      "source": [
        "Now instead of removing rows with `PAY_1` = 'Not available', as done in Chapter 1, here select these out for addition to training and testing splits."
      ]
    },
    {
      "cell_type": "code",
      "metadata": {
        "id": "20MaqPah_pbp",
        "colab_type": "code",
        "colab": {
          "base_uri": "https://localhost:8080/",
          "height": 238
        },
        "outputId": "c47580fa-aef3-4048-b283-925bec3a74cd"
      },
      "source": [
        "df_clean['PAY_1'].value_counts()\n",
        "# 0                13087\n",
        "# -1                5047\n",
        "# 1                 3261\n",
        "# Not available     3021\n",
        "# -2                2476\n",
        "# 2                 2378\n",
        "# 3                  292\n",
        "# 4                   63\n",
        "# 5                   23\n",
        "# 8                   17\n",
        "# 6                   11\n",
        "# 7                    9\n",
        "# Name: PAY_1, dtype: int64"
      ],
      "execution_count": null,
      "outputs": [
        {
          "output_type": "execute_result",
          "data": {
            "text/plain": [
              "0                13087\n",
              "-1                5047\n",
              "1                 3261\n",
              "Not available     3021\n",
              "-2                2476\n",
              "2                 2378\n",
              "3                  292\n",
              "4                   63\n",
              "5                   23\n",
              "8                   17\n",
              "6                   11\n",
              "7                    9\n",
              "Name: PAY_1, dtype: int64"
            ]
          },
          "metadata": {
            "tags": []
          },
          "execution_count": 265
        }
      ]
    },
    {
      "cell_type": "code",
      "metadata": {
        "id": "r6ufZStb_pbu",
        "colab_type": "code",
        "colab": {}
      },
      "source": [
        "missing_pay_1_mask = df_clean['PAY_1'] == 'Not available'"
      ],
      "execution_count": null,
      "outputs": []
    },
    {
      "cell_type": "code",
      "metadata": {
        "id": "seNAw8xh_pbz",
        "colab_type": "code",
        "colab": {
          "base_uri": "https://localhost:8080/",
          "height": 34
        },
        "outputId": "52806124-fd1b-470a-9270-990f5e5ea460"
      },
      "source": [
        "sum(missing_pay_1_mask)\n",
        "# 3021"
      ],
      "execution_count": null,
      "outputs": [
        {
          "output_type": "execute_result",
          "data": {
            "text/plain": [
              "3021"
            ]
          },
          "metadata": {
            "tags": []
          },
          "execution_count": 267
        }
      ]
    },
    {
      "cell_type": "code",
      "metadata": {
        "id": "IwQz-DL8_pb3",
        "colab_type": "code",
        "colab": {}
      },
      "source": [
        "df_missing_pay_1 = df_clean.loc[missing_pay_1_mask,:].copy()"
      ],
      "execution_count": null,
      "outputs": []
    },
    {
      "cell_type": "code",
      "metadata": {
        "id": "VTB6T3X1_pb7",
        "colab_type": "code",
        "colab": {
          "base_uri": "https://localhost:8080/",
          "height": 34
        },
        "outputId": "1d8571c3-f02f-49cd-ded6-6cf6c1e1725a"
      },
      "source": [
        "df_missing_pay_1.shape\n",
        "# (3021, 25)"
      ],
      "execution_count": null,
      "outputs": [
        {
          "output_type": "execute_result",
          "data": {
            "text/plain": [
              "(3021, 25)"
            ]
          },
          "metadata": {
            "tags": []
          },
          "execution_count": 269
        }
      ]
    },
    {
      "cell_type": "code",
      "metadata": {
        "id": "bLExDcMi_pb_",
        "colab_type": "code",
        "colab": {
          "base_uri": "https://localhost:8080/",
          "height": 85
        },
        "outputId": "232f2f79-afb3-4781-bfbd-ae33dabbe195"
      },
      "source": [
        "df_missing_pay_1['PAY_1'].head(3)"
      ],
      "execution_count": null,
      "outputs": [
        {
          "output_type": "execute_result",
          "data": {
            "text/plain": [
              "17    Not available\n",
              "28    Not available\n",
              "29    Not available\n",
              "Name: PAY_1, dtype: object"
            ]
          },
          "metadata": {
            "tags": []
          },
          "execution_count": 270
        }
      ]
    },
    {
      "cell_type": "code",
      "metadata": {
        "id": "1lZt_Wc0_pcD",
        "colab_type": "code",
        "colab": {
          "base_uri": "https://localhost:8080/",
          "height": 51
        },
        "outputId": "d44a56d1-2926-4698-c0ea-0027c0e4cdb6"
      },
      "source": [
        "df_missing_pay_1['PAY_1'].value_counts()"
      ],
      "execution_count": null,
      "outputs": [
        {
          "output_type": "execute_result",
          "data": {
            "text/plain": [
              "Not available    3021\n",
              "Name: PAY_1, dtype: int64"
            ]
          },
          "metadata": {
            "tags": []
          },
          "execution_count": 271
        }
      ]
    },
    {
      "cell_type": "code",
      "metadata": {
        "id": "Nf9nWSra_pcH",
        "colab_type": "code",
        "colab": {
          "base_uri": "https://localhost:8080/",
          "height": 119
        },
        "outputId": "53e3403b-2352-488e-ba1b-5d333a0cd867"
      },
      "source": [
        "df_missing_pay_1.columns"
      ],
      "execution_count": null,
      "outputs": [
        {
          "output_type": "execute_result",
          "data": {
            "text/plain": [
              "Index(['ID', 'LIMIT_BAL', 'SEX', 'EDUCATION', 'MARRIAGE', 'AGE', 'PAY_1',\n",
              "       'PAY_2', 'PAY_3', 'PAY_4', 'PAY_5', 'PAY_6', 'BILL_AMT1', 'BILL_AMT2',\n",
              "       'BILL_AMT3', 'BILL_AMT4', 'BILL_AMT5', 'BILL_AMT6', 'PAY_AMT1',\n",
              "       'PAY_AMT2', 'PAY_AMT3', 'PAY_AMT4', 'PAY_AMT5', 'PAY_AMT6',\n",
              "       'default payment next month'],\n",
              "      dtype='object')"
            ]
          },
          "metadata": {
            "tags": []
          },
          "execution_count": 272
        }
      ]
    },
    {
      "cell_type": "markdown",
      "metadata": {
        "id": "1RkM9VsM_pcN",
        "colab_type": "text"
      },
      "source": [
        "Load cleaned data"
      ]
    },
    {
      "cell_type": "code",
      "metadata": {
        "id": "g0h8aQT-_pcN",
        "colab_type": "code",
        "colab": {}
      },
      "source": [
        "df = pd.read_csv('/content/drive/My Drive/cleaned_data.csv')"
      ],
      "execution_count": null,
      "outputs": []
    },
    {
      "cell_type": "code",
      "metadata": {
        "id": "pLT3Bs1i_pcS",
        "colab_type": "code",
        "colab": {
          "base_uri": "https://localhost:8080/",
          "height": 136
        },
        "outputId": "7c672870-87ae-440e-965c-0fad38b4b622"
      },
      "source": [
        "df.columns"
      ],
      "execution_count": null,
      "outputs": [
        {
          "output_type": "execute_result",
          "data": {
            "text/plain": [
              "Index(['ID', 'LIMIT_BAL', 'SEX', 'EDUCATION', 'MARRIAGE', 'AGE', 'PAY_1',\n",
              "       'PAY_2', 'PAY_3', 'PAY_4', 'PAY_5', 'PAY_6', 'BILL_AMT1', 'BILL_AMT2',\n",
              "       'BILL_AMT3', 'BILL_AMT4', 'BILL_AMT5', 'BILL_AMT6', 'PAY_AMT1',\n",
              "       'PAY_AMT2', 'PAY_AMT3', 'PAY_AMT4', 'PAY_AMT5', 'PAY_AMT6',\n",
              "       'default payment next month', 'EDUCATION_CAT', 'graduate school',\n",
              "       'high school', 'others', 'university'],\n",
              "      dtype='object')"
            ]
          },
          "metadata": {
            "tags": []
          },
          "execution_count": 274
        }
      ]
    },
    {
      "cell_type": "code",
      "metadata": {
        "id": "qmrAoWtN_pcX",
        "colab_type": "code",
        "colab": {}
      },
      "source": [
        "features_response = df.columns.tolist()"
      ],
      "execution_count": null,
      "outputs": []
    },
    {
      "cell_type": "code",
      "metadata": {
        "id": "c8dCigNg_pcb",
        "colab_type": "code",
        "colab": {}
      },
      "source": [
        "items_to_remove = ['ID', 'SEX', 'PAY_2', 'PAY_3', 'PAY_4', 'PAY_5', 'PAY_6',\n",
        "                   'EDUCATION_CAT', 'graduate school', 'high school', 'none',\n",
        "                   'others', 'university']"
      ],
      "execution_count": null,
      "outputs": []
    },
    {
      "cell_type": "code",
      "metadata": {
        "id": "-l12x3su_pce",
        "colab_type": "code",
        "colab": {
          "base_uri": "https://localhost:8080/",
          "height": 323
        },
        "outputId": "b729cc34-6857-4d1f-cdc5-1300c6badcd5"
      },
      "source": [
        "features_response = [item for item in features_response if item not in items_to_remove]\n",
        "features_response"
      ],
      "execution_count": null,
      "outputs": [
        {
          "output_type": "execute_result",
          "data": {
            "text/plain": [
              "['LIMIT_BAL',\n",
              " 'EDUCATION',\n",
              " 'MARRIAGE',\n",
              " 'AGE',\n",
              " 'PAY_1',\n",
              " 'BILL_AMT1',\n",
              " 'BILL_AMT2',\n",
              " 'BILL_AMT3',\n",
              " 'BILL_AMT4',\n",
              " 'BILL_AMT5',\n",
              " 'BILL_AMT6',\n",
              " 'PAY_AMT1',\n",
              " 'PAY_AMT2',\n",
              " 'PAY_AMT3',\n",
              " 'PAY_AMT4',\n",
              " 'PAY_AMT5',\n",
              " 'PAY_AMT6',\n",
              " 'default payment next month']"
            ]
          },
          "metadata": {
            "tags": []
          },
          "execution_count": 277
        }
      ]
    },
    {
      "cell_type": "markdown",
      "metadata": {
        "id": "3LvAgJxq_pch",
        "colab_type": "text"
      },
      "source": [
        "##### Mode and Random Imputation of `PAY_1`"
      ]
    },
    {
      "cell_type": "code",
      "metadata": {
        "id": "0EoLiSCE_pch",
        "colab_type": "code",
        "colab": {}
      },
      "source": [
        "from sklearn.model_selection import train_test_split"
      ],
      "execution_count": null,
      "outputs": []
    },
    {
      "cell_type": "code",
      "metadata": {
        "id": "yOzMXDzE_pcm",
        "colab_type": "code",
        "colab": {}
      },
      "source": [
        "X_train, X_test, y_train, y_test = \\\n",
        "train_test_split(df[features_response[:-1]].values, df['default payment next month'].values,\n",
        "test_size=0.2, random_state=24)"
      ],
      "execution_count": null,
      "outputs": []
    },
    {
      "cell_type": "code",
      "metadata": {
        "id": "vd7xI7TQ_pcq",
        "colab_type": "code",
        "colab": {
          "base_uri": "https://localhost:8080/",
          "height": 85
        },
        "outputId": "079ebeef-31d7-41fa-d11e-034b8d69dd98"
      },
      "source": [
        "print(X_train.shape)\n",
        "print(X_test.shape)\n",
        "print(y_train.shape)\n",
        "print(y_test.shape)\n",
        "# (21331, 17)\n",
        "# (5333, 17)\n",
        "# (21331,)\n",
        "# (5333,)"
      ],
      "execution_count": null,
      "outputs": [
        {
          "output_type": "stream",
          "text": [
            "(21331, 17)\n",
            "(5333, 17)\n",
            "(21331,)\n",
            "(5333,)\n"
          ],
          "name": "stdout"
        }
      ]
    },
    {
      "cell_type": "code",
      "metadata": {
        "id": "41yGDctA_pcu",
        "colab_type": "code",
        "colab": {
          "base_uri": "https://localhost:8080/",
          "height": 34
        },
        "outputId": "49e75cd4-f3ae-48ee-ad24-016d8e683550"
      },
      "source": [
        "df_missing_pay_1.shape"
      ],
      "execution_count": null,
      "outputs": [
        {
          "output_type": "execute_result",
          "data": {
            "text/plain": [
              "(3021, 25)"
            ]
          },
          "metadata": {
            "tags": []
          },
          "execution_count": 281
        }
      ]
    },
    {
      "cell_type": "code",
      "metadata": {
        "id": "Ncnzz1B9_pcx",
        "colab_type": "code",
        "colab": {
          "base_uri": "https://localhost:8080/",
          "height": 35
        },
        "outputId": "37e35689-cad8-4522-de61-c329cb1c5543"
      },
      "source": [
        "features_response[4]"
      ],
      "execution_count": null,
      "outputs": [
        {
          "output_type": "execute_result",
          "data": {
            "application/vnd.google.colaboratory.intrinsic+json": {
              "type": "string"
            },
            "text/plain": [
              "'PAY_1'"
            ]
          },
          "metadata": {
            "tags": []
          },
          "execution_count": 282
        }
      ]
    },
    {
      "cell_type": "code",
      "metadata": {
        "id": "Kq4r3LWM_pc1",
        "colab_type": "code",
        "colab": {
          "base_uri": "https://localhost:8080/",
          "height": 34
        },
        "outputId": "1aff9b47-b152-4a42-e305-78284955b077"
      },
      "source": [
        "np.median(X_train[:,4])"
      ],
      "execution_count": null,
      "outputs": [
        {
          "output_type": "execute_result",
          "data": {
            "text/plain": [
              "0.0"
            ]
          },
          "metadata": {
            "tags": []
          },
          "execution_count": 283
        }
      ]
    },
    {
      "cell_type": "code",
      "metadata": {
        "id": "pTGTlq0o_pc4",
        "colab_type": "code",
        "colab": {}
      },
      "source": [
        "np.random.seed(seed=1)\n",
        "fill_values = [0, np.random.choice(X_train[:,4], size=(3021,), replace=True)]"
      ],
      "execution_count": null,
      "outputs": []
    },
    {
      "cell_type": "code",
      "metadata": {
        "id": "qho0K26k_pc7",
        "colab_type": "code",
        "colab": {}
      },
      "source": [
        "fill_strategy = ['mode', 'random']"
      ],
      "execution_count": null,
      "outputs": []
    },
    {
      "cell_type": "code",
      "metadata": {
        "id": "pNEu69d4_pc-",
        "colab_type": "code",
        "colab": {
          "base_uri": "https://localhost:8080/",
          "height": 34
        },
        "outputId": "ec2caf57-1d7a-421e-e0fd-8d6080b31d6f"
      },
      "source": [
        "fill_values[-1]"
      ],
      "execution_count": null,
      "outputs": [
        {
          "output_type": "execute_result",
          "data": {
            "text/plain": [
              "array([ 0,  0,  0, ...,  2,  0, -2])"
            ]
          },
          "metadata": {
            "tags": []
          },
          "execution_count": 286
        }
      ]
    },
    {
      "cell_type": "code",
      "metadata": {
        "id": "BTbC_a56_pdB",
        "colab_type": "code",
        "colab": {
          "base_uri": "https://localhost:8080/",
          "height": 225
        },
        "outputId": "8ca18f2a-f7b3-408a-e639-c20cec1be399"
      },
      "source": [
        "fig, axs = plt.subplots(1,2, figsize=(8,3))\n",
        "bin_edges = np.arange(-2,9)\n",
        "axs[0].hist(X_train[:,4], bins=bin_edges, align='left')\n",
        "axs[0].set_xticks(bin_edges)\n",
        "axs[0].set_title('Non-missing values of PAY_1')\n",
        "axs[1].hist(fill_values[-1], bins=bin_edges, align='left')\n",
        "axs[1].set_xticks(bin_edges)\n",
        "axs[1].set_title('Random selection for imputation')\n",
        "plt.tight_layout()"
      ],
      "execution_count": null,
      "outputs": [
        {
          "output_type": "display_data",
          "data": {
            "image/png": "[encoded data removed]",
            "text/plain": [
              "<Figure size 576x216 with 2 Axes>"
            ]
          },
          "metadata": {
            "tags": [],
            "needs_background": "light"
          }
        }
      ]
    },
    {
      "cell_type": "markdown",
      "metadata": {
        "id": "VOz7YHVs_pdE",
        "colab_type": "text"
      },
      "source": [
        "To do cross-validation on the training set, now we need to shuffle since all the samples with missing `PAY_1` were concatenated on to the end."
      ]
    },
    {
      "cell_type": "code",
      "metadata": {
        "id": "d4LavPTS_pdE",
        "colab_type": "code",
        "colab": {}
      },
      "source": [
        "from sklearn.model_selection import KFold"
      ],
      "execution_count": null,
      "outputs": []
    },
    {
      "cell_type": "code",
      "metadata": {
        "id": "6OUHL-6g_pdH",
        "colab_type": "code",
        "colab": {}
      },
      "source": [
        "k_folds = KFold(n_splits=4, shuffle=True, random_state=1)"
      ],
      "execution_count": null,
      "outputs": []
    },
    {
      "cell_type": "markdown",
      "metadata": {
        "id": "4htVzyg1_pdN",
        "colab_type": "text"
      },
      "source": [
        "Don't need to do a grid search, so we can use `cross_validate`"
      ]
    },
    {
      "cell_type": "code",
      "metadata": {
        "id": "bWHGlUEQ_pdO",
        "colab_type": "code",
        "colab": {}
      },
      "source": [
        "from sklearn.model_selection import cross_validate"
      ],
      "execution_count": null,
      "outputs": []
    },
    {
      "cell_type": "markdown",
      "metadata": {
        "id": "S61mrBdq_pdS",
        "colab_type": "text"
      },
      "source": [
        "For the estimator, set the optimal hyperparameters determined in previous chapter."
      ]
    },
    {
      "cell_type": "code",
      "metadata": {
        "id": "FlKWO2Ua_pdS",
        "colab_type": "code",
        "colab": {}
      },
      "source": [
        "from sklearn.ensemble import RandomForestClassifier"
      ],
      "execution_count": null,
      "outputs": []
    },
    {
      "cell_type": "code",
      "metadata": {
        "id": "jM-AFjr6_pdY",
        "colab_type": "code",
        "colab": {}
      },
      "source": [
        "rf = RandomForestClassifier\\\n",
        "(n_estimators=200, criterion='gini', max_depth=9,\n",
        "min_samples_split=2, min_samples_leaf=1, min_weight_fraction_leaf=0.0,\n",
        "max_features='auto', max_leaf_nodes=None, min_impurity_decrease=0.0,\n",
        "min_impurity_split=None, bootstrap=True, oob_score=False, n_jobs=None,\n",
        "random_state=4, verbose=1, warm_start=False, class_weight=None)"
      ],
      "execution_count": null,
      "outputs": []
    },
    {
      "cell_type": "code",
      "metadata": {
        "id": "724emy3T_pda",
        "colab_type": "code",
        "colab": {
          "base_uri": "https://localhost:8080/",
          "height": 119
        },
        "outputId": "fae432ad-7d95-495f-a073-e7ffb9eff990"
      },
      "source": [
        "for counter in range(len(fill_values)):\n",
        "    #Copy the data frame with missing PAY_1 and assign imputed values\n",
        "    df_fill_pay_1_filled = df_missing_pay_1.copy()\n",
        "    df_fill_pay_1_filled['PAY_1'] = fill_values[counter]\n",
        "    \n",
        "    #Split imputed data in to training and testing, using the same\n",
        "    #80/20 split we have used for the data with non-missing PAY_1\n",
        "    X_fill_pay_1_train, X_fill_pay_1_test, y_fill_pay_1_train, y_fill_pay_1_test = \\\n",
        "    train_test_split(\n",
        "        df_fill_pay_1_filled[features_response[:-1]].values,\n",
        "        df_fill_pay_1_filled['default payment next month'].values,\n",
        "    test_size=0.2, random_state=24)\n",
        "    \n",
        "    #Concatenate the imputed data with the array of non-missing data\n",
        "    X_train_all = np.concatenate((X_train, X_fill_pay_1_train), axis=0)\n",
        "    y_train_all = np.concatenate((y_train, y_fill_pay_1_train), axis=0)\n",
        "    \n",
        "    #Use the KFolds splitter and the random forest model to get\n",
        "    #4-fold cross-validation scores for both imputation methods\n",
        "    imputation_compare_cv = cross_validate(rf, X_train_all, y_train_all, scoring='roc_auc',\n",
        "                                       cv=k_folds, n_jobs=-1, verbose=1,\n",
        "                                       return_train_score=True, return_estimator=True,\n",
        "                                       error_score='raise-deprecating')\n",
        "    \n",
        "    test_score = imputation_compare_cv['test_score']\n",
        "    print(fill_strategy[counter] + ' imputation: ' +\n",
        "          'mean testing score ' + str(np.mean(test_score)) +\n",
        "          ', std ' + str(np.std(test_score)))"
      ],
      "execution_count": null,
      "outputs": [
        {
          "output_type": "stream",
          "text": [
            "[Parallel(n_jobs=-1)]: Using backend LokyBackend with 2 concurrent workers.\n",
            "[Parallel(n_jobs=-1)]: Done   4 out of   4 | elapsed:   23.2s finished\n",
            "[Parallel(n_jobs=-1)]: Using backend LokyBackend with 2 concurrent workers.\n"
          ],
          "name": "stderr"
        },
        {
          "output_type": "stream",
          "text": [
            "mode imputation: mean testing score 0.772866246168149, std 0.0031479941297533737\n",
            "random imputation: mean testing score 0.7692540439833129, std 0.003660875187678248\n"
          ],
          "name": "stdout"
        },
        {
          "output_type": "stream",
          "text": [
            "[Parallel(n_jobs=-1)]: Done   4 out of   4 | elapsed:   23.3s finished\n"
          ],
          "name": "stderr"
        }
      ]
    },
    {
      "cell_type": "markdown",
      "metadata": {
        "id": "9uVPlUL7_pdi",
        "colab_type": "text"
      },
      "source": [
        "##### A Predictive Model for `PAY_1`"
      ]
    },
    {
      "cell_type": "code",
      "metadata": {
        "id": "LATN1U5w_pdj",
        "colab_type": "code",
        "colab": {}
      },
      "source": [
        "pay_1_df = df.copy()"
      ],
      "execution_count": null,
      "outputs": []
    },
    {
      "cell_type": "code",
      "metadata": {
        "id": "yBpXXhWW_pdo",
        "colab_type": "code",
        "colab": {}
      },
      "source": [
        "features_for_imputation = pay_1_df.columns.tolist()"
      ],
      "execution_count": null,
      "outputs": []
    },
    {
      "cell_type": "code",
      "metadata": {
        "id": "nG19eKi-_pdr",
        "colab_type": "code",
        "colab": {}
      },
      "source": [
        "items_to_remove_2 = ['ID', 'SEX', 'PAY_2', 'PAY_3', 'PAY_4', 'PAY_5', 'PAY_6',\n",
        "                   'EDUCATION_CAT', 'graduate school', 'high school', 'none',\n",
        "                   'others', 'university', 'default payment next month', 'PAY_1']"
      ],
      "execution_count": null,
      "outputs": []
    },
    {
      "cell_type": "code",
      "metadata": {
        "id": "ZQ24zefR_pdu",
        "colab_type": "code",
        "colab": {
          "base_uri": "https://localhost:8080/",
          "height": 289
        },
        "outputId": "68e9672e-78b7-401a-ff99-1dea95ae6ba6"
      },
      "source": [
        "features_for_imputation = [item for item in features_for_imputation if item not in items_to_remove_2]\n",
        "features_for_imputation"
      ],
      "execution_count": null,
      "outputs": [
        {
          "output_type": "execute_result",
          "data": {
            "text/plain": [
              "['LIMIT_BAL',\n",
              " 'EDUCATION',\n",
              " 'MARRIAGE',\n",
              " 'AGE',\n",
              " 'BILL_AMT1',\n",
              " 'BILL_AMT2',\n",
              " 'BILL_AMT3',\n",
              " 'BILL_AMT4',\n",
              " 'BILL_AMT5',\n",
              " 'BILL_AMT6',\n",
              " 'PAY_AMT1',\n",
              " 'PAY_AMT2',\n",
              " 'PAY_AMT3',\n",
              " 'PAY_AMT4',\n",
              " 'PAY_AMT5',\n",
              " 'PAY_AMT6']"
            ]
          },
          "metadata": {
            "tags": []
          },
          "execution_count": 298
        }
      ]
    },
    {
      "cell_type": "markdown",
      "metadata": {
        "id": "Ia3nYK13_pdz",
        "colab_type": "text"
      },
      "source": [
        "##### Building a Multiclass Classification Model for Imputation"
      ]
    },
    {
      "cell_type": "code",
      "metadata": {
        "id": "uYWcXnlo_pd0",
        "colab_type": "code",
        "colab": {}
      },
      "source": [
        "X_impute_train, X_impute_test, y_impute_train, y_impute_test = \\\n",
        "train_test_split(\n",
        "    pay_1_df[features_for_imputation].values,\n",
        "    pay_1_df['PAY_1'].values,\n",
        "test_size=0.2, random_state=24)"
      ],
      "execution_count": null,
      "outputs": []
    },
    {
      "cell_type": "code",
      "metadata": {
        "id": "2w3cLoBi_pd5",
        "colab_type": "code",
        "colab": {}
      },
      "source": [
        "rf_impute_params = {'max_depth':[3, 6, 9, 12],\n",
        "             'n_estimators':[10, 50, 100, 200]}"
      ],
      "execution_count": null,
      "outputs": []
    },
    {
      "cell_type": "code",
      "metadata": {
        "id": "Fy-k9_eq_peA",
        "colab_type": "code",
        "colab": {}
      },
      "source": [
        "from sklearn.model_selection import GridSearchCV"
      ],
      "execution_count": null,
      "outputs": []
    },
    {
      "cell_type": "markdown",
      "metadata": {
        "id": "Y5FEm86C_peD",
        "colab_type": "text"
      },
      "source": [
        "Need to use accuracy here as ROC AUC is not supported for multiclass. Need to use multiclass and not regression because need to limit to integer values of `PAY_1`."
      ]
    },
    {
      "cell_type": "code",
      "metadata": {
        "id": "GtYbZHFz_peI",
        "colab_type": "code",
        "colab": {}
      },
      "source": [
        "cv_rf_impute = GridSearchCV(rf, param_grid=rf_impute_params, scoring='accuracy',\n",
        "                            n_jobs=-1, iid=False, refit=True,\n",
        "                            cv=4, verbose=2, error_score=np.nan, return_train_score=True)"
      ],
      "execution_count": null,
      "outputs": []
    },
    {
      "cell_type": "code",
      "metadata": {
        "scrolled": true,
        "id": "GllhNX0p_peN",
        "colab_type": "code",
        "colab": {
          "base_uri": "https://localhost:8080/",
          "height": 513
        },
        "outputId": "91394ee9-ef21-455e-b953-a1df2515b0d8"
      },
      "source": [
        "cv_rf_impute.fit(X_impute_train, y_impute_train)"
      ],
      "execution_count": null,
      "outputs": [
        {
          "output_type": "stream",
          "text": [
            "Fitting 4 folds for each of 16 candidates, totalling 64 fits\n"
          ],
          "name": "stdout"
        },
        {
          "output_type": "stream",
          "text": [
            "[Parallel(n_jobs=-1)]: Using backend LokyBackend with 2 concurrent workers.\n",
            "[Parallel(n_jobs=-1)]: Done  37 tasks      | elapsed:   51.3s\n",
            "[Parallel(n_jobs=-1)]: Done  64 out of  64 | elapsed:  2.3min finished\n",
            "/usr/local/lib/python3.6/dist-packages/sklearn/model_selection/_search.py:823: FutureWarning: The parameter 'iid' is deprecated in 0.22 and will be removed in 0.24.\n",
            "  \"removed in 0.24.\", FutureWarning\n",
            "[Parallel(n_jobs=1)]: Using backend SequentialBackend with 1 concurrent workers.\n",
            "[Parallel(n_jobs=1)]: Done 200 out of 200 | elapsed:   14.4s finished\n"
          ],
          "name": "stderr"
        },
        {
          "output_type": "execute_result",
          "data": {
            "text/plain": [
              "GridSearchCV(cv=4, error_score=nan,\n",
              "             estimator=RandomForestClassifier(bootstrap=True, ccp_alpha=0.0,\n",
              "                                              class_weight=None,\n",
              "                                              criterion='gini', max_depth=9,\n",
              "                                              max_features='auto',\n",
              "                                              max_leaf_nodes=None,\n",
              "                                              max_samples=None,\n",
              "                                              min_impurity_decrease=0.0,\n",
              "                                              min_impurity_split=None,\n",
              "                                              min_samples_leaf=1,\n",
              "                                              min_samples_split=2,\n",
              "                                              min_weight_fraction_leaf=0.0,\n",
              "                                              n_estimators=200, n_jobs=None,\n",
              "                                              oob_score=False, random_state=4,\n",
              "                                              verbose=1, warm_start=False),\n",
              "             iid=False, n_jobs=-1,\n",
              "             param_grid={'max_depth': [3, 6, 9, 12],\n",
              "                         'n_estimators': [10, 50, 100, 200]},\n",
              "             pre_dispatch='2*n_jobs', refit=True, return_train_score=True,\n",
              "             scoring='accuracy', verbose=2)"
            ]
          },
          "metadata": {
            "tags": []
          },
          "execution_count": 303
        }
      ]
    },
    {
      "cell_type": "code",
      "metadata": {
        "scrolled": true,
        "id": "1XLFRoWM_peR",
        "colab_type": "code",
        "colab": {
          "base_uri": "https://localhost:8080/",
          "height": 1000
        },
        "outputId": "1a98752d-5ac0-455c-cccf-783d51f64b4b"
      },
      "source": [
        "impute_df = pd.DataFrame(cv_rf_impute.cv_results_)\n",
        "impute_df"
      ],
      "execution_count": null,
      "outputs": [
        {
          "output_type": "execute_result",
          "data": {
            "text/html": [
              "<div>\n",
              "<style scoped>\n",
              "    .dataframe tbody tr th:only-of-type {\n",
              "        vertical-align: middle;\n",
              "    }\n",
              "\n",
              "    .dataframe tbody tr th {\n",
              "        vertical-align: top;\n",
              "    }\n",
              "\n",
              "    .dataframe thead th {\n",
              "        text-align: right;\n",
              "    }\n",
              "</style>\n",
              "<table border=\"1\" class=\"dataframe\">\n",
              "  <thead>\n",
              "    <tr style=\"text-align: right;\">\n",
              "      <th></th>\n",
              "      <th>mean_fit_time</th>\n",
              "      <th>std_fit_time</th>\n",
              "      <th>mean_score_time</th>\n",
              "      <th>std_score_time</th>\n",
              "      <th>param_max_depth</th>\n",
              "      <th>param_n_estimators</th>\n",
              "      <th>params</th>\n",
              "      <th>split0_test_score</th>\n",
              "      <th>split1_test_score</th>\n",
              "      <th>split2_test_score</th>\n",
              "      <th>split3_test_score</th>\n",
              "      <th>mean_test_score</th>\n",
              "      <th>std_test_score</th>\n",
              "      <th>rank_test_score</th>\n",
              "      <th>split0_train_score</th>\n",
              "      <th>split1_train_score</th>\n",
              "      <th>split2_train_score</th>\n",
              "      <th>split3_train_score</th>\n",
              "      <th>mean_train_score</th>\n",
              "      <th>std_train_score</th>\n",
              "    </tr>\n",
              "  </thead>\n",
              "  <tbody>\n",
              "    <tr>\n",
              "      <th>0</th>\n",
              "      <td>0.225490</td>\n",
              "      <td>0.007008</td>\n",
              "      <td>0.010330</td>\n",
              "      <td>0.000167</td>\n",
              "      <td>3</td>\n",
              "      <td>10</td>\n",
              "      <td>{'max_depth': 3, 'n_estimators': 10}</td>\n",
              "      <td>0.664729</td>\n",
              "      <td>0.669417</td>\n",
              "      <td>0.671479</td>\n",
              "      <td>0.664291</td>\n",
              "      <td>0.667479</td>\n",
              "      <td>0.003061</td>\n",
              "      <td>15</td>\n",
              "      <td>0.669396</td>\n",
              "      <td>0.670146</td>\n",
              "      <td>0.665146</td>\n",
              "      <td>0.670042</td>\n",
              "      <td>0.668682</td>\n",
              "      <td>0.002062</td>\n",
              "    </tr>\n",
              "    <tr>\n",
              "      <th>1</th>\n",
              "      <td>1.059718</td>\n",
              "      <td>0.006786</td>\n",
              "      <td>0.042696</td>\n",
              "      <td>0.000411</td>\n",
              "      <td>3</td>\n",
              "      <td>50</td>\n",
              "      <td>{'max_depth': 3, 'n_estimators': 50}</td>\n",
              "      <td>0.657979</td>\n",
              "      <td>0.660229</td>\n",
              "      <td>0.660604</td>\n",
              "      <td>0.651350</td>\n",
              "      <td>0.657540</td>\n",
              "      <td>0.003712</td>\n",
              "      <td>16</td>\n",
              "      <td>0.664521</td>\n",
              "      <td>0.657145</td>\n",
              "      <td>0.654082</td>\n",
              "      <td>0.660854</td>\n",
              "      <td>0.659150</td>\n",
              "      <td>0.003920</td>\n",
              "    </tr>\n",
              "    <tr>\n",
              "      <th>2</th>\n",
              "      <td>2.118335</td>\n",
              "      <td>0.012812</td>\n",
              "      <td>0.085862</td>\n",
              "      <td>0.004397</td>\n",
              "      <td>3</td>\n",
              "      <td>100</td>\n",
              "      <td>{'max_depth': 3, 'n_estimators': 100}</td>\n",
              "      <td>0.672605</td>\n",
              "      <td>0.673542</td>\n",
              "      <td>0.675792</td>\n",
              "      <td>0.667854</td>\n",
              "      <td>0.672448</td>\n",
              "      <td>0.002894</td>\n",
              "      <td>13</td>\n",
              "      <td>0.677835</td>\n",
              "      <td>0.675147</td>\n",
              "      <td>0.670521</td>\n",
              "      <td>0.676167</td>\n",
              "      <td>0.674918</td>\n",
              "      <td>0.002713</td>\n",
              "    </tr>\n",
              "    <tr>\n",
              "      <th>3</th>\n",
              "      <td>4.299234</td>\n",
              "      <td>0.023590</td>\n",
              "      <td>0.164722</td>\n",
              "      <td>0.005523</td>\n",
              "      <td>3</td>\n",
              "      <td>200</td>\n",
              "      <td>{'max_depth': 3, 'n_estimators': 200}</td>\n",
              "      <td>0.664917</td>\n",
              "      <td>0.666042</td>\n",
              "      <td>0.675792</td>\n",
              "      <td>0.666354</td>\n",
              "      <td>0.668276</td>\n",
              "      <td>0.004372</td>\n",
              "      <td>14</td>\n",
              "      <td>0.672334</td>\n",
              "      <td>0.668896</td>\n",
              "      <td>0.669021</td>\n",
              "      <td>0.672605</td>\n",
              "      <td>0.670714</td>\n",
              "      <td>0.001758</td>\n",
              "    </tr>\n",
              "    <tr>\n",
              "      <th>4</th>\n",
              "      <td>0.366164</td>\n",
              "      <td>0.007873</td>\n",
              "      <td>0.011136</td>\n",
              "      <td>0.000216</td>\n",
              "      <td>6</td>\n",
              "      <td>10</td>\n",
              "      <td>{'max_depth': 6, 'n_estimators': 10}</td>\n",
              "      <td>0.710294</td>\n",
              "      <td>0.706919</td>\n",
              "      <td>0.713482</td>\n",
              "      <td>0.700675</td>\n",
              "      <td>0.707843</td>\n",
              "      <td>0.004744</td>\n",
              "      <td>12</td>\n",
              "      <td>0.717027</td>\n",
              "      <td>0.717027</td>\n",
              "      <td>0.718465</td>\n",
              "      <td>0.711607</td>\n",
              "      <td>0.716032</td>\n",
              "      <td>0.002621</td>\n",
              "    </tr>\n",
              "    <tr>\n",
              "      <th>5</th>\n",
              "      <td>1.836308</td>\n",
              "      <td>0.008828</td>\n",
              "      <td>0.049398</td>\n",
              "      <td>0.000547</td>\n",
              "      <td>6</td>\n",
              "      <td>50</td>\n",
              "      <td>{'max_depth': 6, 'n_estimators': 50}</td>\n",
              "      <td>0.708419</td>\n",
              "      <td>0.709732</td>\n",
              "      <td>0.713107</td>\n",
              "      <td>0.703863</td>\n",
              "      <td>0.708780</td>\n",
              "      <td>0.003314</td>\n",
              "      <td>11</td>\n",
              "      <td>0.716652</td>\n",
              "      <td>0.716090</td>\n",
              "      <td>0.719777</td>\n",
              "      <td>0.715982</td>\n",
              "      <td>0.717125</td>\n",
              "      <td>0.001552</td>\n",
              "    </tr>\n",
              "    <tr>\n",
              "      <th>6</th>\n",
              "      <td>3.669753</td>\n",
              "      <td>0.009600</td>\n",
              "      <td>0.096175</td>\n",
              "      <td>0.001124</td>\n",
              "      <td>6</td>\n",
              "      <td>100</td>\n",
              "      <td>{'max_depth': 6, 'n_estimators': 100}</td>\n",
              "      <td>0.709544</td>\n",
              "      <td>0.709544</td>\n",
              "      <td>0.714420</td>\n",
              "      <td>0.705926</td>\n",
              "      <td>0.709859</td>\n",
              "      <td>0.003019</td>\n",
              "      <td>10</td>\n",
              "      <td>0.718777</td>\n",
              "      <td>0.716777</td>\n",
              "      <td>0.719152</td>\n",
              "      <td>0.718420</td>\n",
              "      <td>0.718282</td>\n",
              "      <td>0.000906</td>\n",
              "    </tr>\n",
              "    <tr>\n",
              "      <th>7</th>\n",
              "      <td>7.357741</td>\n",
              "      <td>0.024143</td>\n",
              "      <td>0.191208</td>\n",
              "      <td>0.003727</td>\n",
              "      <td>6</td>\n",
              "      <td>200</td>\n",
              "      <td>{'max_depth': 6, 'n_estimators': 200}</td>\n",
              "      <td>0.710669</td>\n",
              "      <td>0.709357</td>\n",
              "      <td>0.715170</td>\n",
              "      <td>0.705551</td>\n",
              "      <td>0.710187</td>\n",
              "      <td>0.003436</td>\n",
              "      <td>9</td>\n",
              "      <td>0.719152</td>\n",
              "      <td>0.717652</td>\n",
              "      <td>0.719715</td>\n",
              "      <td>0.718107</td>\n",
              "      <td>0.718657</td>\n",
              "      <td>0.000818</td>\n",
              "    </tr>\n",
              "    <tr>\n",
              "      <th>8</th>\n",
              "      <td>0.516964</td>\n",
              "      <td>0.003568</td>\n",
              "      <td>0.013408</td>\n",
              "      <td>0.000382</td>\n",
              "      <td>9</td>\n",
              "      <td>10</td>\n",
              "      <td>{'max_depth': 9, 'n_estimators': 10}</td>\n",
              "      <td>0.719670</td>\n",
              "      <td>0.725858</td>\n",
              "      <td>0.721920</td>\n",
              "      <td>0.720743</td>\n",
              "      <td>0.722048</td>\n",
              "      <td>0.002339</td>\n",
              "      <td>7</td>\n",
              "      <td>0.767721</td>\n",
              "      <td>0.773722</td>\n",
              "      <td>0.767221</td>\n",
              "      <td>0.771611</td>\n",
              "      <td>0.770069</td>\n",
              "      <td>0.002709</td>\n",
              "    </tr>\n",
              "    <tr>\n",
              "      <th>9</th>\n",
              "      <td>2.590849</td>\n",
              "      <td>0.015483</td>\n",
              "      <td>0.058905</td>\n",
              "      <td>0.000603</td>\n",
              "      <td>9</td>\n",
              "      <td>50</td>\n",
              "      <td>{'max_depth': 9, 'n_estimators': 50}</td>\n",
              "      <td>0.726608</td>\n",
              "      <td>0.728296</td>\n",
              "      <td>0.725858</td>\n",
              "      <td>0.731808</td>\n",
              "      <td>0.728142</td>\n",
              "      <td>0.002293</td>\n",
              "      <td>6</td>\n",
              "      <td>0.770284</td>\n",
              "      <td>0.774347</td>\n",
              "      <td>0.771471</td>\n",
              "      <td>0.770611</td>\n",
              "      <td>0.771678</td>\n",
              "      <td>0.001601</td>\n",
              "    </tr>\n",
              "    <tr>\n",
              "      <th>10</th>\n",
              "      <td>5.157803</td>\n",
              "      <td>0.015472</td>\n",
              "      <td>0.116520</td>\n",
              "      <td>0.000661</td>\n",
              "      <td>9</td>\n",
              "      <td>100</td>\n",
              "      <td>{'max_depth': 9, 'n_estimators': 100}</td>\n",
              "      <td>0.728483</td>\n",
              "      <td>0.726608</td>\n",
              "      <td>0.725858</td>\n",
              "      <td>0.732371</td>\n",
              "      <td>0.728330</td>\n",
              "      <td>0.002521</td>\n",
              "      <td>5</td>\n",
              "      <td>0.770284</td>\n",
              "      <td>0.772534</td>\n",
              "      <td>0.775409</td>\n",
              "      <td>0.770298</td>\n",
              "      <td>0.772131</td>\n",
              "      <td>0.002103</td>\n",
              "    </tr>\n",
              "    <tr>\n",
              "      <th>11</th>\n",
              "      <td>10.328715</td>\n",
              "      <td>0.056931</td>\n",
              "      <td>0.228927</td>\n",
              "      <td>0.007331</td>\n",
              "      <td>9</td>\n",
              "      <td>200</td>\n",
              "      <td>{'max_depth': 9, 'n_estimators': 200}</td>\n",
              "      <td>0.729608</td>\n",
              "      <td>0.726983</td>\n",
              "      <td>0.726045</td>\n",
              "      <td>0.731808</td>\n",
              "      <td>0.728611</td>\n",
              "      <td>0.002261</td>\n",
              "      <td>4</td>\n",
              "      <td>0.771409</td>\n",
              "      <td>0.773472</td>\n",
              "      <td>0.775534</td>\n",
              "      <td>0.770361</td>\n",
              "      <td>0.772694</td>\n",
              "      <td>0.001986</td>\n",
              "    </tr>\n",
              "    <tr>\n",
              "      <th>12</th>\n",
              "      <td>0.647370</td>\n",
              "      <td>0.002984</td>\n",
              "      <td>0.015272</td>\n",
              "      <td>0.000278</td>\n",
              "      <td>12</td>\n",
              "      <td>10</td>\n",
              "      <td>{'max_depth': 12, 'n_estimators': 10}</td>\n",
              "      <td>0.721170</td>\n",
              "      <td>0.716670</td>\n",
              "      <td>0.719295</td>\n",
              "      <td>0.719617</td>\n",
              "      <td>0.719188</td>\n",
              "      <td>0.001618</td>\n",
              "      <td>8</td>\n",
              "      <td>0.835792</td>\n",
              "      <td>0.850919</td>\n",
              "      <td>0.845668</td>\n",
              "      <td>0.847053</td>\n",
              "      <td>0.844858</td>\n",
              "      <td>0.005577</td>\n",
              "    </tr>\n",
              "    <tr>\n",
              "      <th>13</th>\n",
              "      <td>3.244668</td>\n",
              "      <td>0.017664</td>\n",
              "      <td>0.069535</td>\n",
              "      <td>0.001173</td>\n",
              "      <td>12</td>\n",
              "      <td>50</td>\n",
              "      <td>{'max_depth': 12, 'n_estimators': 50}</td>\n",
              "      <td>0.734858</td>\n",
              "      <td>0.728858</td>\n",
              "      <td>0.729046</td>\n",
              "      <td>0.732558</td>\n",
              "      <td>0.731330</td>\n",
              "      <td>0.002514</td>\n",
              "      <td>3</td>\n",
              "      <td>0.854732</td>\n",
              "      <td>0.860983</td>\n",
              "      <td>0.862233</td>\n",
              "      <td>0.858741</td>\n",
              "      <td>0.859172</td>\n",
              "      <td>0.002853</td>\n",
              "    </tr>\n",
              "    <tr>\n",
              "      <th>14</th>\n",
              "      <td>6.480016</td>\n",
              "      <td>0.052813</td>\n",
              "      <td>0.136092</td>\n",
              "      <td>0.002625</td>\n",
              "      <td>12</td>\n",
              "      <td>100</td>\n",
              "      <td>{'max_depth': 12, 'n_estimators': 100}</td>\n",
              "      <td>0.731858</td>\n",
              "      <td>0.731296</td>\n",
              "      <td>0.731483</td>\n",
              "      <td>0.734246</td>\n",
              "      <td>0.732221</td>\n",
              "      <td>0.001187</td>\n",
              "      <td>2</td>\n",
              "      <td>0.858545</td>\n",
              "      <td>0.860545</td>\n",
              "      <td>0.864671</td>\n",
              "      <td>0.860116</td>\n",
              "      <td>0.860969</td>\n",
              "      <td>0.002263</td>\n",
              "    </tr>\n",
              "    <tr>\n",
              "      <th>15</th>\n",
              "      <td>12.932770</td>\n",
              "      <td>0.045264</td>\n",
              "      <td>0.272076</td>\n",
              "      <td>0.006447</td>\n",
              "      <td>12</td>\n",
              "      <td>200</td>\n",
              "      <td>{'max_depth': 12, 'n_estimators': 200}</td>\n",
              "      <td>0.734858</td>\n",
              "      <td>0.731858</td>\n",
              "      <td>0.733546</td>\n",
              "      <td>0.737434</td>\n",
              "      <td>0.734424</td>\n",
              "      <td>0.002037</td>\n",
              "      <td>1</td>\n",
              "      <td>0.858920</td>\n",
              "      <td>0.861608</td>\n",
              "      <td>0.863358</td>\n",
              "      <td>0.861554</td>\n",
              "      <td>0.861360</td>\n",
              "      <td>0.001585</td>\n",
              "    </tr>\n",
              "  </tbody>\n",
              "</table>\n",
              "</div>"
            ],
            "text/plain": [
              "    mean_fit_time  std_fit_time  ...  mean_train_score  std_train_score\n",
              "0        0.225490      0.007008  ...          0.668682         0.002062\n",
              "1        1.059718      0.006786  ...          0.659150         0.003920\n",
              "2        2.118335      0.012812  ...          0.674918         0.002713\n",
              "3        4.299234      0.023590  ...          0.670714         0.001758\n",
              "4        0.366164      0.007873  ...          0.716032         0.002621\n",
              "5        1.836308      0.008828  ...          0.717125         0.001552\n",
              "6        3.669753      0.009600  ...          0.718282         0.000906\n",
              "7        7.357741      0.024143  ...          0.718657         0.000818\n",
              "8        0.516964      0.003568  ...          0.770069         0.002709\n",
              "9        2.590849      0.015483  ...          0.771678         0.001601\n",
              "10       5.157803      0.015472  ...          0.772131         0.002103\n",
              "11      10.328715      0.056931  ...          0.772694         0.001986\n",
              "12       0.647370      0.002984  ...          0.844858         0.005577\n",
              "13       3.244668      0.017664  ...          0.859172         0.002853\n",
              "14       6.480016      0.052813  ...          0.860969         0.002263\n",
              "15      12.932770      0.045264  ...          0.861360         0.001585\n",
              "\n",
              "[16 rows x 20 columns]"
            ]
          },
          "metadata": {
            "tags": []
          },
          "execution_count": 304
        }
      ]
    },
    {
      "cell_type": "code",
      "metadata": {
        "id": "ydMy_Z-h_peV",
        "colab_type": "code",
        "colab": {
          "base_uri": "https://localhost:8080/",
          "height": 34
        },
        "outputId": "6a016ac2-3d8c-47d6-f0d4-21c2ab248429"
      },
      "source": [
        "cv_rf_impute.best_params_\n",
        "# {'max_depth': 12, 'n_estimators': 100}"
      ],
      "execution_count": null,
      "outputs": [
        {
          "output_type": "execute_result",
          "data": {
            "text/plain": [
              "{'max_depth': 12, 'n_estimators': 200}"
            ]
          },
          "metadata": {
            "tags": []
          },
          "execution_count": 305
        }
      ]
    },
    {
      "cell_type": "code",
      "metadata": {
        "id": "usZOUrZP_pea",
        "colab_type": "code",
        "colab": {
          "base_uri": "https://localhost:8080/",
          "height": 34
        },
        "outputId": "e18372e8-b0d0-4e32-89bc-bf7cb37f3b27"
      },
      "source": [
        "cv_rf_impute.best_score_\n",
        "# 0.7337676389523727"
      ],
      "execution_count": null,
      "outputs": [
        {
          "output_type": "execute_result",
          "data": {
            "text/plain": [
              "0.7344242187492307"
            ]
          },
          "metadata": {
            "tags": []
          },
          "execution_count": 306
        }
      ]
    },
    {
      "cell_type": "code",
      "metadata": {
        "id": "i2O9BckE_pee",
        "colab_type": "code",
        "colab": {}
      },
      "source": [
        "pay_1_value_counts = pay_1_df['PAY_1'].value_counts().sort_index()"
      ],
      "execution_count": null,
      "outputs": []
    },
    {
      "cell_type": "code",
      "metadata": {
        "id": "6xe671Gr_peh",
        "colab_type": "code",
        "colab": {
          "base_uri": "https://localhost:8080/",
          "height": 221
        },
        "outputId": "477e8014-1ac0-430d-aeea-07b34e644c52"
      },
      "source": [
        "pay_1_value_counts"
      ],
      "execution_count": null,
      "outputs": [
        {
          "output_type": "execute_result",
          "data": {
            "text/plain": [
              "-2     2476\n",
              "-1     5047\n",
              " 0    13087\n",
              " 1     3261\n",
              " 2     2378\n",
              " 3      292\n",
              " 4       63\n",
              " 5       23\n",
              " 6       11\n",
              " 7        9\n",
              " 8       17\n",
              "Name: PAY_1, dtype: int64"
            ]
          },
          "metadata": {
            "tags": []
          },
          "execution_count": 308
        }
      ]
    },
    {
      "cell_type": "code",
      "metadata": {
        "id": "ld67iYu2_pek",
        "colab_type": "code",
        "colab": {
          "base_uri": "https://localhost:8080/",
          "height": 221
        },
        "outputId": "bcb18ef4-9957-4640-be9d-4ae7046fa36c"
      },
      "source": [
        "pay_1_value_counts/pay_1_value_counts.sum()"
      ],
      "execution_count": null,
      "outputs": [
        {
          "output_type": "execute_result",
          "data": {
            "text/plain": [
              "-2    0.092859\n",
              "-1    0.189281\n",
              " 0    0.490812\n",
              " 1    0.122300\n",
              " 2    0.089184\n",
              " 3    0.010951\n",
              " 4    0.002363\n",
              " 5    0.000863\n",
              " 6    0.000413\n",
              " 7    0.000338\n",
              " 8    0.000638\n",
              "Name: PAY_1, dtype: float64"
            ]
          },
          "metadata": {
            "tags": []
          },
          "execution_count": 309
        }
      ]
    },
    {
      "cell_type": "code",
      "metadata": {
        "id": "5sJjDZN3_pen",
        "colab_type": "code",
        "colab": {
          "base_uri": "https://localhost:8080/",
          "height": 51
        },
        "outputId": "47288c33-3fc9-4987-ac8a-abe30bb2e1c6"
      },
      "source": [
        "y_impute_predict = cv_rf_impute.predict(X_impute_test)"
      ],
      "execution_count": null,
      "outputs": [
        {
          "output_type": "stream",
          "text": [
            "[Parallel(n_jobs=1)]: Using backend SequentialBackend with 1 concurrent workers.\n",
            "[Parallel(n_jobs=1)]: Done 200 out of 200 | elapsed:    0.2s finished\n"
          ],
          "name": "stderr"
        }
      ]
    },
    {
      "cell_type": "code",
      "metadata": {
        "id": "T06Fh6dj_per",
        "colab_type": "code",
        "colab": {}
      },
      "source": [
        "from sklearn import metrics"
      ],
      "execution_count": null,
      "outputs": []
    },
    {
      "cell_type": "code",
      "metadata": {
        "id": "bN5zkhzi_peu",
        "colab_type": "code",
        "colab": {
          "base_uri": "https://localhost:8080/",
          "height": 34
        },
        "outputId": "ff978d51-fe8c-4d7a-9dcc-91cdc4b78cb6"
      },
      "source": [
        "metrics.accuracy_score(y_impute_test, y_impute_predict)"
      ],
      "execution_count": null,
      "outputs": [
        {
          "output_type": "execute_result",
          "data": {
            "text/plain": [
              "0.7391711981998875"
            ]
          },
          "metadata": {
            "tags": []
          },
          "execution_count": 326
        }
      ]
    },
    {
      "cell_type": "code",
      "metadata": {
        "id": "L_JA0Gvs_pew",
        "colab_type": "code",
        "colab": {
          "base_uri": "https://localhost:8080/",
          "height": 297
        },
        "outputId": "111d183a-46a0-4019-a38c-5ce188723869"
      },
      "source": [
        "fig, axs = plt.subplots(1,2)\n",
        "axs[0].hist(y_impute_test, bins=bin_edges, align='left')\n",
        "axs[0].set_xticks(bin_edges)\n",
        "axs[0].set_title('Non-missing values of PAY_1')\n",
        "axs[1].hist(y_impute_predict, bins=bin_edges, align='left')\n",
        "axs[1].set_xticks(bin_edges)\n",
        "axs[1].set_title('Model-based imputation')\n",
        "plt.tight_layout()"
      ],
      "execution_count": null,
      "outputs": [
        {
          "output_type": "display_data",
          "data": {
            "image/png": "[encoded data removed]",
            "text/plain": [
              "<Figure size 432x288 with 2 Axes>"
            ]
          },
          "metadata": {
            "tags": [],
            "needs_background": "light"
          }
        }
      ]
    },
    {
      "cell_type": "code",
      "metadata": {
        "id": "7l68XvOQ_pez",
        "colab_type": "code",
        "colab": {
          "base_uri": "https://localhost:8080/",
          "height": 136
        },
        "outputId": "312f8c2d-b1b0-4011-e53b-c13885e7bc90"
      },
      "source": [
        "X_impute_all = pay_1_df[features_for_imputation].values\n",
        "y_impute_all = pay_1_df['PAY_1'].values\n",
        "X_impute_all"
      ],
      "execution_count": null,
      "outputs": [
        {
          "output_type": "execute_result",
          "data": {
            "text/plain": [
              "array([[ 20000,      2,      1, ...,      0,      0,      0],\n",
              "       [120000,      2,      2, ...,   1000,      0,   2000],\n",
              "       [ 90000,      2,      2, ...,   1000,   1000,   5000],\n",
              "       ...,\n",
              "       [ 30000,      2,      2, ...,   4200,   2000,   3100],\n",
              "       [ 80000,      3,      1, ...,   1926,  52964,   1804],\n",
              "       [ 50000,      2,      1, ...,   1000,   1000,   1000]])"
            ]
          },
          "metadata": {
            "tags": []
          },
          "execution_count": 330
        }
      ]
    },
    {
      "cell_type": "code",
      "metadata": {
        "id": "LEywzhZn_pe2",
        "colab_type": "code",
        "colab": {}
      },
      "source": [
        "rf_impute = RandomForestClassifier(n_estimators=100, max_depth=12)"
      ],
      "execution_count": null,
      "outputs": []
    },
    {
      "cell_type": "code",
      "metadata": {
        "id": "iU0Q8nfO_pe7",
        "colab_type": "code",
        "colab": {
          "base_uri": "https://localhost:8080/",
          "height": 153
        },
        "outputId": "c9e036b4-a3cc-4f32-beea-2e41c813b36d"
      },
      "source": [
        "rf_impute"
      ],
      "execution_count": null,
      "outputs": [
        {
          "output_type": "execute_result",
          "data": {
            "text/plain": [
              "RandomForestClassifier(bootstrap=True, ccp_alpha=0.0, class_weight=None,\n",
              "                       criterion='gini', max_depth=12, max_features='auto',\n",
              "                       max_leaf_nodes=None, max_samples=None,\n",
              "                       min_impurity_decrease=0.0, min_impurity_split=None,\n",
              "                       min_samples_leaf=1, min_samples_split=2,\n",
              "                       min_weight_fraction_leaf=0.0, n_estimators=100,\n",
              "                       n_jobs=None, oob_score=False, random_state=None,\n",
              "                       verbose=0, warm_start=False)"
            ]
          },
          "metadata": {
            "tags": []
          },
          "execution_count": 332
        }
      ]
    },
    {
      "cell_type": "code",
      "metadata": {
        "id": "mSmODJPo_pe9",
        "colab_type": "code",
        "colab": {
          "base_uri": "https://localhost:8080/",
          "height": 153
        },
        "outputId": "e0c7c5d2-1756-4b25-a719-36a944cc0cd2"
      },
      "source": [
        "rf_impute.fit(X_impute_all, y_impute_all)"
      ],
      "execution_count": null,
      "outputs": [
        {
          "output_type": "execute_result",
          "data": {
            "text/plain": [
              "RandomForestClassifier(bootstrap=True, ccp_alpha=0.0, class_weight=None,\n",
              "                       criterion='gini', max_depth=12, max_features='auto',\n",
              "                       max_leaf_nodes=None, max_samples=None,\n",
              "                       min_impurity_decrease=0.0, min_impurity_split=None,\n",
              "                       min_samples_leaf=1, min_samples_split=2,\n",
              "                       min_weight_fraction_leaf=0.0, n_estimators=100,\n",
              "                       n_jobs=None, oob_score=False, random_state=None,\n",
              "                       verbose=0, warm_start=False)"
            ]
          },
          "metadata": {
            "tags": []
          },
          "execution_count": 333
        }
      ]
    },
    {
      "cell_type": "markdown",
      "metadata": {
        "id": "lslEC-la_pe_",
        "colab_type": "text"
      },
      "source": [
        "##### Using the Imputation Model and Comparing it to Other Methods"
      ]
    },
    {
      "cell_type": "code",
      "metadata": {
        "id": "oMg4coGC_pfA",
        "colab_type": "code",
        "colab": {}
      },
      "source": [
        "df_fill_pay_1_model = df_missing_pay_1.copy()"
      ],
      "execution_count": null,
      "outputs": []
    },
    {
      "cell_type": "code",
      "metadata": {
        "id": "QTJYbB1R_pfF",
        "colab_type": "code",
        "colab": {
          "base_uri": "https://localhost:8080/",
          "height": 221
        },
        "outputId": "6bda3ad7-3b13-4ec7-ae4a-2fed7116c4d4"
      },
      "source": [
        "df_fill_pay_1_model['PAY_1']"
      ],
      "execution_count": null,
      "outputs": [
        {
          "output_type": "execute_result",
          "data": {
            "text/plain": [
              "17       Not available\n",
              "28       Not available\n",
              "29       Not available\n",
              "54       Not available\n",
              "60       Not available\n",
              "             ...      \n",
              "29949    Not available\n",
              "29956    Not available\n",
              "29967    Not available\n",
              "29973    Not available\n",
              "29984    Not available\n",
              "Name: PAY_1, Length: 3021, dtype: object"
            ]
          },
          "metadata": {
            "tags": []
          },
          "execution_count": 336
        }
      ]
    },
    {
      "cell_type": "code",
      "metadata": {
        "id": "rgaoKDW-_pfH",
        "colab_type": "code",
        "colab": {}
      },
      "source": [
        "df_fill_pay_1_model['PAY_1'] = rf_impute.predict(df_fill_pay_1_model[features_for_imputation].values)"
      ],
      "execution_count": null,
      "outputs": []
    },
    {
      "cell_type": "code",
      "metadata": {
        "id": "mNOO8xiX_pfM",
        "colab_type": "code",
        "colab": {
          "base_uri": "https://localhost:8080/",
          "height": 221
        },
        "outputId": "9d5640fe-90b7-48e7-cb60-629fab371651"
      },
      "source": [
        "df_fill_pay_1_model['PAY_1']"
      ],
      "execution_count": null,
      "outputs": [
        {
          "output_type": "execute_result",
          "data": {
            "text/plain": [
              "17       0\n",
              "28      -1\n",
              "29       0\n",
              "54       0\n",
              "60       0\n",
              "        ..\n",
              "29949    0\n",
              "29956   -1\n",
              "29967    0\n",
              "29973    1\n",
              "29984   -1\n",
              "Name: PAY_1, Length: 3021, dtype: int64"
            ]
          },
          "metadata": {
            "tags": []
          },
          "execution_count": 339
        }
      ]
    },
    {
      "cell_type": "code",
      "metadata": {
        "id": "EvpTsbJj_pfP",
        "colab_type": "code",
        "colab": {
          "base_uri": "https://localhost:8080/",
          "height": 170
        },
        "outputId": "2164d615-5050-4b63-c08f-aa8bfbc80dbc"
      },
      "source": [
        "df_fill_pay_1_model['PAY_1'].value_counts().sort_index()"
      ],
      "execution_count": null,
      "outputs": [
        {
          "output_type": "execute_result",
          "data": {
            "text/plain": [
              "-2      36\n",
              "-1     763\n",
              " 0    1718\n",
              " 1     441\n",
              " 2      54\n",
              " 3       7\n",
              " 6       1\n",
              " 8       1\n",
              "Name: PAY_1, dtype: int64"
            ]
          },
          "metadata": {
            "tags": []
          },
          "execution_count": 340
        }
      ]
    },
    {
      "cell_type": "code",
      "metadata": {
        "id": "8UIXDqLQ_pfR",
        "colab_type": "code",
        "colab": {}
      },
      "source": [
        "X_fill_pay_1_train, X_fill_pay_1_test, y_fill_pay_1_train, y_fill_pay_1_test = \\\n",
        "train_test_split(\n",
        "    df_fill_pay_1_model[features_response[:-1]].values,\n",
        "    df_fill_pay_1_model['default payment next month'].values,\n",
        "test_size=0.2, random_state=24)"
      ],
      "execution_count": null,
      "outputs": []
    },
    {
      "cell_type": "code",
      "metadata": {
        "id": "yUXvBimO_pfU",
        "colab_type": "code",
        "colab": {
          "base_uri": "https://localhost:8080/",
          "height": 85
        },
        "outputId": "1acd38df-9f0c-428b-8688-335179d8d5be"
      },
      "source": [
        "print(X_fill_pay_1_train.shape)\n",
        "print(X_fill_pay_1_test.shape)\n",
        "print(y_fill_pay_1_train.shape)\n",
        "print(y_fill_pay_1_test.shape)"
      ],
      "execution_count": null,
      "outputs": [
        {
          "output_type": "stream",
          "text": [
            "(2416, 17)\n",
            "(605, 17)\n",
            "(2416,)\n",
            "(605,)\n"
          ],
          "name": "stdout"
        }
      ]
    },
    {
      "cell_type": "code",
      "metadata": {
        "id": "nPy8JImw_pfc",
        "colab_type": "code",
        "colab": {}
      },
      "source": [
        "X_train_all = np.concatenate((X_train, X_fill_pay_1_train), axis=0)\n",
        "y_train_all = np.concatenate((y_train, y_fill_pay_1_train), axis=0)"
      ],
      "execution_count": null,
      "outputs": []
    },
    {
      "cell_type": "code",
      "metadata": {
        "id": "976_YFIO_pfg",
        "colab_type": "code",
        "colab": {
          "base_uri": "https://localhost:8080/",
          "height": 51
        },
        "outputId": "eb28ea3e-864c-40a1-ec06-a28603ffabf9"
      },
      "source": [
        "print(X_train_all.shape)\n",
        "print(y_train_all.shape)"
      ],
      "execution_count": null,
      "outputs": [
        {
          "output_type": "stream",
          "text": [
            "(23747, 17)\n",
            "(23747,)\n"
          ],
          "name": "stdout"
        }
      ]
    },
    {
      "cell_type": "code",
      "metadata": {
        "id": "i7dt8_-h_pfk",
        "colab_type": "code",
        "colab": {}
      },
      "source": [
        "rf"
      ],
      "execution_count": null,
      "outputs": []
    },
    {
      "cell_type": "code",
      "metadata": {
        "id": "VtRw8gOA_pfq",
        "colab_type": "code",
        "colab": {
          "base_uri": "https://localhost:8080/",
          "height": 51
        },
        "outputId": "4521c17a-5944-4048-dd9d-303b7fd54336"
      },
      "source": [
        "imputation_compare_cv = cross_validate(rf, X_train_all, y_train_all, scoring='roc_auc',\n",
        "                                       cv=k_folds, n_jobs=-1, verbose=1,\n",
        "                                       return_train_score=True, return_estimator=True,\n",
        "                                       error_score='raise-deprecating')"
      ],
      "execution_count": null,
      "outputs": [
        {
          "output_type": "stream",
          "text": [
            "[Parallel(n_jobs=-1)]: Using backend LokyBackend with 2 concurrent workers.\n",
            "[Parallel(n_jobs=-1)]: Done   4 out of   4 | elapsed:   23.1s finished\n"
          ],
          "name": "stderr"
        }
      ]
    },
    {
      "cell_type": "code",
      "metadata": {
        "id": "o-wDcaxC_pfu",
        "colab_type": "code",
        "colab": {
          "base_uri": "https://localhost:8080/",
          "height": 34
        },
        "outputId": "8ba9bd7c-59b1-427f-adcc-b8bcab67cd59"
      },
      "source": [
        "imputation_compare_cv['test_score']\n",
        "# array([0.76890992, 0.77309591, 0.77166336, 0.77703366])"
      ],
      "execution_count": null,
      "outputs": [
        {
          "output_type": "execute_result",
          "data": {
            "text/plain": [
              "array([0.76951226, 0.77230673, 0.77242403, 0.77755446])"
            ]
          },
          "metadata": {
            "tags": []
          },
          "execution_count": 346
        }
      ]
    },
    {
      "cell_type": "code",
      "metadata": {
        "id": "ID4Z-ws7_pfw",
        "colab_type": "code",
        "colab": {
          "base_uri": "https://localhost:8080/",
          "height": 34
        },
        "outputId": "62014ea5-60c1-4432-9289-85aee622658d"
      },
      "source": [
        "np.mean(imputation_compare_cv['test_score'])\n",
        "# 0.7726757126815554"
      ],
      "execution_count": null,
      "outputs": [
        {
          "output_type": "execute_result",
          "data": {
            "text/plain": [
              "0.772949370463094"
            ]
          },
          "metadata": {
            "tags": []
          },
          "execution_count": 347
        }
      ]
    },
    {
      "cell_type": "code",
      "metadata": {
        "id": "Lsq4UW_R_pfz",
        "colab_type": "code",
        "colab": {
          "base_uri": "https://localhost:8080/",
          "height": 34
        },
        "outputId": "6b077c3a-3b92-4fc9-97a1-92f7b6795e78"
      },
      "source": [
        "np.std(imputation_compare_cv['test_score'])\n",
        "# 0.002931480680760725"
      ],
      "execution_count": null,
      "outputs": [
        {
          "output_type": "execute_result",
          "data": {
            "text/plain": [
              "0.002902994792746835"
            ]
          },
          "metadata": {
            "tags": []
          },
          "execution_count": 348
        }
      ]
    },
    {
      "cell_type": "markdown",
      "metadata": {
        "id": "KgF_j8IV_pf4",
        "colab_type": "text"
      },
      "source": [
        "Reassign values using mode imputation"
      ]
    },
    {
      "cell_type": "code",
      "metadata": {
        "id": "Kaqn6TcVxdlz",
        "colab_type": "code",
        "colab": {
          "base_uri": "https://localhost:8080/",
          "height": 119
        },
        "outputId": "9fffe682-15e4-47e8-ed42-788cbdd4bc39"
      },
      "source": [
        "df_fill_pay_1_model['PAY_1'].head()"
      ],
      "execution_count": null,
      "outputs": [
        {
          "output_type": "execute_result",
          "data": {
            "text/plain": [
              "17    0\n",
              "28    0\n",
              "29    0\n",
              "54    0\n",
              "60    0\n",
              "Name: PAY_1, dtype: int64"
            ]
          },
          "metadata": {
            "tags": []
          },
          "execution_count": 352
        }
      ]
    },
    {
      "cell_type": "code",
      "metadata": {
        "id": "1N2VRdM5_pf5",
        "colab_type": "code",
        "colab": {}
      },
      "source": [
        "df_fill_pay_1_model['PAY_1'] = np.zeros_like(df_fill_pay_1_model['PAY_1'].values)"
      ],
      "execution_count": null,
      "outputs": []
    },
    {
      "cell_type": "code",
      "metadata": {
        "id": "QwjENNr8_pf7",
        "colab_type": "code",
        "colab": {
          "base_uri": "https://localhost:8080/",
          "height": 34
        },
        "outputId": "1250bfd8-d729-4257-b8e4-66e3cf1132cc"
      },
      "source": [
        "df_fill_pay_1_model['PAY_1'].unique()"
      ],
      "execution_count": null,
      "outputs": [
        {
          "output_type": "execute_result",
          "data": {
            "text/plain": [
              "array([0])"
            ]
          },
          "metadata": {
            "tags": []
          },
          "execution_count": 354
        }
      ]
    },
    {
      "cell_type": "code",
      "metadata": {
        "id": "XV70e7xAWcJ-",
        "colab_type": "code",
        "colab": {
          "base_uri": "https://localhost:8080/",
          "height": 660
        },
        "outputId": "cc0a8336-60f6-491e-c3de-a652a1bbddff"
      },
      "source": [
        "df_fill_pay_1_model"
      ],
      "execution_count": null,
      "outputs": [
        {
          "output_type": "execute_result",
          "data": {
            "text/html": [
              "<div>\n",
              "<style scoped>\n",
              "    .dataframe tbody tr th:only-of-type {\n",
              "        vertical-align: middle;\n",
              "    }\n",
              "\n",
              "    .dataframe tbody tr th {\n",
              "        vertical-align: top;\n",
              "    }\n",
              "\n",
              "    .dataframe thead th {\n",
              "        text-align: right;\n",
              "    }\n",
              "</style>\n",
              "<table border=\"1\" class=\"dataframe\">\n",
              "  <thead>\n",
              "    <tr style=\"text-align: right;\">\n",
              "      <th></th>\n",
              "      <th>ID</th>\n",
              "      <th>LIMIT_BAL</th>\n",
              "      <th>SEX</th>\n",
              "      <th>EDUCATION</th>\n",
              "      <th>MARRIAGE</th>\n",
              "      <th>AGE</th>\n",
              "      <th>PAY_1</th>\n",
              "      <th>PAY_2</th>\n",
              "      <th>PAY_3</th>\n",
              "      <th>PAY_4</th>\n",
              "      <th>PAY_5</th>\n",
              "      <th>PAY_6</th>\n",
              "      <th>BILL_AMT1</th>\n",
              "      <th>BILL_AMT2</th>\n",
              "      <th>BILL_AMT3</th>\n",
              "      <th>BILL_AMT4</th>\n",
              "      <th>BILL_AMT5</th>\n",
              "      <th>BILL_AMT6</th>\n",
              "      <th>PAY_AMT1</th>\n",
              "      <th>PAY_AMT2</th>\n",
              "      <th>PAY_AMT3</th>\n",
              "      <th>PAY_AMT4</th>\n",
              "      <th>PAY_AMT5</th>\n",
              "      <th>PAY_AMT6</th>\n",
              "      <th>default payment next month</th>\n",
              "    </tr>\n",
              "  </thead>\n",
              "  <tbody>\n",
              "    <tr>\n",
              "      <th>17</th>\n",
              "      <td>f0ba5e02-0c0f</td>\n",
              "      <td>320000</td>\n",
              "      <td>1</td>\n",
              "      <td>1</td>\n",
              "      <td>1</td>\n",
              "      <td>49</td>\n",
              "      <td>0</td>\n",
              "      <td>0</td>\n",
              "      <td>0</td>\n",
              "      <td>-1</td>\n",
              "      <td>-1</td>\n",
              "      <td>-1</td>\n",
              "      <td>253286</td>\n",
              "      <td>246536</td>\n",
              "      <td>194663</td>\n",
              "      <td>70074</td>\n",
              "      <td>5856</td>\n",
              "      <td>195599</td>\n",
              "      <td>10358</td>\n",
              "      <td>10000</td>\n",
              "      <td>75940</td>\n",
              "      <td>20000</td>\n",
              "      <td>195599</td>\n",
              "      <td>50000</td>\n",
              "      <td>0</td>\n",
              "    </tr>\n",
              "    <tr>\n",
              "      <th>28</th>\n",
              "      <td>aecb449b-a999</td>\n",
              "      <td>50000</td>\n",
              "      <td>2</td>\n",
              "      <td>3</td>\n",
              "      <td>1</td>\n",
              "      <td>47</td>\n",
              "      <td>0</td>\n",
              "      <td>-1</td>\n",
              "      <td>-1</td>\n",
              "      <td>-1</td>\n",
              "      <td>-1</td>\n",
              "      <td>-1</td>\n",
              "      <td>650</td>\n",
              "      <td>3415</td>\n",
              "      <td>3416</td>\n",
              "      <td>2040</td>\n",
              "      <td>30430</td>\n",
              "      <td>257</td>\n",
              "      <td>3415</td>\n",
              "      <td>3421</td>\n",
              "      <td>2044</td>\n",
              "      <td>30430</td>\n",
              "      <td>257</td>\n",
              "      <td>0</td>\n",
              "      <td>0</td>\n",
              "    </tr>\n",
              "    <tr>\n",
              "      <th>29</th>\n",
              "      <td>57ea9a1f-cdd5</td>\n",
              "      <td>50000</td>\n",
              "      <td>1</td>\n",
              "      <td>1</td>\n",
              "      <td>2</td>\n",
              "      <td>26</td>\n",
              "      <td>0</td>\n",
              "      <td>0</td>\n",
              "      <td>0</td>\n",
              "      <td>0</td>\n",
              "      <td>0</td>\n",
              "      <td>0</td>\n",
              "      <td>15329</td>\n",
              "      <td>16575</td>\n",
              "      <td>17496</td>\n",
              "      <td>17907</td>\n",
              "      <td>18375</td>\n",
              "      <td>11400</td>\n",
              "      <td>1500</td>\n",
              "      <td>1500</td>\n",
              "      <td>1000</td>\n",
              "      <td>1000</td>\n",
              "      <td>1600</td>\n",
              "      <td>0</td>\n",
              "      <td>0</td>\n",
              "    </tr>\n",
              "    <tr>\n",
              "      <th>54</th>\n",
              "      <td>781f3cc2-7ddc</td>\n",
              "      <td>150000</td>\n",
              "      <td>2</td>\n",
              "      <td>1</td>\n",
              "      <td>2</td>\n",
              "      <td>29</td>\n",
              "      <td>0</td>\n",
              "      <td>0</td>\n",
              "      <td>0</td>\n",
              "      <td>0</td>\n",
              "      <td>0</td>\n",
              "      <td>0</td>\n",
              "      <td>46224</td>\n",
              "      <td>34993</td>\n",
              "      <td>31434</td>\n",
              "      <td>26518</td>\n",
              "      <td>21042</td>\n",
              "      <td>16540</td>\n",
              "      <td>1600</td>\n",
              "      <td>1718</td>\n",
              "      <td>1049</td>\n",
              "      <td>1500</td>\n",
              "      <td>2000</td>\n",
              "      <td>5000</td>\n",
              "      <td>0</td>\n",
              "    </tr>\n",
              "    <tr>\n",
              "      <th>60</th>\n",
              "      <td>5c00d7e6-a804</td>\n",
              "      <td>500000</td>\n",
              "      <td>2</td>\n",
              "      <td>3</td>\n",
              "      <td>1</td>\n",
              "      <td>28</td>\n",
              "      <td>0</td>\n",
              "      <td>0</td>\n",
              "      <td>0</td>\n",
              "      <td>0</td>\n",
              "      <td>0</td>\n",
              "      <td>0</td>\n",
              "      <td>22848</td>\n",
              "      <td>23638</td>\n",
              "      <td>18878</td>\n",
              "      <td>14937</td>\n",
              "      <td>13827</td>\n",
              "      <td>15571</td>\n",
              "      <td>1516</td>\n",
              "      <td>1300</td>\n",
              "      <td>1000</td>\n",
              "      <td>1000</td>\n",
              "      <td>2000</td>\n",
              "      <td>2000</td>\n",
              "      <td>1</td>\n",
              "    </tr>\n",
              "    <tr>\n",
              "      <th>...</th>\n",
              "      <td>...</td>\n",
              "      <td>...</td>\n",
              "      <td>...</td>\n",
              "      <td>...</td>\n",
              "      <td>...</td>\n",
              "      <td>...</td>\n",
              "      <td>...</td>\n",
              "      <td>...</td>\n",
              "      <td>...</td>\n",
              "      <td>...</td>\n",
              "      <td>...</td>\n",
              "      <td>...</td>\n",
              "      <td>...</td>\n",
              "      <td>...</td>\n",
              "      <td>...</td>\n",
              "      <td>...</td>\n",
              "      <td>...</td>\n",
              "      <td>...</td>\n",
              "      <td>...</td>\n",
              "      <td>...</td>\n",
              "      <td>...</td>\n",
              "      <td>...</td>\n",
              "      <td>...</td>\n",
              "      <td>...</td>\n",
              "      <td>...</td>\n",
              "    </tr>\n",
              "    <tr>\n",
              "      <th>29949</th>\n",
              "      <td>4b490335-91ab</td>\n",
              "      <td>280000</td>\n",
              "      <td>1</td>\n",
              "      <td>1</td>\n",
              "      <td>1</td>\n",
              "      <td>39</td>\n",
              "      <td>0</td>\n",
              "      <td>0</td>\n",
              "      <td>0</td>\n",
              "      <td>0</td>\n",
              "      <td>0</td>\n",
              "      <td>0</td>\n",
              "      <td>55050</td>\n",
              "      <td>51417</td>\n",
              "      <td>47069</td>\n",
              "      <td>40939</td>\n",
              "      <td>44290</td>\n",
              "      <td>70573</td>\n",
              "      <td>1652</td>\n",
              "      <td>2144</td>\n",
              "      <td>1666</td>\n",
              "      <td>5015</td>\n",
              "      <td>32013</td>\n",
              "      <td>12</td>\n",
              "      <td>0</td>\n",
              "    </tr>\n",
              "    <tr>\n",
              "      <th>29956</th>\n",
              "      <td>b4a99d86-3bdd</td>\n",
              "      <td>150000</td>\n",
              "      <td>1</td>\n",
              "      <td>1</td>\n",
              "      <td>2</td>\n",
              "      <td>30</td>\n",
              "      <td>0</td>\n",
              "      <td>0</td>\n",
              "      <td>0</td>\n",
              "      <td>-1</td>\n",
              "      <td>0</td>\n",
              "      <td>-1</td>\n",
              "      <td>2384</td>\n",
              "      <td>4176</td>\n",
              "      <td>5877</td>\n",
              "      <td>1610</td>\n",
              "      <td>1180</td>\n",
              "      <td>2980</td>\n",
              "      <td>2000</td>\n",
              "      <td>2000</td>\n",
              "      <td>2000</td>\n",
              "      <td>1000</td>\n",
              "      <td>3000</td>\n",
              "      <td>0</td>\n",
              "      <td>0</td>\n",
              "    </tr>\n",
              "    <tr>\n",
              "      <th>29967</th>\n",
              "      <td>f411fbb3-adaf</td>\n",
              "      <td>50000</td>\n",
              "      <td>1</td>\n",
              "      <td>2</td>\n",
              "      <td>1</td>\n",
              "      <td>32</td>\n",
              "      <td>0</td>\n",
              "      <td>0</td>\n",
              "      <td>0</td>\n",
              "      <td>-1</td>\n",
              "      <td>2</td>\n",
              "      <td>0</td>\n",
              "      <td>50564</td>\n",
              "      <td>49710</td>\n",
              "      <td>0</td>\n",
              "      <td>50551</td>\n",
              "      <td>40590</td>\n",
              "      <td>39384</td>\n",
              "      <td>2686</td>\n",
              "      <td>0</td>\n",
              "      <td>50551</td>\n",
              "      <td>0</td>\n",
              "      <td>1600</td>\n",
              "      <td>1500</td>\n",
              "      <td>0</td>\n",
              "    </tr>\n",
              "    <tr>\n",
              "      <th>29973</th>\n",
              "      <td>31c0c152-e5ac</td>\n",
              "      <td>230000</td>\n",
              "      <td>1</td>\n",
              "      <td>2</td>\n",
              "      <td>1</td>\n",
              "      <td>35</td>\n",
              "      <td>0</td>\n",
              "      <td>-2</td>\n",
              "      <td>-2</td>\n",
              "      <td>-2</td>\n",
              "      <td>-2</td>\n",
              "      <td>-2</td>\n",
              "      <td>0</td>\n",
              "      <td>0</td>\n",
              "      <td>0</td>\n",
              "      <td>0</td>\n",
              "      <td>0</td>\n",
              "      <td>0</td>\n",
              "      <td>0</td>\n",
              "      <td>0</td>\n",
              "      <td>0</td>\n",
              "      <td>0</td>\n",
              "      <td>0</td>\n",
              "      <td>0</td>\n",
              "      <td>1</td>\n",
              "    </tr>\n",
              "    <tr>\n",
              "      <th>29984</th>\n",
              "      <td>3aee2b22-6bd0</td>\n",
              "      <td>30000</td>\n",
              "      <td>1</td>\n",
              "      <td>2</td>\n",
              "      <td>2</td>\n",
              "      <td>38</td>\n",
              "      <td>0</td>\n",
              "      <td>-1</td>\n",
              "      <td>-2</td>\n",
              "      <td>-1</td>\n",
              "      <td>-1</td>\n",
              "      <td>-1</td>\n",
              "      <td>315</td>\n",
              "      <td>923</td>\n",
              "      <td>2939</td>\n",
              "      <td>1993</td>\n",
              "      <td>1907</td>\n",
              "      <td>3319</td>\n",
              "      <td>923</td>\n",
              "      <td>2977</td>\n",
              "      <td>1999</td>\n",
              "      <td>3057</td>\n",
              "      <td>3319</td>\n",
              "      <td>1000</td>\n",
              "      <td>0</td>\n",
              "    </tr>\n",
              "  </tbody>\n",
              "</table>\n",
              "<p>3021 rows × 25 columns</p>\n",
              "</div>"
            ],
            "text/plain": [
              "                  ID  LIMIT_BAL  ...  PAY_AMT6  default payment next month\n",
              "17     f0ba5e02-0c0f     320000  ...     50000                           0\n",
              "28     aecb449b-a999      50000  ...         0                           0\n",
              "29     57ea9a1f-cdd5      50000  ...         0                           0\n",
              "54     781f3cc2-7ddc     150000  ...      5000                           0\n",
              "60     5c00d7e6-a804     500000  ...      2000                           1\n",
              "...              ...        ...  ...       ...                         ...\n",
              "29949  4b490335-91ab     280000  ...        12                           0\n",
              "29956  b4a99d86-3bdd     150000  ...         0                           0\n",
              "29967  f411fbb3-adaf      50000  ...      1500                           0\n",
              "29973  31c0c152-e5ac     230000  ...         0                           1\n",
              "29984  3aee2b22-6bd0      30000  ...      1000                           0\n",
              "\n",
              "[3021 rows x 25 columns]"
            ]
          },
          "metadata": {
            "tags": []
          },
          "execution_count": 355
        }
      ]
    },
    {
      "cell_type": "code",
      "metadata": {
        "id": "jilgeq9H_pgB",
        "colab_type": "code",
        "colab": {}
      },
      "source": [
        "X_fill_pay_1_train, X_fill_pay_1_test, y_fill_pay_1_train, y_fill_pay_1_test = \\\n",
        "train_test_split(\n",
        "    df_fill_pay_1_model[features_response[:-1]].values,\n",
        "    df_fill_pay_1_model['default payment next month'].values,\n",
        "test_size=0.2, random_state=24)"
      ],
      "execution_count": null,
      "outputs": []
    },
    {
      "cell_type": "code",
      "metadata": {
        "id": "nJ2blJziUtHC",
        "colab_type": "code",
        "colab": {
          "base_uri": "https://localhost:8080/",
          "height": 136
        },
        "outputId": "40dec7dc-b18d-4fb6-8eff-7398ec790eb9"
      },
      "source": [
        "X_fill_pay_1_train"
      ],
      "execution_count": null,
      "outputs": [
        {
          "output_type": "execute_result",
          "data": {
            "text/plain": [
              "array([[320000,      1,      1, ...,      0,  13439,      0],\n",
              "       [110000,      1,      2, ...,      0,      0,      0],\n",
              "       [ 20000,      2,      2, ...,   1000,   1000,   1900],\n",
              "       ...,\n",
              "       [320000,      1,      2, ...,      0,    673,  11288],\n",
              "       [ 80000,      2,      1, ...,      0,   1500,    800],\n",
              "       [230000,      2,      1, ...,      0,      0,      0]])"
            ]
          },
          "metadata": {
            "tags": []
          },
          "execution_count": 357
        }
      ]
    },
    {
      "cell_type": "code",
      "metadata": {
        "id": "CeX57RbUUstY",
        "colab_type": "code",
        "colab": {
          "base_uri": "https://localhost:8080/",
          "height": 34
        },
        "outputId": "86797cbf-ce45-4e66-94c5-a41552462d25"
      },
      "source": [
        "y_fill_pay_1_train"
      ],
      "execution_count": null,
      "outputs": [
        {
          "output_type": "execute_result",
          "data": {
            "text/plain": [
              "array([1, 0, 1, ..., 0, 0, 0])"
            ]
          },
          "metadata": {
            "tags": []
          },
          "execution_count": 358
        }
      ]
    },
    {
      "cell_type": "code",
      "metadata": {
        "id": "KM574JM7_pgE",
        "colab_type": "code",
        "colab": {}
      },
      "source": [
        "X_train_all = np.concatenate((X_train, X_fill_pay_1_train), axis=0)\n",
        "X_test_all = np.concatenate((X_test, X_fill_pay_1_test), axis=0)\n",
        "y_train_all = np.concatenate((y_train, y_fill_pay_1_train), axis=0)\n",
        "y_test_all = np.concatenate((y_test, y_fill_pay_1_test), axis=0)"
      ],
      "execution_count": null,
      "outputs": []
    },
    {
      "cell_type": "code",
      "metadata": {
        "id": "1izWL7MV_pgH",
        "colab_type": "code",
        "colab": {
          "base_uri": "https://localhost:8080/",
          "height": 85
        },
        "outputId": "eb5d8218-8a5d-4d6e-addc-e0fd70df7124"
      },
      "source": [
        "print(X_train_all.shape)\n",
        "print(X_test_all.shape)\n",
        "print(y_train_all.shape)\n",
        "print(y_test_all.shape)"
      ],
      "execution_count": null,
      "outputs": [
        {
          "output_type": "stream",
          "text": [
            "(23747, 17)\n",
            "(5938, 17)\n",
            "(23747,)\n",
            "(5938,)\n"
          ],
          "name": "stdout"
        }
      ]
    },
    {
      "cell_type": "code",
      "metadata": {
        "id": "jiJNZzSk_pgJ",
        "colab_type": "code",
        "colab": {
          "base_uri": "https://localhost:8080/",
          "height": 51
        },
        "outputId": "53c5d921-b4ea-4d47-8003-436b190de19e"
      },
      "source": [
        "imputation_compare_cv = cross_validate(rf, X_train_all, y_train_all, scoring='roc_auc',\n",
        "                                       cv=k_folds, n_jobs=-1, verbose=1,\n",
        "                                       return_train_score=True, return_estimator=True,\n",
        "                                       error_score='raise-deprecating')"
      ],
      "execution_count": null,
      "outputs": [
        {
          "output_type": "stream",
          "text": [
            "[Parallel(n_jobs=-1)]: Using backend LokyBackend with 2 concurrent workers.\n",
            "[Parallel(n_jobs=-1)]: Done   4 out of   4 | elapsed:   22.2s finished\n"
          ],
          "name": "stderr"
        }
      ]
    },
    {
      "cell_type": "code",
      "metadata": {
        "id": "91UxPwHH_pgK",
        "colab_type": "code",
        "colab": {
          "base_uri": "https://localhost:8080/",
          "height": 34
        },
        "outputId": "5aa991d8-9e49-43cf-d9c5-02587019c561"
      },
      "source": [
        "np.mean(imputation_compare_cv['test_score'])"
      ],
      "execution_count": null,
      "outputs": [
        {
          "output_type": "execute_result",
          "data": {
            "text/plain": [
              "0.772866246168149"
            ]
          },
          "metadata": {
            "tags": []
          },
          "execution_count": 362
        }
      ]
    },
    {
      "cell_type": "markdown",
      "metadata": {
        "id": "hg8J45XZ_pgN",
        "colab_type": "text"
      },
      "source": [
        "##### Confirming Model Performance on the Unseen Test Set"
      ]
    },
    {
      "cell_type": "code",
      "metadata": {
        "id": "-rzmJh_p_pgN",
        "colab_type": "code",
        "colab": {
          "base_uri": "https://localhost:8080/",
          "height": 187
        },
        "outputId": "f200c107-c255-4907-c496-419f83c314c3"
      },
      "source": [
        "rf.fit(X_train_all, y_train_all)"
      ],
      "execution_count": null,
      "outputs": [
        {
          "output_type": "stream",
          "text": [
            "[Parallel(n_jobs=1)]: Using backend SequentialBackend with 1 concurrent workers.\n",
            "[Parallel(n_jobs=1)]: Done 200 out of 200 | elapsed:   11.4s finished\n"
          ],
          "name": "stderr"
        },
        {
          "output_type": "execute_result",
          "data": {
            "text/plain": [
              "RandomForestClassifier(bootstrap=True, ccp_alpha=0.0, class_weight=None,\n",
              "                       criterion='gini', max_depth=9, max_features='auto',\n",
              "                       max_leaf_nodes=None, max_samples=None,\n",
              "                       min_impurity_decrease=0.0, min_impurity_split=None,\n",
              "                       min_samples_leaf=1, min_samples_split=2,\n",
              "                       min_weight_fraction_leaf=0.0, n_estimators=200,\n",
              "                       n_jobs=None, oob_score=False, random_state=4, verbose=1,\n",
              "                       warm_start=False)"
            ]
          },
          "metadata": {
            "tags": []
          },
          "execution_count": 363
        }
      ]
    },
    {
      "cell_type": "code",
      "metadata": {
        "id": "xWrkYNyI_pgP",
        "colab_type": "code",
        "colab": {
          "base_uri": "https://localhost:8080/",
          "height": 51
        },
        "outputId": "166b1510-7b4a-4d2b-efc2-71d33a32564b"
      },
      "source": [
        "y_test_all_predict_proba = rf.predict_proba(X_test_all)"
      ],
      "execution_count": null,
      "outputs": [
        {
          "output_type": "stream",
          "text": [
            "[Parallel(n_jobs=1)]: Using backend SequentialBackend with 1 concurrent workers.\n",
            "[Parallel(n_jobs=1)]: Done 200 out of 200 | elapsed:    0.2s finished\n"
          ],
          "name": "stderr"
        }
      ]
    },
    {
      "cell_type": "code",
      "metadata": {
        "id": "DzJ8h1_j_pgR",
        "colab_type": "code",
        "colab": {}
      },
      "source": [
        "from sklearn.metrics import roc_auc_score"
      ],
      "execution_count": null,
      "outputs": []
    },
    {
      "cell_type": "code",
      "metadata": {
        "id": "alIz6Wzo_pgT",
        "colab_type": "code",
        "colab": {
          "base_uri": "https://localhost:8080/",
          "height": 34
        },
        "outputId": "72768ed1-306a-4ea6-c007-92831ef3babf"
      },
      "source": [
        "roc_auc_score(y_test_all, y_test_all_predict_proba[:,1])\n",
        "# 0.7696243835824927"
      ],
      "execution_count": null,
      "outputs": [
        {
          "output_type": "execute_result",
          "data": {
            "text/plain": [
              "0.7696243835824927"
            ]
          },
          "metadata": {
            "tags": []
          },
          "execution_count": 366
        }
      ]
    },
    {
      "cell_type": "markdown",
      "metadata": {
        "id": "1hwKnONr_pgV",
        "colab_type": "text"
      },
      "source": [
        "##### Characterizing Costs and Savings"
      ]
    },
    {
      "cell_type": "code",
      "metadata": {
        "id": "Oh7yl3OC_pgV",
        "colab_type": "code",
        "colab": {
          "base_uri": "https://localhost:8080/",
          "height": 187
        },
        "outputId": "24a6954c-3283-4b16-d0bb-7f81c96f6995"
      },
      "source": [
        "thresholds = np.linspace(0, 1, 101)\n",
        "thresholds"
      ],
      "execution_count": null,
      "outputs": [
        {
          "output_type": "execute_result",
          "data": {
            "text/plain": [
              "array([0.  , 0.01, 0.02, 0.03, 0.04, 0.05, 0.06, 0.07, 0.08, 0.09, 0.1 ,\n",
              "       0.11, 0.12, 0.13, 0.14, 0.15, 0.16, 0.17, 0.18, 0.19, 0.2 , 0.21,\n",
              "       0.22, 0.23, 0.24, 0.25, 0.26, 0.27, 0.28, 0.29, 0.3 , 0.31, 0.32,\n",
              "       0.33, 0.34, 0.35, 0.36, 0.37, 0.38, 0.39, 0.4 , 0.41, 0.42, 0.43,\n",
              "       0.44, 0.45, 0.46, 0.47, 0.48, 0.49, 0.5 , 0.51, 0.52, 0.53, 0.54,\n",
              "       0.55, 0.56, 0.57, 0.58, 0.59, 0.6 , 0.61, 0.62, 0.63, 0.64, 0.65,\n",
              "       0.66, 0.67, 0.68, 0.69, 0.7 , 0.71, 0.72, 0.73, 0.74, 0.75, 0.76,\n",
              "       0.77, 0.78, 0.79, 0.8 , 0.81, 0.82, 0.83, 0.84, 0.85, 0.86, 0.87,\n",
              "       0.88, 0.89, 0.9 , 0.91, 0.92, 0.93, 0.94, 0.95, 0.96, 0.97, 0.98,\n",
              "       0.99, 1.  ])"
            ]
          },
          "metadata": {
            "tags": []
          },
          "execution_count": 367
        }
      ]
    },
    {
      "cell_type": "markdown",
      "metadata": {
        "id": "6GroC3-K_pgX",
        "colab_type": "text"
      },
      "source": [
        "Use mean bill amount to estimate savings per prevented default"
      ]
    },
    {
      "cell_type": "code",
      "metadata": {
        "id": "_3h68AoL_pgX",
        "colab_type": "code",
        "colab": {
          "base_uri": "https://localhost:8080/",
          "height": 35
        },
        "outputId": "89d898b4-67cb-4e7c-84d7-153cca644e87"
      },
      "source": [
        "df[features_response[:-1]].columns[5]"
      ],
      "execution_count": null,
      "outputs": [
        {
          "output_type": "execute_result",
          "data": {
            "application/vnd.google.colaboratory.intrinsic+json": {
              "type": "string"
            },
            "text/plain": [
              "'BILL_AMT1'"
            ]
          },
          "metadata": {
            "tags": []
          },
          "execution_count": 368
        }
      ]
    },
    {
      "cell_type": "code",
      "metadata": {
        "id": "UqTzKrnR_pgc",
        "colab_type": "code",
        "colab": {
          "base_uri": "https://localhost:8080/",
          "height": 34
        },
        "outputId": "1f8159c7-55e8-461f-cce1-aed7a7a95c35"
      },
      "source": [
        "savings_per_default = np.mean(X_test_all[:, 5])\n",
        "savings_per_default\n",
        "# 51601.7433479286"
      ],
      "execution_count": null,
      "outputs": [
        {
          "output_type": "execute_result",
          "data": {
            "text/plain": [
              "51601.7433479286"
            ]
          },
          "metadata": {
            "tags": []
          },
          "execution_count": 369
        }
      ]
    },
    {
      "cell_type": "code",
      "metadata": {
        "id": "NVQRytkX_pgf",
        "colab_type": "code",
        "colab": {}
      },
      "source": [
        "cost_per_counseling = 7500"
      ],
      "execution_count": null,
      "outputs": []
    },
    {
      "cell_type": "code",
      "metadata": {
        "id": "KygtcjMV_pgi",
        "colab_type": "code",
        "colab": {}
      },
      "source": [
        "effectiveness = 0.70"
      ],
      "execution_count": null,
      "outputs": []
    },
    {
      "cell_type": "code",
      "metadata": {
        "id": "dO__W1d7_pgm",
        "colab_type": "code",
        "colab": {}
      },
      "source": [
        "n_pos_pred = np.empty_like(thresholds)\n",
        "cost_of_all_counselings = np.empty_like(thresholds)\n",
        "n_true_pos = np.empty_like(thresholds)\n",
        "savings_of_all_counselings = np.empty_like(thresholds)"
      ],
      "execution_count": null,
      "outputs": []
    },
    {
      "cell_type": "code",
      "metadata": {
        "id": "-DYstJ_f_pgo",
        "colab_type": "code",
        "colab": {}
      },
      "source": [
        "counter = 0\n",
        "for threshold in thresholds:\n",
        "    pos_pred = y_test_all_predict_proba[:,1]>threshold\n",
        "    n_pos_pred[counter] = sum(pos_pred)\n",
        "    cost_of_all_counselings[counter] = n_pos_pred[counter] * cost_per_counseling\n",
        "    true_pos = pos_pred & y_test_all.astype(bool)\n",
        "    n_true_pos[counter] = sum(true_pos)\n",
        "    savings_of_all_counselings[counter] = n_true_pos[counter] * savings_per_default * effectiveness\n",
        "    \n",
        "    counter += 1"
      ],
      "execution_count": null,
      "outputs": []
    },
    {
      "cell_type": "code",
      "metadata": {
        "id": "BxZ-U-Mg_pgq",
        "colab_type": "code",
        "colab": {}
      },
      "source": [
        "net_savings = savings_of_all_counselings - cost_of_all_counselings"
      ],
      "execution_count": null,
      "outputs": []
    },
    {
      "cell_type": "code",
      "metadata": {
        "id": "Xw2-tJ-hx8qA",
        "colab_type": "code",
        "colab": {
          "base_uri": "https://localhost:8080/",
          "height": 595
        },
        "outputId": "3010f57d-1eaa-41a4-d539-186eb1646462"
      },
      "source": [
        "net_savings"
      ],
      "execution_count": null,
      "outputs": [
        {
          "output_type": "execute_result",
          "data": {
            "text/plain": [
              "array([ 1880768.14146177,  1880768.14146177,  1880768.14146177,\n",
              "        1880768.14146177,  1880768.14146177,  1994646.92111822,\n",
              "        2888525.70077467,  3978177.15836982,  5656358.85321657,\n",
              "        7257722.24291007,  8978919.05638262,  9769676.34435837,\n",
              "       10775009.49680027, 11227660.68305827, 12066008.95412597,\n",
              "       12813145.02175817, 13576659.86904681, 14302674.71633547,\n",
              "       14686447.12293702, 15203068.07194342, 15446325.35991916,\n",
              "       15373976.54617716, 15364218.71552711, 15344203.32556416,\n",
              "       15434536.47800606, 15254869.63044796, 14894596.68117211,\n",
              "       14576566.17258336, 14477247.86743011, 14099217.35884136,\n",
              "       13906535.39265746, 13518247.32475581, 13476171.46028966,\n",
              "       12993140.95170091, 12878049.96860896, 12670974.10414281,\n",
              "       12339155.79898956, 11957595.05314921, 11704140.40902661,\n",
              "       11474564.54456046, 11186367.45975076, 10909806.71391041,\n",
              "       10740836.95116201, 10409018.64600876, 10048579.12051195,\n",
              "        9987973.01879421,  9889866.91707646,  9764518.3746716 ,\n",
              "        9666412.27295386,  9568306.17123611,  9378215.18814416,\n",
              "        9228987.86608286,  9123381.7643651 ,  9061396.8829909 ,\n",
              "        9020533.22196026,  8942169.56092961,  8765699.79818121,\n",
              "        8804578.57783766,  8762336.13715055,  8613108.81508926,\n",
              "        8421639.05234086,  8028441.96753115,  7858093.4251263 ,\n",
              "        7702744.88272145,  7482653.8996295 ,  7205320.47585045,\n",
              "        6807380.95035365,  6531426.30623105,  5958395.7976423 ,\n",
              "        5281744.06871   ,  4576471.11943415,  3755334.50912765,\n",
              "        3229288.8819131 ,  2644622.034355  ,  2252803.72920175,\n",
              "        1803742.9833614 ,  1512788.3392388 ,  1113470.03408555,\n",
              "         870879.0509936 ,   771394.1696194 ,   607166.8475581 ,\n",
              "         572424.406871  ,   572424.406871  ,   543803.18652745,\n",
              "         486560.74584035,   429318.30515325,   343454.6441226 ,\n",
              "         228969.7627484 ,   200348.54240485,    85863.66103065,\n",
              "          85863.66103065,    85863.66103065,        0.        ,\n",
              "              0.        ,        0.        ,        0.        ,\n",
              "              0.        ,        0.        ,        0.        ,\n",
              "              0.        ,        0.        ])"
            ]
          },
          "metadata": {
            "tags": []
          },
          "execution_count": 375
        }
      ]
    },
    {
      "cell_type": "code",
      "metadata": {
        "id": "8oYEDHXn_pgs",
        "colab_type": "code",
        "colab": {
          "base_uri": "https://localhost:8080/",
          "height": 293
        },
        "outputId": "d2104ab9-734a-4025-9b69-0992a4d71d3d"
      },
      "source": [
        "plt.plot(thresholds, cost_of_all_counselings)"
      ],
      "execution_count": null,
      "outputs": [
        {
          "output_type": "execute_result",
          "data": {
            "text/plain": [
              "[<matplotlib.lines.Line2D at 0x7f40da6d9978>]"
            ]
          },
          "metadata": {
            "tags": []
          },
          "execution_count": 376
        },
        {
          "output_type": "display_data",
          "data": {
            "image/png": "[encoded data removed]",
            "text/plain": [
              "<Figure size 432x288 with 1 Axes>"
            ]
          },
          "metadata": {
            "tags": [],
            "needs_background": "light"
          }
        }
      ]
    },
    {
      "cell_type": "code",
      "metadata": {
        "id": "vrIg8PlN_pgt",
        "colab_type": "code",
        "colab": {
          "base_uri": "https://localhost:8080/",
          "height": 293
        },
        "outputId": "03ec95bc-5ee3-46ca-f0a7-dbe439fe56b6"
      },
      "source": [
        "plt.plot(thresholds, savings_of_all_counselings)"
      ],
      "execution_count": null,
      "outputs": [
        {
          "output_type": "execute_result",
          "data": {
            "text/plain": [
              "[<matplotlib.lines.Line2D at 0x7f40d8eb36a0>]"
            ]
          },
          "metadata": {
            "tags": []
          },
          "execution_count": 385
        },
        {
          "output_type": "display_data",
          "data": {
            "image/png": "[encoded data removed]",
            "text/plain": [
              "<Figure size 432x288 with 1 Axes>"
            ]
          },
          "metadata": {
            "tags": [],
            "needs_background": "light"
          }
        }
      ]
    },
    {
      "cell_type": "code",
      "metadata": {
        "id": "mQ1zxxak_pgw",
        "colab_type": "code",
        "colab": {
          "base_uri": "https://localhost:8080/",
          "height": 290
        },
        "outputId": "e0c97bef-5557-4830-dc85-3acc74027996"
      },
      "source": [
        "#mpl.rcParams['figure.dpi'] = 400\n",
        "plt.plot(thresholds, net_savings)\n",
        "plt.xlabel('Threshold')\n",
        "plt.ylabel('Net savings (NT$)')\n",
        "plt.xticks(np.linspace(0,1,11))\n",
        "plt.grid(True)"
      ],
      "execution_count": null,
      "outputs": [
        {
          "output_type": "display_data",
          "data": {
            "image/png": "[encoded data removed]",
            "text/plain": [
              "<Figure size 432x288 with 1 Axes>"
            ]
          },
          "metadata": {
            "tags": [],
            "needs_background": "light"
          }
        }
      ]
    },
    {
      "cell_type": "code",
      "metadata": {
        "id": "W9pxCTgG_pgz",
        "colab_type": "code",
        "colab": {}
      },
      "source": [
        "max_savings_ix = np.argmax(net_savings)"
      ],
      "execution_count": null,
      "outputs": []
    },
    {
      "cell_type": "markdown",
      "metadata": {
        "id": "PKC4mO6C_pg1",
        "colab_type": "text"
      },
      "source": [
        "What is the threshold at which maximum savings is achieved?"
      ]
    },
    {
      "cell_type": "code",
      "metadata": {
        "id": "1LKBj8YI_pg1",
        "colab_type": "code",
        "colab": {
          "base_uri": "https://localhost:8080/",
          "height": 34
        },
        "outputId": "d99bc283-917a-42c9-c84b-088344f938b5"
      },
      "source": [
        "thresholds[max_savings_ix]\n",
        "# 0.2"
      ],
      "execution_count": null,
      "outputs": [
        {
          "output_type": "execute_result",
          "data": {
            "text/plain": [
              "0.2"
            ]
          },
          "metadata": {
            "tags": []
          },
          "execution_count": 390
        }
      ]
    },
    {
      "cell_type": "markdown",
      "metadata": {
        "id": "PcRP_QG9_pg2",
        "colab_type": "text"
      },
      "source": [
        "What is the maximum possible savings?"
      ]
    },
    {
      "cell_type": "code",
      "metadata": {
        "id": "kX2IS68c_pg3",
        "colab_type": "code",
        "colab": {
          "base_uri": "https://localhost:8080/",
          "height": 34
        },
        "outputId": "6ddb6642-eae1-4a21-e5ae-681369e4b2b5"
      },
      "source": [
        "net_savings[max_savings_ix]\n",
        "# 15446325.35991916"
      ],
      "execution_count": null,
      "outputs": [
        {
          "output_type": "execute_result",
          "data": {
            "text/plain": [
              "15446325.35991916"
            ]
          },
          "metadata": {
            "tags": []
          },
          "execution_count": 391
        }
      ]
    },
    {
      "cell_type": "markdown",
      "metadata": {
        "id": "4V2xzOMj_pg4",
        "colab_type": "text"
      },
      "source": [
        "## Challenge: Deriving Financial Insights"
      ]
    },
    {
      "cell_type": "markdown",
      "metadata": {
        "id": "gBu3Ft6G_pg5",
        "colab_type": "text"
      },
      "source": [
        "    Everything that is needed prior to this challenge has been included in the notebook above. You should run all the necessary portions of the provided code before beginning these tasks."
      ]
    },
    {
      "cell_type": "code",
      "metadata": {
        "id": "faqUrV1M_pg8",
        "colab_type": "code",
        "colab": {
          "base_uri": "https://localhost:8080/",
          "height": 34
        },
        "outputId": "4a3415d0-52f5-4c3b-f2b5-c0e44d04cf73"
      },
      "source": [
        "# This will autosave your notebook every ten seconds\n",
        "%autosave 10"
      ],
      "execution_count": null,
      "outputs": [
        {
          "output_type": "display_data",
          "data": {
            "application/javascript": [
              "IPython.notebook.set_autosave_interval(10000)"
            ]
          },
          "metadata": {
            "tags": []
          }
        },
        {
          "output_type": "stream",
          "text": [
            "Autosaving every 10 seconds\n"
          ],
          "name": "stdout"
        }
      ]
    },
    {
      "cell_type": "markdown",
      "metadata": {
        "id": "JUmUoJN8_phA",
        "colab_type": "text"
      },
      "source": [
        "**Using the testing set, calculate the cost of all defaults if there were no counseling program and output your result.**"
      ]
    },
    {
      "cell_type": "code",
      "metadata": {
        "eid": "415a5",
        "id": "NJfHPxyd_phB",
        "colab_type": "code",
        "colab": {
          "base_uri": "https://localhost:8080/",
          "height": 34
        },
        "outputId": "22c1b52b-2031-4abe-9b4f-a103f8f1a10d"
      },
      "source": [
        "pay=['PAY_AMT1','PAY_AMT2','PAY_AMT3','PAY_AMT4','PAY_AMT5','PAY_AMT6']\n",
        "pay=(X_test_all[:,4:17])\n",
        "pay_df=pd.DataFrame(pay)\n",
        "pay.sum()"
      ],
      "execution_count": null,
      "outputs": [
        {
          "output_type": "execute_result",
          "data": {
            "text/plain": [
              "1807375618"
            ]
          },
          "metadata": {
            "tags": []
          },
          "execution_count": 393
        }
      ]
    },
    {
      "cell_type": "code",
      "metadata": {
        "id": "BotSRp8Xy8MH",
        "colab_type": "code",
        "colab": {
          "base_uri": "https://localhost:8080/",
          "height": 419
        },
        "outputId": "20977871-d5e7-40fa-c574-d2de6ce51be6"
      },
      "source": [
        "pay_df"
      ],
      "execution_count": null,
      "outputs": [
        {
          "output_type": "execute_result",
          "data": {
            "text/html": [
              "<div>\n",
              "<style scoped>\n",
              "    .dataframe tbody tr th:only-of-type {\n",
              "        vertical-align: middle;\n",
              "    }\n",
              "\n",
              "    .dataframe tbody tr th {\n",
              "        vertical-align: top;\n",
              "    }\n",
              "\n",
              "    .dataframe thead th {\n",
              "        text-align: right;\n",
              "    }\n",
              "</style>\n",
              "<table border=\"1\" class=\"dataframe\">\n",
              "  <thead>\n",
              "    <tr style=\"text-align: right;\">\n",
              "      <th></th>\n",
              "      <th>0</th>\n",
              "      <th>1</th>\n",
              "      <th>2</th>\n",
              "      <th>3</th>\n",
              "      <th>4</th>\n",
              "      <th>5</th>\n",
              "      <th>6</th>\n",
              "      <th>7</th>\n",
              "      <th>8</th>\n",
              "      <th>9</th>\n",
              "      <th>10</th>\n",
              "      <th>11</th>\n",
              "      <th>12</th>\n",
              "    </tr>\n",
              "  </thead>\n",
              "  <tbody>\n",
              "    <tr>\n",
              "      <th>0</th>\n",
              "      <td>2</td>\n",
              "      <td>776</td>\n",
              "      <td>776</td>\n",
              "      <td>1172</td>\n",
              "      <td>380</td>\n",
              "      <td>776</td>\n",
              "      <td>1172</td>\n",
              "      <td>776</td>\n",
              "      <td>1172</td>\n",
              "      <td>380</td>\n",
              "      <td>776</td>\n",
              "      <td>1172</td>\n",
              "      <td>380</td>\n",
              "    </tr>\n",
              "    <tr>\n",
              "      <th>1</th>\n",
              "      <td>1</td>\n",
              "      <td>49612</td>\n",
              "      <td>48546</td>\n",
              "      <td>49157</td>\n",
              "      <td>49890</td>\n",
              "      <td>48941</td>\n",
              "      <td>49940</td>\n",
              "      <td>0</td>\n",
              "      <td>1900</td>\n",
              "      <td>1333</td>\n",
              "      <td>0</td>\n",
              "      <td>999</td>\n",
              "      <td>0</td>\n",
              "    </tr>\n",
              "    <tr>\n",
              "      <th>2</th>\n",
              "      <td>-1</td>\n",
              "      <td>73508</td>\n",
              "      <td>73303</td>\n",
              "      <td>71674</td>\n",
              "      <td>12701</td>\n",
              "      <td>8855</td>\n",
              "      <td>9133</td>\n",
              "      <td>3100</td>\n",
              "      <td>2548</td>\n",
              "      <td>2050</td>\n",
              "      <td>3006</td>\n",
              "      <td>2000</td>\n",
              "      <td>137</td>\n",
              "    </tr>\n",
              "    <tr>\n",
              "      <th>3</th>\n",
              "      <td>3</td>\n",
              "      <td>2443</td>\n",
              "      <td>2443</td>\n",
              "      <td>2443</td>\n",
              "      <td>2443</td>\n",
              "      <td>2443</td>\n",
              "      <td>2443</td>\n",
              "      <td>0</td>\n",
              "      <td>0</td>\n",
              "      <td>0</td>\n",
              "      <td>0</td>\n",
              "      <td>0</td>\n",
              "      <td>0</td>\n",
              "    </tr>\n",
              "    <tr>\n",
              "      <th>4</th>\n",
              "      <td>1</td>\n",
              "      <td>10131</td>\n",
              "      <td>10833</td>\n",
              "      <td>20583</td>\n",
              "      <td>19996</td>\n",
              "      <td>19879</td>\n",
              "      <td>18065</td>\n",
              "      <td>1000</td>\n",
              "      <td>10000</td>\n",
              "      <td>400</td>\n",
              "      <td>700</td>\n",
              "      <td>800</td>\n",
              "      <td>600</td>\n",
              "    </tr>\n",
              "    <tr>\n",
              "      <th>...</th>\n",
              "      <td>...</td>\n",
              "      <td>...</td>\n",
              "      <td>...</td>\n",
              "      <td>...</td>\n",
              "      <td>...</td>\n",
              "      <td>...</td>\n",
              "      <td>...</td>\n",
              "      <td>...</td>\n",
              "      <td>...</td>\n",
              "      <td>...</td>\n",
              "      <td>...</td>\n",
              "      <td>...</td>\n",
              "      <td>...</td>\n",
              "    </tr>\n",
              "    <tr>\n",
              "      <th>5933</th>\n",
              "      <td>0</td>\n",
              "      <td>17376</td>\n",
              "      <td>17538</td>\n",
              "      <td>16425</td>\n",
              "      <td>11976</td>\n",
              "      <td>3012</td>\n",
              "      <td>0</td>\n",
              "      <td>1294</td>\n",
              "      <td>11236</td>\n",
              "      <td>1032</td>\n",
              "      <td>9</td>\n",
              "      <td>0</td>\n",
              "      <td>0</td>\n",
              "    </tr>\n",
              "    <tr>\n",
              "      <th>5934</th>\n",
              "      <td>0</td>\n",
              "      <td>107430</td>\n",
              "      <td>109660</td>\n",
              "      <td>111387</td>\n",
              "      <td>111631</td>\n",
              "      <td>111657</td>\n",
              "      <td>109756</td>\n",
              "      <td>5500</td>\n",
              "      <td>5000</td>\n",
              "      <td>4300</td>\n",
              "      <td>12700</td>\n",
              "      <td>0</td>\n",
              "      <td>4500</td>\n",
              "    </tr>\n",
              "    <tr>\n",
              "      <th>5935</th>\n",
              "      <td>0</td>\n",
              "      <td>50060</td>\n",
              "      <td>54213</td>\n",
              "      <td>49512</td>\n",
              "      <td>18657</td>\n",
              "      <td>33296</td>\n",
              "      <td>32622</td>\n",
              "      <td>5000</td>\n",
              "      <td>2655</td>\n",
              "      <td>800</td>\n",
              "      <td>15000</td>\n",
              "      <td>0</td>\n",
              "      <td>10000</td>\n",
              "    </tr>\n",
              "    <tr>\n",
              "      <th>5936</th>\n",
              "      <td>0</td>\n",
              "      <td>100448</td>\n",
              "      <td>103990</td>\n",
              "      <td>104462</td>\n",
              "      <td>43810</td>\n",
              "      <td>44434</td>\n",
              "      <td>45251</td>\n",
              "      <td>5450</td>\n",
              "      <td>4200</td>\n",
              "      <td>1810</td>\n",
              "      <td>1765</td>\n",
              "      <td>2000</td>\n",
              "      <td>1665</td>\n",
              "    </tr>\n",
              "    <tr>\n",
              "      <th>5937</th>\n",
              "      <td>0</td>\n",
              "      <td>0</td>\n",
              "      <td>0</td>\n",
              "      <td>0</td>\n",
              "      <td>0</td>\n",
              "      <td>0</td>\n",
              "      <td>0</td>\n",
              "      <td>0</td>\n",
              "      <td>0</td>\n",
              "      <td>0</td>\n",
              "      <td>0</td>\n",
              "      <td>0</td>\n",
              "      <td>0</td>\n",
              "    </tr>\n",
              "  </tbody>\n",
              "</table>\n",
              "<p>5938 rows × 13 columns</p>\n",
              "</div>"
            ],
            "text/plain": [
              "      0       1       2       3       4   ...     8     9      10    11     12\n",
              "0      2     776     776    1172     380  ...   1172   380    776  1172    380\n",
              "1      1   49612   48546   49157   49890  ...   1900  1333      0   999      0\n",
              "2     -1   73508   73303   71674   12701  ...   2548  2050   3006  2000    137\n",
              "3      3    2443    2443    2443    2443  ...      0     0      0     0      0\n",
              "4      1   10131   10833   20583   19996  ...  10000   400    700   800    600\n",
              "...   ..     ...     ...     ...     ...  ...    ...   ...    ...   ...    ...\n",
              "5933   0   17376   17538   16425   11976  ...  11236  1032      9     0      0\n",
              "5934   0  107430  109660  111387  111631  ...   5000  4300  12700     0   4500\n",
              "5935   0   50060   54213   49512   18657  ...   2655   800  15000     0  10000\n",
              "5936   0  100448  103990  104462   43810  ...   4200  1810   1765  2000   1665\n",
              "5937   0       0       0       0       0  ...      0     0      0     0      0\n",
              "\n",
              "[5938 rows x 13 columns]"
            ]
          },
          "metadata": {
            "tags": []
          },
          "execution_count": 396
        }
      ]
    },
    {
      "cell_type": "code",
      "metadata": {
        "id": "XHFVCsNHy51F",
        "colab_type": "code",
        "colab": {
          "base_uri": "https://localhost:8080/",
          "height": 136
        },
        "outputId": "3efebd35-f83b-4a9c-bb11-b03a6abb9d7a"
      },
      "source": [
        "pay"
      ],
      "execution_count": null,
      "outputs": [
        {
          "output_type": "execute_result",
          "data": {
            "text/plain": [
              "array([[     2,    776,    776, ...,    776,   1172,    380],\n",
              "       [     1,  49612,  48546, ...,      0,    999,      0],\n",
              "       [    -1,  73508,  73303, ...,   3006,   2000,    137],\n",
              "       ...,\n",
              "       [     0,  50060,  54213, ...,  15000,      0,  10000],\n",
              "       [     0, 100448, 103990, ...,   1765,   2000,   1665],\n",
              "       [     0,      0,      0, ...,      0,      0,      0]])"
            ]
          },
          "metadata": {
            "tags": []
          },
          "execution_count": 395
        }
      ]
    },
    {
      "cell_type": "markdown",
      "metadata": {
        "id": "dLDax4i__phK",
        "colab_type": "text"
      },
      "source": [
        "_______________________________________________________________________________________________\n",
        "**Next, calculate by what percent can the cost of defaults be decreased by the counseling program and output you result.**"
      ]
    },
    {
      "cell_type": "code",
      "metadata": {
        "eid": "96508",
        "id": "rY8YunDh_phK",
        "colab_type": "code",
        "colab": {
          "base_uri": "https://localhost:8080/",
          "height": 34
        },
        "outputId": "3257651e-fa73-4668-b321-7c3da395fb52"
      },
      "source": [
        "percent=(pay.sum()-net_savings.sum())/pay.sum()\n",
        "percent*100"
      ],
      "execution_count": null,
      "outputs": [
        {
          "output_type": "execute_result",
          "data": {
            "text/plain": [
              "60.069967866997175"
            ]
          },
          "metadata": {
            "tags": []
          },
          "execution_count": 394
        }
      ]
    },
    {
      "cell_type": "markdown",
      "metadata": {
        "id": "fPmhoLys_phO",
        "colab_type": "text"
      },
      "source": [
        "_______________________________________________________________________________________________\n",
        "**Then, calculate the net savings per account at the optimal threshold and output your result.**"
      ]
    },
    {
      "cell_type": "code",
      "metadata": {
        "eid": "5d78e",
        "id": "TeOVEjic_phP",
        "colab_type": "code",
        "colab": {
          "base_uri": "https://localhost:8080/",
          "height": 34
        },
        "outputId": "507fb2d7-aa40-4344-8f48-b0b13702304a"
      },
      "source": [
        "net_savings[max_savings_ix]/len(y_test_all)"
      ],
      "execution_count": null,
      "outputs": [
        {
          "output_type": "execute_result",
          "data": {
            "text/plain": [
              "2601.2673223171373"
            ]
          },
          "metadata": {
            "tags": []
          },
          "execution_count": 397
        }
      ]
    },
    {
      "cell_type": "markdown",
      "metadata": {
        "id": "LvVOJBAh_phR",
        "colab_type": "text"
      },
      "source": [
        "_______________________________________________________________________________________________\n",
        "**Now, plot the net savings per account against the cost of counseling per account for each threshold.**"
      ]
    },
    {
      "cell_type": "code",
      "metadata": {
        "eid": "71d38",
        "id": "9UwVngup_phS",
        "colab_type": "code",
        "colab": {
          "base_uri": "https://localhost:8080/",
          "height": 306
        },
        "outputId": "cce509b3-5330-47fe-e4c2-ad217cfb6862"
      },
      "source": [
        "plt.plot(cost_of_all_counselings ,net_savings)"
      ],
      "execution_count": null,
      "outputs": [
        {
          "output_type": "execute_result",
          "data": {
            "text/plain": [
              "[<matplotlib.lines.Line2D at 0x7f40da83cbe0>]"
            ]
          },
          "metadata": {
            "tags": []
          },
          "execution_count": 400
        },
        {
          "output_type": "display_data",
          "data": {
            "image/png": "[encoded data removed]",
            "text/plain": [
              "<Figure size 432x288 with 1 Axes>"
            ]
          },
          "metadata": {
            "tags": [],
            "needs_background": "light"
          }
        }
      ]
    },
    {
      "cell_type": "markdown",
      "metadata": {
        "id": "MbCUdcK4_phU",
        "colab_type": "text"
      },
      "source": [
        "_______________________________________________________________________________________________\n",
        "**Next, plot the fraction of accounts predicted as positive (this is called the \"flag rate\") at each threshold.**"
      ]
    },
    {
      "cell_type": "code",
      "metadata": {
        "eid": "6270e",
        "id": "RUIqqBp0_phV",
        "colab_type": "code",
        "colab": {
          "base_uri": "https://localhost:8080/",
          "height": 296
        },
        "outputId": "642a464c-6973-470d-f8c9-c9365dbd902d"
      },
      "source": [
        "plt.plot(thresholds, n_pos_pred)\n",
        "plt.xlabel(\"Thresholds\")\n",
        "plt.ylabel(\"flag rate\")"
      ],
      "execution_count": null,
      "outputs": [
        {
          "output_type": "execute_result",
          "data": {
            "text/plain": [
              "Text(0, 0.5, 'flag rate')"
            ]
          },
          "metadata": {
            "tags": []
          },
          "execution_count": 401
        },
        {
          "output_type": "display_data",
          "data": {
            "image/png": "[encoded data removed]",
            "text/plain": [
              "<Figure size 432x288 with 1 Axes>"
            ]
          },
          "metadata": {
            "tags": [],
            "needs_background": "light"
          }
        }
      ]
    },
    {
      "cell_type": "markdown",
      "metadata": {
        "id": "DvcpRids_phX",
        "colab_type": "text"
      },
      "source": [
        "_______________________________________________________________________________________________\n",
        "**Next, plot a precision-recall curve for the testing data.**"
      ]
    },
    {
      "cell_type": "code",
      "metadata": {
        "eid": "0edc5",
        "id": "9AQWyeBA_phY",
        "colab_type": "code",
        "colab": {
          "base_uri": "https://localhost:8080/",
          "height": 330
        },
        "outputId": "b53a3668-5e6b-40a4-b199-b520a44bfe88"
      },
      "source": [
        "plt.plot(n_true_pos/len(y_test_all),np.divide(n_true_pos,n_pos_pred))\n",
        "plt.xlabel(\"Recall\")\n",
        "plt.ylabel(\"Precision\")"
      ],
      "execution_count": null,
      "outputs": [
        {
          "output_type": "stream",
          "text": [
            "/usr/local/lib/python3.6/dist-packages/ipykernel_launcher.py:1: RuntimeWarning: invalid value encountered in true_divide\n",
            "  \"\"\"Entry point for launching an IPython kernel.\n"
          ],
          "name": "stderr"
        },
        {
          "output_type": "execute_result",
          "data": {
            "text/plain": [
              "Text(0, 0.5, 'Precision')"
            ]
          },
          "metadata": {
            "tags": []
          },
          "execution_count": 427
        },
        {
          "output_type": "display_data",
          "data": {
            "image/png": "[encoded data removed]",
            "text/plain": [
              "<Figure size 432x288 with 1 Axes>"
            ]
          },
          "metadata": {
            "tags": [],
            "needs_background": "light"
          }
        }
      ]
    },
    {
      "cell_type": "code",
      "metadata": {
        "id": "uw3AwP5X1iL2",
        "colab_type": "code",
        "colab": {
          "base_uri": "https://localhost:8080/",
          "height": 34
        },
        "outputId": "1150f222-9536-423b-bf52-b64b385afd1a"
      },
      "source": [
        "precision.shape"
      ],
      "execution_count": null,
      "outputs": [
        {
          "output_type": "execute_result",
          "data": {
            "text/plain": [
              "(5920,)"
            ]
          },
          "metadata": {
            "tags": []
          },
          "execution_count": 429
        }
      ]
    },
    {
      "cell_type": "code",
      "metadata": {
        "id": "Uc_613SN1kmj",
        "colab_type": "code",
        "colab": {
          "base_uri": "https://localhost:8080/",
          "height": 34
        },
        "outputId": "52e4b9d0-cc5e-49d1-80ce-2798a8e1fbec"
      },
      "source": [
        "recall.shape"
      ],
      "execution_count": null,
      "outputs": [
        {
          "output_type": "execute_result",
          "data": {
            "text/plain": [
              "(5920,)"
            ]
          },
          "metadata": {
            "tags": []
          },
          "execution_count": 430
        }
      ]
    },
    {
      "cell_type": "code",
      "metadata": {
        "id": "xrSHgsje4K_M",
        "colab_type": "code",
        "colab": {
          "base_uri": "https://localhost:8080/",
          "height": 34
        },
        "outputId": "3a3b62c1-ebd7-4846-addc-02826d50f790"
      },
      "source": [
        "thresholds.shape"
      ],
      "execution_count": null,
      "outputs": [
        {
          "output_type": "execute_result",
          "data": {
            "text/plain": [
              "(5919,)"
            ]
          },
          "metadata": {
            "tags": []
          },
          "execution_count": 431
        }
      ]
    },
    {
      "cell_type": "markdown",
      "metadata": {
        "id": "oPRaoP3O_pha",
        "colab_type": "text"
      },
      "source": [
        "_______________________________________________________________________________________________\n",
        "**Finally, plot precision and recall separately on the y-axis against threshold on the x-axis.**"
      ]
    },
    {
      "cell_type": "code",
      "metadata": {
        "eid": "88413",
        "id": "0uPV0lyW_pha",
        "colab_type": "code",
        "colab": {
          "base_uri": "https://localhost:8080/",
          "height": 296
        },
        "outputId": "64d3b5d5-ed7b-46d7-d31d-abb53e7ea480"
      },
      "source": [
        "precision=precision[:5919]\n",
        "recall=recall[:5919]\n",
        "plt.plot(thresholds, precision, label=\"Precision\")\n",
        "plt.plot(thresholds, recall, label=\"Recall\")\n",
        "plt.xlabel(\"Thresholds\")\n",
        "plt.legend()"
      ],
      "execution_count": null,
      "outputs": [
        {
          "output_type": "execute_result",
          "data": {
            "text/plain": [
              "<matplotlib.legend.Legend at 0x7f40d9797400>"
            ]
          },
          "metadata": {
            "tags": []
          },
          "execution_count": 433
        },
        {
          "output_type": "display_data",
          "data": {
            "image/png": "[encoded data removed]",
            "text/plain": [
              "<Figure size 432x288 with 1 Axes>"
            ]
          },
          "metadata": {
            "tags": [],
            "needs_background": "light"
          }
        }
      ]
    }
  ]
}