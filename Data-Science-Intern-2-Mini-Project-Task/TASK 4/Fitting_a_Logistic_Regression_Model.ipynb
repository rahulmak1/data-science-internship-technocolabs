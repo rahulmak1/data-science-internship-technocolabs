{
  "nbformat": 4,
  "nbformat_minor": 0,
  "metadata": {
    "kernelspec": {
      "display_name": "Python 3",
      "language": "python",
      "name": "python3"
    },
    "language_info": {
      "codemirror_mode": {
        "name": "ipython",
        "version": 3
      },
      "file_extension": ".py",
      "mimetype": "text/x-python",
      "name": "python",
      "nbconvert_exporter": "python",
      "pygments_lexer": "ipython3",
      "version": "3.7.4"
    },
    "colab": {
      "name": "Fitting_a_Logistic_Regression_Model.ipynb",
      "provenance": [],
      "collapsed_sections": []
    }
  },
  "cells": [
    {
      "cell_type": "code",
      "metadata": {
        "id": "F9Qy3K8Oe_6b",
        "colab_type": "code",
        "colab": {
          "base_uri": "https://localhost:8080/",
          "height": 34
        },
        "outputId": "2fdca133-de33-4928-f06a-9e2a2c559da0"
      },
      "source": [
        "from google.colab import drive\n",
        "drive.mount('/content/drive')"
      ],
      "execution_count": 57,
      "outputs": [
        {
          "output_type": "stream",
          "text": [
            "Drive already mounted at /content/drive; to attempt to forcibly remount, call drive.mount(\"/content/drive\", force_remount=True).\n"
          ],
          "name": "stdout"
        }
      ]
    },
    {
      "cell_type": "markdown",
      "metadata": {
        "id": "oJccTGZjYY_z",
        "colab_type": "text"
      },
      "source": [
        "**Run the following two cells before you begin.**"
      ]
    },
    {
      "cell_type": "code",
      "metadata": {
        "id": "Hj_0b7XUYY_1",
        "colab_type": "code",
        "colab": {
          "base_uri": "https://localhost:8080/",
          "height": 34
        },
        "outputId": "e6220b48-acc4-40ba-9e8f-5463a55ab2e5"
      },
      "source": [
        "%autosave 10"
      ],
      "execution_count": 58,
      "outputs": [
        {
          "output_type": "display_data",
          "data": {
            "application/javascript": [
              "IPython.notebook.set_autosave_interval(10000)"
            ]
          },
          "metadata": {
            "tags": []
          }
        },
        {
          "output_type": "stream",
          "text": [
            "Autosaving every 10 seconds\n"
          ],
          "name": "stdout"
        }
      ]
    },
    {
      "cell_type": "code",
      "metadata": {
        "id": "ZmPT4ovLYY_7",
        "colab_type": "code",
        "colab": {}
      },
      "source": [
        "import pandas as pd\n",
        "import numpy as np"
      ],
      "execution_count": 59,
      "outputs": []
    },
    {
      "cell_type": "markdown",
      "metadata": {
        "id": "jS9tKzgNYZAD",
        "colab_type": "text"
      },
      "source": [
        "______________________________________________________________________\n",
        "**First, import your data set and define the sigmoid function.**\n",
        "<details>\n",
        "    <summary>Hint:</summary>\n",
        "    The definition of the sigmoid is $f(x) = \\frac{1}{1 + e^{-X}}$.\n",
        "</details>"
      ]
    },
    {
      "cell_type": "code",
      "metadata": {
        "id": "iE2KvtepYZAE",
        "colab_type": "code",
        "colab": {}
      },
      "source": [
        "# Import the data set\n",
        "df_train = pd.read_csv('/content/drive/My Drive/cleaned_data.csv')"
      ],
      "execution_count": 60,
      "outputs": []
    },
    {
      "cell_type": "markdown",
      "metadata": {
        "id": "58yoUfBiYZAM",
        "colab_type": "text"
      },
      "source": [
        "**Now, create a train/test split (80/20) with `PAY_1` and `LIMIT_BAL` as features and `default payment next month` as values. Use a random state of 24.**"
      ]
    },
    {
      "cell_type": "code",
      "metadata": {
        "id": "RrBaNnr1YZAN",
        "colab_type": "code",
        "colab": {
          "base_uri": "https://localhost:8080/",
          "height": 34
        },
        "outputId": "6c660cde-c3d6-4cf1-90b3-4ef1311b2d0c"
      },
      "source": [
        "# Create a train/test split\n",
        "from sklearn.model_selection import train_test_split\n",
        "df = df_train[['PAY_1','LIMIT_BAL','default payment next month']]\n",
        "X  = df_train[['PAY_1','LIMIT_BAL']]\n",
        "X  = np.array(X)\n",
        "y  = df_train['default payment next month']\n",
        "X_train, X_test, y_train, y_test = train_test_split(X, y, test_size=0.2, random_state=24)\n",
        "X_train.shape, X_test.shape ,y_train.shape , X_test.shape"
      ],
      "execution_count": 61,
      "outputs": [
        {
          "output_type": "execute_result",
          "data": {
            "text/plain": [
              "((21331, 2), (5333, 2), (21331,), (5333, 2))"
            ]
          },
          "metadata": {
            "tags": []
          },
          "execution_count": 61
        }
      ]
    },
    {
      "cell_type": "markdown",
      "metadata": {
        "id": "P5utAulBYZAR",
        "colab_type": "text"
      },
      "source": [
        "______________________________________________________________________\n",
        "**Next, import LogisticRegression, with the default options, but set the solver to `'liblinear'`.**"
      ]
    },
    {
      "cell_type": "code",
      "metadata": {
        "id": "-vDjDaWpYZAR",
        "colab_type": "code",
        "colab": {}
      },
      "source": [
        "# fitting logistic regression to the training set\n",
        "from sklearn.linear_model import LogisticRegression\n",
        "classifier = LogisticRegression(solver = 'liblinear')"
      ],
      "execution_count": 62,
      "outputs": []
    },
    {
      "cell_type": "markdown",
      "metadata": {
        "id": "-tMjo8fpYZAW",
        "colab_type": "text"
      },
      "source": [
        "______________________________________________________________________\n",
        "**Now, train on the training data and obtain predicted classes, as well as class probabilities, using the testing data.**"
      ]
    },
    {
      "cell_type": "code",
      "metadata": {
        "id": "awrlvUPkYZAX",
        "colab_type": "code",
        "colab": {
          "base_uri": "https://localhost:8080/",
          "height": 102
        },
        "outputId": "9e6e4845-e00a-4d2e-a2cc-86976a7cddd3"
      },
      "source": [
        "# Fit the logistic regression model on training data\n",
        "classifier.fit(X_train, y_train)"
      ],
      "execution_count": 63,
      "outputs": [
        {
          "output_type": "execute_result",
          "data": {
            "text/plain": [
              "LogisticRegression(C=1.0, class_weight=None, dual=False, fit_intercept=True,\n",
              "                   intercept_scaling=1, l1_ratio=None, max_iter=100,\n",
              "                   multi_class='auto', n_jobs=None, penalty='l2',\n",
              "                   random_state=None, solver='liblinear', tol=0.0001, verbose=0,\n",
              "                   warm_start=False)"
            ]
          },
          "metadata": {
            "tags": []
          },
          "execution_count": 63
        }
      ]
    },
    {
      "cell_type": "code",
      "metadata": {
        "id": "q3wH-FVJYZAb",
        "colab_type": "code",
        "colab": {}
      },
      "source": [
        "# Make predictions using `.predict()`\n",
        "# predictiing the test result\n",
        "y_pred = classifier.predict(X_test)"
      ],
      "execution_count": 64,
      "outputs": []
    },
    {
      "cell_type": "code",
      "metadata": {
        "id": "bIR_knb5sTLQ",
        "colab_type": "code",
        "colab": {
          "base_uri": "https://localhost:8080/",
          "height": 34
        },
        "outputId": "e451f37c-363c-4b20-fa3e-b90749bf218b"
      },
      "source": [
        "y_pred"
      ],
      "execution_count": 65,
      "outputs": [
        {
          "output_type": "execute_result",
          "data": {
            "text/plain": [
              "array([0, 0, 0, ..., 0, 0, 0])"
            ]
          },
          "metadata": {
            "tags": []
          },
          "execution_count": 65
        }
      ]
    },
    {
      "cell_type": "code",
      "metadata": {
        "id": "CQSVGSHuFY5C",
        "colab_type": "code",
        "colab": {
          "base_uri": "https://localhost:8080/",
          "height": 34
        },
        "outputId": "648bc800-9112-4224-9866-96649e138ac3"
      },
      "source": [
        "classifier.classes_"
      ],
      "execution_count": 66,
      "outputs": [
        {
          "output_type": "execute_result",
          "data": {
            "text/plain": [
              "array([0, 1])"
            ]
          },
          "metadata": {
            "tags": []
          },
          "execution_count": 66
        }
      ]
    },
    {
      "cell_type": "code",
      "metadata": {
        "id": "u7scY377YZAf",
        "colab_type": "code",
        "colab": {}
      },
      "source": [
        "# Find class probabilities using `.predict_proba()`\n",
        "y_pred_prob= classifier.predict_proba(X_test)"
      ],
      "execution_count": 67,
      "outputs": []
    },
    {
      "cell_type": "code",
      "metadata": {
        "id": "e1R8NHz5ETzw",
        "colab_type": "code",
        "colab": {
          "base_uri": "https://localhost:8080/",
          "height": 136
        },
        "outputId": "b2a2eda0-4a94-4c6c-d3da-ce5b2a5221f9"
      },
      "source": [
        "y_pred_prob"
      ],
      "execution_count": 68,
      "outputs": [
        {
          "output_type": "execute_result",
          "data": {
            "text/plain": [
              "array([[0.74826924, 0.25173076],\n",
              "       [0.584297  , 0.415703  ],\n",
              "       [0.79604453, 0.20395547],\n",
              "       ...,\n",
              "       [0.584297  , 0.415703  ],\n",
              "       [0.82721498, 0.17278502],\n",
              "       [0.66393435, 0.33606565]])"
            ]
          },
          "metadata": {
            "tags": []
          },
          "execution_count": 68
        }
      ]
    },
    {
      "cell_type": "code",
      "metadata": {
        "id": "PHVSK3klsYqW",
        "colab_type": "code",
        "colab": {
          "base_uri": "https://localhost:8080/",
          "height": 557
        },
        "outputId": "695b062e-b1c0-4b0e-9a90-dd777aac79a6"
      },
      "source": [
        "from sklearn.metrics import confusion_matrix ,classification_report, accuracy_score\n",
        "import seaborn as sns\n",
        "import matplotlib.pyplot as plt\n",
        "cm = confusion_matrix(y_test,y_pred)\n",
        "sns.heatmap(cm,annot=True)\n",
        "print('classification_report:\\n',classification_report(y_test,y_pred))\n",
        "print('confusion matrix:\\n',cm)\n",
        "print('accuracy_score:',accuracy_score(y_test,y_pred))"
      ],
      "execution_count": 69,
      "outputs": [
        {
          "output_type": "stream",
          "text": [
            "classification_report:\n",
            "               precision    recall  f1-score   support\n",
            "\n",
            "           0       0.78      1.00      0.88      4178\n",
            "           1       0.00      0.00      0.00      1155\n",
            "\n",
            "    accuracy                           0.78      5333\n",
            "   macro avg       0.39      0.50      0.44      5333\n",
            "weighted avg       0.61      0.78      0.69      5333\n",
            "\n",
            "confusion matrix:\n",
            " [[4178    0]\n",
            " [1155    0]]\n",
            "accuracy_score: 0.7834239639977498\n"
          ],
          "name": "stdout"
        },
        {
          "output_type": "stream",
          "text": [
            "/usr/local/lib/python3.6/dist-packages/sklearn/metrics/_classification.py:1272: UndefinedMetricWarning: Precision and F-score are ill-defined and being set to 0.0 in labels with no predicted samples. Use `zero_division` parameter to control this behavior.\n",
            "  _warn_prf(average, modifier, msg_start, len(result))\n"
          ],
          "name": "stderr"
        },
        {
          "output_type": "display_data",
          "data": {
            "image/png": "[encoded data removed]",
            "text/plain": [
              "<Figure size 432x288 with 2 Axes>"
            ]
          },
          "metadata": {
            "tags": [],
            "needs_background": "light"
          }
        }
      ]
    },
    {
      "cell_type": "markdown",
      "metadata": {
        "id": "wytMgXF3YZAi",
        "colab_type": "text"
      },
      "source": [
        "______________________________________________________________________\n",
        "**Then, pull out the coefficients and intercept from the trained model and manually calculate predicted probabilities. You'll need to add a column of 1s to your features, to multiply by the intercept.**"
      ]
    },
    {
      "cell_type": "code",
      "metadata": {
        "id": "a5KHnc00YZAk",
        "colab_type": "code",
        "colab": {}
      },
      "source": [
        "# Add column of 1s to features\n",
        "#np.ones((X_test.shape[0],1)).shape"
      ],
      "execution_count": 70,
      "outputs": []
    },
    {
      "cell_type": "code",
      "metadata": {
        "id": "NNTqYrEbbJCN",
        "colab_type": "code",
        "colab": {
          "base_uri": "https://localhost:8080/",
          "height": 136
        },
        "outputId": "a3f29bc3-e1df-4987-c104-528f0ffa0e80"
      },
      "source": [
        "new_fe=np.hstack([np.ones((X_test.shape[0],1)),X_test])\n",
        "new_fe"
      ],
      "execution_count": 71,
      "outputs": [
        {
          "output_type": "execute_result",
          "data": {
            "text/plain": [
              "array([[ 1.0e+00,  2.0e+00,  1.6e+05],\n",
              "       [ 1.0e+00,  1.0e+00,  5.0e+04],\n",
              "       [ 1.0e+00, -1.0e+00,  2.0e+05],\n",
              "       ...,\n",
              "       [ 1.0e+00, -1.0e+00,  5.0e+04],\n",
              "       [ 1.0e+00,  1.0e+00,  2.3e+05],\n",
              "       [ 1.0e+00,  2.0e+00,  1.0e+05]])"
            ]
          },
          "metadata": {
            "tags": []
          },
          "execution_count": 71
        }
      ]
    },
    {
      "cell_type": "code",
      "metadata": {
        "id": "7awoORkQYZAp",
        "colab_type": "code",
        "colab": {
          "base_uri": "https://localhost:8080/",
          "height": 51
        },
        "outputId": "91f8cf3d-7620-4027-b97d-4442e402ed39"
      },
      "source": [
        "# Get coefficients and intercepts from trained model\n",
        "a = classifier.coef_\n",
        "print(a)\n",
        "b = classifier.intercept_\n",
        "print(b)"
      ],
      "execution_count": 72,
      "outputs": [
        {
          "output_type": "stream",
          "text": [
            "[[ 8.27451187e-11 -6.80876727e-06]]\n",
            "[-6.57647457e-11]\n"
          ],
          "name": "stdout"
        }
      ]
    },
    {
      "cell_type": "code",
      "metadata": {
        "id": "70i4Ss98bYcw",
        "colab_type": "code",
        "colab": {
          "base_uri": "https://localhost:8080/",
          "height": 34
        },
        "outputId": "d482cebc-7a0f-4759-d86f-7648e0d3a967"
      },
      "source": [
        "combined=np.concatenate([b.reshape(1,1),a],axis=1)\n",
        "combined"
      ],
      "execution_count": 73,
      "outputs": [
        {
          "output_type": "execute_result",
          "data": {
            "text/plain": [
              "array([[-6.57647457e-11,  8.27451187e-11, -6.80876727e-06]])"
            ]
          },
          "metadata": {
            "tags": []
          },
          "execution_count": 73
        }
      ]
    },
    {
      "cell_type": "code",
      "metadata": {
        "id": "qsrykGU3YZAu",
        "colab_type": "code",
        "colab": {
          "base_uri": "https://localhost:8080/",
          "height": 51
        },
        "outputId": "1e2abcca-178f-4aab-9a94-091463bc7634"
      },
      "source": [
        "# Manually calculate predicted probabilities\n",
        "pred_proba=np.dot(combined,np.transpose(new_fe))\n",
        "pred_proba"
      ],
      "execution_count": 74,
      "outputs": [
        {
          "output_type": "execute_result",
          "data": {
            "text/plain": [
              "array([[-1.08940276, -0.34043836, -1.36175345, ..., -0.34043836,\n",
              "        -1.56601647, -0.68087673]])"
            ]
          },
          "metadata": {
            "tags": []
          },
          "execution_count": 74
        }
      ]
    },
    {
      "cell_type": "code",
      "metadata": {
        "id": "b-qClCANeD7r",
        "colab_type": "code",
        "colab": {}
      },
      "source": [
        "def sigmoid(X):\n",
        "    z=1/(1/1+np.exp(-X))\n",
        "    return z"
      ],
      "execution_count": 75,
      "outputs": []
    },
    {
      "cell_type": "code",
      "metadata": {
        "id": "Z6rCFYCNXAjj",
        "colab_type": "code",
        "colab": {
          "base_uri": "https://localhost:8080/",
          "height": 51
        },
        "outputId": "6efa5f8a-ca06-463a-dbec-e40a904b964f"
      },
      "source": [
        "new_proba= sigmoid(pred_proba)\n",
        "new_proba"
      ],
      "execution_count": 76,
      "outputs": [
        {
          "output_type": "execute_result",
          "data": {
            "text/plain": [
              "array([[0.25173076, 0.415703  , 0.20395547, ..., 0.415703  , 0.17278502,\n",
              "        0.33606565]])"
            ]
          },
          "metadata": {
            "tags": []
          },
          "execution_count": 76
        }
      ]
    },
    {
      "cell_type": "code",
      "metadata": {
        "id": "o4X4aS5--iV1",
        "colab_type": "code",
        "colab": {
          "base_uri": "https://localhost:8080/",
          "height": 34
        },
        "outputId": "e98228e9-4ea8-4067-a924-379e91aa8b26"
      },
      "source": [
        "new_proba.shape"
      ],
      "execution_count": 77,
      "outputs": [
        {
          "output_type": "execute_result",
          "data": {
            "text/plain": [
              "(1, 5333)"
            ]
          },
          "metadata": {
            "tags": []
          },
          "execution_count": 77
        }
      ]
    },
    {
      "cell_type": "markdown",
      "metadata": {
        "id": "nkM9EjrzYZAy",
        "colab_type": "text"
      },
      "source": [
        "______________________________________________________________________\n",
        "**Next, using a threshold of `0.5`, manually calculate predicted classes. Compare this to the class predictions output by scikit-learn.**"
      ]
    },
    {
      "cell_type": "code",
      "metadata": {
        "id": "CT9gmlrCYZAy",
        "colab_type": "code",
        "colab": {
          "base_uri": "https://localhost:8080/",
          "height": 34
        },
        "outputId": "ecc6e716-0062-41c7-bc56-178af0f7908d"
      },
      "source": [
        "# Manually calculate predicted classes\n",
        "proba_cls=new_proba >=0.5\n",
        "proba_cls.shape"
      ],
      "execution_count": 78,
      "outputs": [
        {
          "output_type": "execute_result",
          "data": {
            "text/plain": [
              "(1, 5333)"
            ]
          },
          "metadata": {
            "tags": []
          },
          "execution_count": 78
        }
      ]
    },
    {
      "cell_type": "code",
      "metadata": {
        "id": "Gt-_rWileyrk",
        "colab_type": "code",
        "colab": {
          "base_uri": "https://localhost:8080/",
          "height": 34
        },
        "outputId": "f0e187ca-17d5-40a3-b343-d8afd1a09b77"
      },
      "source": [
        "y_pred.shape"
      ],
      "execution_count": 79,
      "outputs": [
        {
          "output_type": "execute_result",
          "data": {
            "text/plain": [
              "(5333,)"
            ]
          },
          "metadata": {
            "tags": []
          },
          "execution_count": 79
        }
      ]
    },
    {
      "cell_type": "code",
      "metadata": {
        "id": "4NrT0ig8YZA2",
        "colab_type": "code",
        "colab": {
          "base_uri": "https://localhost:8080/",
          "height": 34
        },
        "outputId": "2b1babb0-e14e-406f-b278-0a516fe09dd9"
      },
      "source": [
        "# Compare to scikit-learn's predicted classes\n",
        "y_prediction_test = classifier.predict(X_test)\n",
        "print(\"test accuracy: {} %\".format(100 - np.mean(np.abs(y_prediction_test - new_proba)) * 100))"
      ],
      "execution_count": 80,
      "outputs": [
        {
          "output_type": "stream",
          "text": [
            "test accuracy: 72.73274649943448 %\n"
          ],
          "name": "stdout"
        }
      ]
    },
    {
      "cell_type": "code",
      "metadata": {
        "id": "UewpAxQv-y8W",
        "colab_type": "code",
        "colab": {}
      },
      "source": [
        "new_proba=new_proba[0,:]"
      ],
      "execution_count": 82,
      "outputs": []
    },
    {
      "cell_type": "code",
      "metadata": {
        "id": "NkpMaEHZ-Vr9",
        "colab_type": "code",
        "colab": {
          "base_uri": "https://localhost:8080/",
          "height": 34
        },
        "outputId": "e199e914-3903-439e-af20-adef08e57f48"
      },
      "source": [
        "# Use scikit-learn's predicted probabilities to calculate ROC AUC\n",
        "roc_auc_score(y_test,new_proba)"
      ],
      "execution_count": 81,
      "outputs": [
        {
          "output_type": "execute_result",
          "data": {
            "text/plain": [
              "0.627207450280691"
            ]
          },
          "metadata": {
            "tags": []
          },
          "execution_count": 81
        }
      ]
    },
    {
      "cell_type": "markdown",
      "metadata": {
        "id": "Hpe8KAtpYZA6",
        "colab_type": "text"
      },
      "source": [
        "______________________________________________________________________\n",
        "**Finally, calculate ROC AUC using both scikit-learn's predicted probabilities, and your manually predicted probabilities, and compare.**"
      ]
    },
    {
      "cell_type": "code",
      "metadata": {
        "eid": "e7697",
        "id": "zGjhqx38YZA6",
        "colab_type": "code",
        "colab": {
          "base_uri": "https://localhost:8080/",
          "height": 475
        },
        "outputId": "681da924-6e04-4961-c063-02990df0e431"
      },
      "source": [
        "# Use scikit-learn's predicted probabilities to calculate ROC AUC\n",
        "from sklearn.metrics import roc_auc_score\n",
        "print(roc_auc_score(y_test , y_pred_prob[:,1]))\n",
        "\n",
        "\n",
        "from sklearn.metrics import roc_curve\n",
        "fpr,tpr,threshold = roc_curve(y_test , y_pred_prob[:,1])\n",
        "plt.figure(figsize=(10,7))\n",
        "plt.plot(fpr,tpr,label = 'roc curve')\n",
        "plt.plot([0,1],[0,1],'r--')\n",
        "plt.title('ROC curve')\n",
        "plt.xlabel('False positive rate')\n",
        "plt.ylabel('True positive rate')\n",
        "plt.legend()\n",
        "plt.show()"
      ],
      "execution_count": 85,
      "outputs": [
        {
          "output_type": "stream",
          "text": [
            "0.627207450280691\n"
          ],
          "name": "stdout"
        },
        {
          "output_type": "display_data",
          "data": {
            "image/png": "[encoded data removed]",
            "text/plain": [
              "<Figure size 720x504 with 1 Axes>"
            ]
          },
          "metadata": {
            "tags": [],
            "needs_background": "light"
          }
        }
      ]
    },
    {
      "cell_type": "code",
      "metadata": {
        "id": "WJXENITcgraO",
        "colab_type": "code",
        "colab": {
          "base_uri": "https://localhost:8080/",
          "height": 51
        },
        "outputId": "819ebb65-8beb-41c6-914c-e852f4a14a25"
      },
      "source": [
        "pred_proba.reshape(pred_proba.shape[1])"
      ],
      "execution_count": 86,
      "outputs": [
        {
          "output_type": "execute_result",
          "data": {
            "text/plain": [
              "array([-1.08940276, -0.34043836, -1.36175345, ..., -0.34043836,\n",
              "       -1.56601647, -0.68087673])"
            ]
          },
          "metadata": {
            "tags": []
          },
          "execution_count": 86
        }
      ]
    },
    {
      "cell_type": "code",
      "metadata": {
        "id": "WDcQfa0AYZBF",
        "colab_type": "code",
        "colab": {
          "base_uri": "https://localhost:8080/",
          "height": 34
        },
        "outputId": "225c2ea9-8c06-4cab-8a70-e732e258e2e8"
      },
      "source": [
        "# Use manually calculated predicted probabilities to calculate ROC AUC\n",
        "\n",
        "from sklearn.metrics import roc_auc_score\n",
        "print(roc_auc_score(y_test , new_proba))"
      ],
      "execution_count": 87,
      "outputs": [
        {
          "output_type": "stream",
          "text": [
            "0.627207450280691\n"
          ],
          "name": "stdout"
        }
      ]
    },
    {
      "cell_type": "code",
      "metadata": {
        "id": "WG4Jwuwigfhb",
        "colab_type": "code",
        "colab": {
          "base_uri": "https://localhost:8080/",
          "height": 458
        },
        "outputId": "6f0f709d-9995-4937-9210-d24111070e4c"
      },
      "source": [
        "from sklearn.metrics import roc_curve\n",
        "fpr,tpr,threshold = roc_curve(y_test , new_proba)\n",
        "plt.figure(figsize=(10,7))\n",
        "plt.plot(fpr,tpr,label = 'roc curve')\n",
        "plt.plot([0,1],[0,1],'r--')\n",
        "plt.title('ROC curve')\n",
        "plt.xlabel('False positive rate')\n",
        "plt.ylabel('True positive rate')\n",
        "plt.legend()\n",
        "plt.show()"
      ],
      "execution_count": 88,
      "outputs": [
        {
          "output_type": "display_data",
          "data": {
            "image/png": "[encoded data removed]",
            "text/plain": [
              "<Figure size 720x504 with 1 Axes>"
            ]
          },
          "metadata": {
            "tags": [],
            "needs_background": "light"
          }
        }
      ]
    }
  ]
}