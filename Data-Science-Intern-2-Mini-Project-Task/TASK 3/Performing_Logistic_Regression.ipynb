{
  "nbformat": 4,
  "nbformat_minor": 0,
  "metadata": {
    "kernelspec": {
      "display_name": "Python 3",
      "language": "python",
      "name": "python3"
    },
    "language_info": {
      "codemirror_mode": {
        "name": "ipython",
        "version": 3
      },
      "file_extension": ".py",
      "mimetype": "text/x-python",
      "name": "python",
      "nbconvert_exporter": "python",
      "pygments_lexer": "ipython3",
      "version": "3.7.4"
    },
    "colab": {
      "name": "Performing_Logistic_Regression.ipynb",
      "provenance": []
    }
  },
  "cells": [
    {
      "cell_type": "code",
      "metadata": {
        "id": "UU7ZhoThDYj0",
        "colab_type": "code",
        "colab": {
          "base_uri": "https://localhost:8080/",
          "height": 122
        },
        "outputId": "4bd56cb4-48b0-491e-bc03-66f500f302af"
      },
      "source": [
        "from google.colab import drive\n",
        "drive.mount('/content/drive')"
      ],
      "execution_count": null,
      "outputs": [
        {
          "output_type": "stream",
          "text": [
            "Go to this URL in a browser: https://accounts.google.com/o/oauth2/auth?client_id=947318989803-6bn6qk8qdgf4n4g3pfee6491hc0brc4i.apps.googleusercontent.com&redirect_uri=urn%3aietf%3awg%3aoauth%3a2.0%3aoob&response_type=code&scope=email%20https%3a%2f%2fwww.googleapis.com%2fauth%2fdocs.test%20https%3a%2f%2fwww.googleapis.com%2fauth%2fdrive%20https%3a%2f%2fwww.googleapis.com%2fauth%2fdrive.photos.readonly%20https%3a%2f%2fwww.googleapis.com%2fauth%2fpeopleapi.readonly\n",
            "\n",
            "Enter your authorization code:\n",
            "··········\n",
            "Mounted at /content/drive\n"
          ],
          "name": "stdout"
        }
      ]
    },
    {
      "cell_type": "code",
      "metadata": {
        "id": "_xBCaJ-SBOTf",
        "colab_type": "code",
        "colab": {
          "base_uri": "https://localhost:8080/",
          "height": 34
        },
        "outputId": "8bb13c4d-70d3-40c0-e73d-201128545e9e"
      },
      "source": [
        "%autosave 10"
      ],
      "execution_count": 11,
      "outputs": [
        {
          "output_type": "display_data",
          "data": {
            "application/javascript": [
              "IPython.notebook.set_autosave_interval(10000)"
            ]
          },
          "metadata": {
            "tags": []
          }
        },
        {
          "output_type": "stream",
          "text": [
            "Autosaving every 10 seconds\n"
          ],
          "name": "stdout"
        }
      ]
    },
    {
      "cell_type": "markdown",
      "metadata": {
        "id": "Wq4rcVt7BOTn",
        "colab_type": "text"
      },
      "source": [
        "**First, create a dataframe of *cleaned_data.csv*. Then, use scikit-learn's `train_test_split` to make a new set of training and testing data. This time, instead of `EDUCATION`, use `LIMIT_BAL`: the account's credit limit.**"
      ]
    },
    {
      "cell_type": "code",
      "metadata": {
        "id": "txfG5EpoIliF",
        "colab_type": "code",
        "colab": {}
      },
      "source": [
        "import pandas as pd\n",
        "import matplotlib.pyplot as plt\n",
        "# Import the dataset\n",
        "df_train = pd.read_csv('/content/drive/My Drive/cleaned_data.csv')"
      ],
      "execution_count": 22,
      "outputs": []
    },
    {
      "cell_type": "code",
      "metadata": {
        "id": "SV2iVr98Y6Wn",
        "colab_type": "code",
        "colab": {}
      },
      "source": [
        "df_train = pd.get_dummies(df_train, columns=['EDUCATION_CAT'], drop_first=True)"
      ],
      "execution_count": 23,
      "outputs": []
    },
    {
      "cell_type": "code",
      "metadata": {
        "id": "FTi_hX7EIalR",
        "colab_type": "code",
        "colab": {}
      },
      "source": [
        "X = df_train.drop(columns={'ID','default payment next month','LIMIT_BAL'})\n",
        "y = df_train['default payment next month']"
      ],
      "execution_count": 24,
      "outputs": []
    },
    {
      "cell_type": "code",
      "metadata": {
        "eid": "662ef",
        "id": "0IRl3CdHBOTo",
        "colab_type": "code",
        "colab": {}
      },
      "source": [
        "from sklearn.model_selection import train_test_split\n",
        "X_train, X_test, y_train, y_test = train_test_split(X, y, test_size=0.2, random_state=0)"
      ],
      "execution_count": 25,
      "outputs": []
    },
    {
      "cell_type": "code",
      "metadata": {
        "id": "CNjBZTHBI8l_",
        "colab_type": "code",
        "colab": {
          "base_uri": "https://localhost:8080/",
          "height": 34
        },
        "outputId": "315fd06b-6261-4565-9e57-a0a05a03aaaf"
      },
      "source": [
        "X_train.shape, X_test.shape ,y_train.shape , X_test.shape"
      ],
      "execution_count": 26,
      "outputs": [
        {
          "output_type": "execute_result",
          "data": {
            "text/plain": [
              "((21331, 29), (5333, 29), (21331,), (5333, 29))"
            ]
          },
          "metadata": {
            "tags": []
          },
          "execution_count": 26
        }
      ]
    },
    {
      "cell_type": "markdown",
      "metadata": {
        "id": "kLF1MMk3BOTw",
        "colab_type": "text"
      },
      "source": [
        "_________________________________________________________________________\n",
        "**Next, train a logistic regression model using the training data from your split.**\n"
      ]
    },
    {
      "cell_type": "code",
      "metadata": {
        "id": "hEnVr7zdJR-S",
        "colab_type": "code",
        "colab": {}
      },
      "source": [
        "# scale data before regression\n",
        "from sklearn.preprocessing import StandardScaler\n",
        "\n",
        "scaler = StandardScaler()\n",
        "X_train = scaler.fit_transform(X_train)\n",
        "X_test = scaler.fit_transform(X_test)"
      ],
      "execution_count": 27,
      "outputs": []
    },
    {
      "cell_type": "code",
      "metadata": {
        "eid": "05e84",
        "id": "9Lt2gpi7BOTx",
        "colab_type": "code",
        "colab": {}
      },
      "source": [
        "# fitting logistic regression to the training set\n",
        "from sklearn.linear_model import LogisticRegression\n",
        "classifier = LogisticRegression(random_state=0)\n",
        "classifier.fit(X_train, y_train)\n",
        "# predictiing the test result\n",
        "y_pred = classifier.predict(X_test)"
      ],
      "execution_count": 28,
      "outputs": []
    },
    {
      "cell_type": "markdown",
      "metadata": {
        "id": "IOAFBvttBOT1",
        "colab_type": "text"
      },
      "source": [
        "_________________________________________________________________________\n",
        "**Then, create the array of predicted probabilities for the testing data.**\n"
      ]
    },
    {
      "cell_type": "code",
      "metadata": {
        "eid": "b671b",
        "id": "9xFm0o65BOT3",
        "colab_type": "code",
        "colab": {
          "base_uri": "https://localhost:8080/",
          "height": 34
        },
        "outputId": "9b8bf135-a2b1-4372-ec99-31877ab10724"
      },
      "source": [
        "y_pred"
      ],
      "execution_count": 29,
      "outputs": [
        {
          "output_type": "execute_result",
          "data": {
            "text/plain": [
              "array([0, 0, 0, ..., 0, 0, 0])"
            ]
          },
          "metadata": {
            "tags": []
          },
          "execution_count": 29
        }
      ]
    },
    {
      "cell_type": "code",
      "metadata": {
        "id": "ygExY_IPeBTf",
        "colab_type": "code",
        "colab": {}
      },
      "source": [
        "y_pred_prob= classifier.predict_proba(X_test)"
      ],
      "execution_count": 30,
      "outputs": []
    },
    {
      "cell_type": "code",
      "metadata": {
        "id": "uLpzWmzheQj8",
        "colab_type": "code",
        "colab": {
          "base_uri": "https://localhost:8080/",
          "height": 51
        },
        "outputId": "5f8c403e-f7e1-406c-da27-314cdbb27efc"
      },
      "source": [
        "y_pred_prob_2 = y_pred_prob[:,1]\n",
        "y_pred_prob_2"
      ],
      "execution_count": 31,
      "outputs": [
        {
          "output_type": "execute_result",
          "data": {
            "text/plain": [
              "array([0.10396714, 0.02920931, 0.19349144, ..., 0.14858034, 0.18974006,\n",
              "       0.1158754 ])"
            ]
          },
          "metadata": {
            "tags": []
          },
          "execution_count": 31
        }
      ]
    },
    {
      "cell_type": "code",
      "metadata": {
        "id": "0vOzq4Rob0iv",
        "colab_type": "code",
        "colab": {
          "base_uri": "https://localhost:8080/",
          "height": 720
        },
        "outputId": "9449da58-1405-4271-917a-d2627b5f4e90"
      },
      "source": [
        "from sklearn.metrics import confusion_matrix ,classification_report, accuracy_score\n",
        "import seaborn as sns\n",
        "cm = confusion_matrix(y_test,y_pred)\n",
        "plt.figure(figsize=(10,7))\n",
        "sns.heatmap(cm,annot=True)\n",
        "print('classification_report:\\n',classification_report(y_test,y_pred))\n",
        "print('confusion matrix:\\n',cm)\n",
        "print('accuracy_score:',accuracy_score(y_test,y_pred))"
      ],
      "execution_count": 32,
      "outputs": [
        {
          "output_type": "stream",
          "text": [
            "/usr/local/lib/python3.6/dist-packages/statsmodels/tools/_testing.py:19: FutureWarning: pandas.util.testing is deprecated. Use the functions in the public API at pandas.testing instead.\n",
            "  import pandas.util.testing as tm\n"
          ],
          "name": "stderr"
        },
        {
          "output_type": "stream",
          "text": [
            "classification_report:\n",
            "               precision    recall  f1-score   support\n",
            "\n",
            "           0       0.83      0.97      0.90      4204\n",
            "           1       0.73      0.26      0.38      1129\n",
            "\n",
            "    accuracy                           0.82      5333\n",
            "   macro avg       0.78      0.62      0.64      5333\n",
            "weighted avg       0.81      0.82      0.79      5333\n",
            "\n",
            "confusion matrix:\n",
            " [[4096  108]\n",
            " [ 836  293]]\n",
            "accuracy_score: 0.8229889368085506\n"
          ],
          "name": "stdout"
        },
        {
          "output_type": "display_data",
          "data": {
            "image/png": "[encoded data removed]",
            "text/plain": [
              "<Figure size 720x504 with 2 Axes>"
            ]
          },
          "metadata": {
            "tags": [],
            "needs_background": "light"
          }
        }
      ]
    },
    {
      "cell_type": "markdown",
      "metadata": {
        "id": "IRnVsR62BOT7",
        "colab_type": "text"
      },
      "source": [
        "_________________________________________________________________________\n",
        "**Next, calculate the ROC AUC using the predicted probabilities and the true labels of the testing data. Compare this to the ROC AUC from using the `EDUCATION` feature.**\n"
      ]
    },
    {
      "cell_type": "code",
      "metadata": {
        "eid": "58476",
        "id": "UQKZ46PjBOT8",
        "colab_type": "code",
        "colab": {
          "base_uri": "https://localhost:8080/",
          "height": 34
        },
        "outputId": "28b14bc2-fbf7-492b-81e1-ec2a1124c1d9"
      },
      "source": [
        "from sklearn.metrics import roc_auc_score\n",
        "roc_auc_score(y_test , y_pred_prob_2)"
      ],
      "execution_count": 33,
      "outputs": [
        {
          "output_type": "execute_result",
          "data": {
            "text/plain": [
              "0.7200979665070764"
            ]
          },
          "metadata": {
            "tags": []
          },
          "execution_count": 33
        }
      ]
    },
    {
      "cell_type": "markdown",
      "metadata": {
        "id": "Gg3KSWdTBOUC",
        "colab_type": "text"
      },
      "source": [
        "_________________________________________________________________________\n",
        "**Now, plot the ROC curve.**\n"
      ]
    },
    {
      "cell_type": "code",
      "metadata": {
        "eid": "289eb",
        "id": "_2zYM2kVBOUD",
        "colab_type": "code",
        "colab": {
          "base_uri": "https://localhost:8080/",
          "height": 458
        },
        "outputId": "880a4912-251c-4864-fe22-93ecd167cdb5"
      },
      "source": [
        "from sklearn.metrics import roc_curve\n",
        "fpr,tpr,threshold = roc_curve(y_test , y_pred_prob_2)\n",
        "plt.figure(figsize=(10,7))\n",
        "plt.plot(fpr,tpr,label = 'roc curve')\n",
        "plt.plot([0,1],[0,1],'r--')\n",
        "plt.title('ROC curve')\n",
        "plt.xlabel('False positive rate')\n",
        "plt.ylabel('True positive rate')\n",
        "plt.legend()\n",
        "plt.show()"
      ],
      "execution_count": 34,
      "outputs": [
        {
          "output_type": "display_data",
          "data": {
            "image/png": "[encoded data removed]",
            "text/plain": [
              "<Figure size 720x504 with 1 Axes>"
            ]
          },
          "metadata": {
            "tags": [],
            "needs_background": "light"
          }
        }
      ]
    },
    {
      "cell_type": "markdown",
      "metadata": {
        "id": "3IfU2zo8BOUJ",
        "colab_type": "text"
      },
      "source": [
        "_________________________________________________________________________\n",
        "**Then, calculate the data for the precision-recall curve on the testing data using scikit-learn functionality.**\n"
      ]
    },
    {
      "cell_type": "code",
      "metadata": {
        "eid": "73fdb",
        "id": "ob7DGDQ7BOUL",
        "colab_type": "code",
        "colab": {
          "base_uri": "https://localhost:8080/",
          "height": 119
        },
        "outputId": "0effbf41-107f-47f5-8305-999edca8d327"
      },
      "source": [
        "from sklearn.metrics import precision_recall_curve\n",
        "precision_recall_curve(y_test , y_pred_prob_2)"
      ],
      "execution_count": 35,
      "outputs": [
        {
          "output_type": "execute_result",
          "data": {
            "text/plain": [
              "(array([0.21209844, 0.21195039, 0.21199023, ..., 1.        , 1.        ,\n",
              "        1.        ]),\n",
              " array([1.00000000e+00, 9.99114260e-01, 9.99114260e-01, ...,\n",
              "        1.77147919e-03, 8.85739593e-04, 0.00000000e+00]),\n",
              " array([0.01017617, 0.01116657, 0.01153598, ..., 0.96107086, 0.97914612,\n",
              "        0.99377871]))"
            ]
          },
          "metadata": {
            "tags": []
          },
          "execution_count": 35
        }
      ]
    },
    {
      "cell_type": "markdown",
      "metadata": {
        "id": "x6Akuq_QBOUZ",
        "colab_type": "text"
      },
      "source": [
        "_________________________________________________________________________\n",
        "**Plot the precision-recall curve using matplotlib.**\n"
      ]
    },
    {
      "cell_type": "code",
      "metadata": {
        "ein": "5119c",
        "id": "YVnzsc67BOUa",
        "colab_type": "code",
        "colab": {
          "base_uri": "https://localhost:8080/",
          "height": 442
        },
        "outputId": "bb14864c-abba-4cf0-c3fb-88654d8f422a"
      },
      "source": [
        "from sklearn.metrics import precision_recall_curve\n",
        "from sklearn.metrics import auc\n",
        "precision , recall ,threshold = precision_recall_curve(y_test , y_pred_prob_2)\n",
        "plt.figure(figsize=(10,7))\n",
        "plt.plot(recall ,precision)\n",
        "plt.xlabel('recall')\n",
        "plt.ylabel('precision')\n",
        "plt.show()"
      ],
      "execution_count": 36,
      "outputs": [
        {
          "output_type": "display_data",
          "data": {
            "image/png": "[encoded data removed]",
            "text/plain": [
              "<Figure size 720x504 with 1 Axes>"
            ]
          },
          "metadata": {
            "tags": [],
            "needs_background": "light"
          }
        }
      ]
    },
    {
      "cell_type": "markdown",
      "metadata": {
        "id": "BuV8NmgoBOUd",
        "colab_type": "text"
      },
      "source": [
        "_________________________________________________________________________\n",
        "**Now, use scikit-learn to calculate the area under the precision-recall curve.**\n"
      ]
    },
    {
      "cell_type": "code",
      "metadata": {
        "eid": "34e7d",
        "id": "DOTcOtgzBOUe",
        "colab_type": "code",
        "colab": {
          "base_uri": "https://localhost:8080/",
          "height": 34
        },
        "outputId": "fbf11f37-df18-433d-8815-f6ec09d01ccb"
      },
      "source": [
        "from sklearn.metrics import auc\n",
        "print(auc(recall, precision))"
      ],
      "execution_count": 37,
      "outputs": [
        {
          "output_type": "stream",
          "text": [
            "0.5037104208810057\n"
          ],
          "name": "stdout"
        }
      ]
    },
    {
      "cell_type": "markdown",
      "metadata": {
        "id": "YrT6ZlcBBOUj",
        "colab_type": "text"
      },
      "source": [
        "_________________________________________________________________________\n",
        "**Finally, recalculate the ROC AUC, except this time do it for the training data.**"
      ]
    },
    {
      "cell_type": "code",
      "metadata": {
        "eid": "d61c3",
        "id": "UOaS5wDxBOUj",
        "colab_type": "code",
        "colab": {
          "base_uri": "https://localhost:8080/",
          "height": 34
        },
        "outputId": "2a794425-0b4c-41ca-8999-38dee83fee88"
      },
      "source": [
        "y_pred_prob_train = classifier.predict_proba(X_train)\n",
        "print(roc_auc_score(y_train , y_pred_prob_train[:,1]))"
      ],
      "execution_count": 38,
      "outputs": [
        {
          "output_type": "stream",
          "text": [
            "0.7230542229187594\n"
          ],
          "name": "stdout"
        }
      ]
    },
    {
      "cell_type": "markdown",
      "metadata": {
        "id": "OQGybcgRBOUn",
        "colab_type": "text"
      },
      "source": [
        "    How is this different, conceptually and quantitatively, from your earlier calculation?\n"
      ]
    }
  ]
}