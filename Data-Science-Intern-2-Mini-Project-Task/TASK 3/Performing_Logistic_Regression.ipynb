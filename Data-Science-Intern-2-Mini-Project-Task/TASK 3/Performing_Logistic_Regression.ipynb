{
  "nbformat": 4,
  "nbformat_minor": 0,
  "metadata": {
    "kernelspec": {
      "display_name": "Python 3",
      "language": "python",
      "name": "python3"
    },
    "language_info": {
      "codemirror_mode": {
        "name": "ipython",
        "version": 3
      },
      "file_extension": ".py",
      "mimetype": "text/x-python",
      "name": "python",
      "nbconvert_exporter": "python",
      "pygments_lexer": "ipython3",
      "version": "3.7.4"
    },
    "colab": {
      "name": "Performing_Logistic_Regression.ipynb",
      "provenance": []
    }
  },
  "cells": [
    {
      "cell_type": "code",
      "metadata": {
        "id": "UU7ZhoThDYj0",
        "colab_type": "code",
        "colab": {
          "base_uri": "https://localhost:8080/",
          "height": 122
        },
        "outputId": "e1901e9b-9c82-47b7-b388-5c54b9b56e91"
      },
      "source": [
        "from google.colab import drive\n",
        "drive.mount('/content/drive')"
      ],
      "execution_count": 1,
      "outputs": [
        {
          "output_type": "stream",
          "text": [
            "Go to this URL in a browser: https://accounts.google.com/o/oauth2/auth?client_id=947318989803-6bn6qk8qdgf4n4g3pfee6491hc0brc4i.apps.googleusercontent.com&redirect_uri=urn%3aietf%3awg%3aoauth%3a2.0%3aoob&response_type=code&scope=email%20https%3a%2f%2fwww.googleapis.com%2fauth%2fdocs.test%20https%3a%2f%2fwww.googleapis.com%2fauth%2fdrive%20https%3a%2f%2fwww.googleapis.com%2fauth%2fdrive.photos.readonly%20https%3a%2f%2fwww.googleapis.com%2fauth%2fpeopleapi.readonly\n",
            "\n",
            "Enter your authorization code:\n",
            "··········\n",
            "Mounted at /content/drive\n"
          ],
          "name": "stdout"
        }
      ]
    },
    {
      "cell_type": "code",
      "metadata": {
        "id": "_xBCaJ-SBOTf",
        "colab_type": "code",
        "colab": {
          "base_uri": "https://localhost:8080/",
          "height": 34
        },
        "outputId": "df3eebc7-f7e1-40db-dca5-b994ca55efaf"
      },
      "source": [
        "%autosave 10"
      ],
      "execution_count": 2,
      "outputs": [
        {
          "output_type": "display_data",
          "data": {
            "application/javascript": [
              "IPython.notebook.set_autosave_interval(10000)"
            ]
          },
          "metadata": {
            "tags": []
          }
        },
        {
          "output_type": "stream",
          "text": [
            "Autosaving every 10 seconds\n"
          ],
          "name": "stdout"
        }
      ]
    },
    {
      "cell_type": "markdown",
      "metadata": {
        "id": "Wq4rcVt7BOTn",
        "colab_type": "text"
      },
      "source": [
        "**First, create a dataframe of *cleaned_data.csv*. Then, use scikit-learn's `train_test_split` to make a new set of training and testing data. This time, instead of `EDUCATION`, use `LIMIT_BAL`: the account's credit limit.**"
      ]
    },
    {
      "cell_type": "code",
      "metadata": {
        "id": "txfG5EpoIliF",
        "colab_type": "code",
        "colab": {}
      },
      "source": [
        "import pandas as pd\n",
        "import matplotlib.pyplot as plt\n",
        "# Import the dataset\n",
        "df_train = pd.read_csv('/content/drive/My Drive/cleaned_data.csv')"
      ],
      "execution_count": 3,
      "outputs": []
    },
    {
      "cell_type": "code",
      "metadata": {
        "id": "FTi_hX7EIalR",
        "colab_type": "code",
        "colab": {}
      },
      "source": [
        "X = df_train['LIMIT_BAL'].values.reshape(-1,1)\n",
        "y = df_train['default payment next month']"
      ],
      "execution_count": 8,
      "outputs": []
    },
    {
      "cell_type": "code",
      "metadata": {
        "eid": "662ef",
        "id": "0IRl3CdHBOTo",
        "colab_type": "code",
        "colab": {}
      },
      "source": [
        "from sklearn.model_selection import train_test_split\n",
        "X_train, X_test, y_train, y_test = train_test_split(X, y, test_size=0.2, random_state=0)"
      ],
      "execution_count": 9,
      "outputs": []
    },
    {
      "cell_type": "code",
      "metadata": {
        "id": "CNjBZTHBI8l_",
        "colab_type": "code",
        "colab": {
          "base_uri": "https://localhost:8080/",
          "height": 34
        },
        "outputId": "c7c89933-5f0b-43c8-c9b5-7f97a042d4ad"
      },
      "source": [
        "X_train.shape, X_test.shape ,y_train.shape , X_test.shape"
      ],
      "execution_count": 10,
      "outputs": [
        {
          "output_type": "execute_result",
          "data": {
            "text/plain": [
              "((21331, 1), (5333, 1), (21331,), (5333, 1))"
            ]
          },
          "metadata": {
            "tags": []
          },
          "execution_count": 10
        }
      ]
    },
    {
      "cell_type": "markdown",
      "metadata": {
        "id": "kLF1MMk3BOTw",
        "colab_type": "text"
      },
      "source": [
        "_________________________________________________________________________\n",
        "**Next, train a logistic regression model using the training data from your split.**\n"
      ]
    },
    {
      "cell_type": "code",
      "metadata": {
        "eid": "05e84",
        "id": "9Lt2gpi7BOTx",
        "colab_type": "code",
        "colab": {}
      },
      "source": [
        "# fitting logistic regression to the training set\n",
        "from sklearn.linear_model import LogisticRegression\n",
        "classifier = LogisticRegression(random_state=0)\n",
        "classifier.fit(X_train, y_train)\n",
        "# predictiing the test result\n",
        "y_pred = classifier.predict(X_test)"
      ],
      "execution_count": 11,
      "outputs": []
    },
    {
      "cell_type": "markdown",
      "metadata": {
        "id": "IOAFBvttBOT1",
        "colab_type": "text"
      },
      "source": [
        "_________________________________________________________________________\n",
        "**Then, create the array of predicted probabilities for the testing data.**\n"
      ]
    },
    {
      "cell_type": "code",
      "metadata": {
        "eid": "b671b",
        "id": "9xFm0o65BOT3",
        "colab_type": "code",
        "colab": {
          "base_uri": "https://localhost:8080/",
          "height": 34
        },
        "outputId": "9c376a5d-aa9e-4082-e204-6735b312eea0"
      },
      "source": [
        "y_pred"
      ],
      "execution_count": 12,
      "outputs": [
        {
          "output_type": "execute_result",
          "data": {
            "text/plain": [
              "array([0, 0, 0, ..., 0, 0, 0])"
            ]
          },
          "metadata": {
            "tags": []
          },
          "execution_count": 12
        }
      ]
    },
    {
      "cell_type": "code",
      "metadata": {
        "id": "ygExY_IPeBTf",
        "colab_type": "code",
        "colab": {}
      },
      "source": [
        "y_pred_prob= classifier.predict_proba(X_test)"
      ],
      "execution_count": 13,
      "outputs": []
    },
    {
      "cell_type": "code",
      "metadata": {
        "id": "uLpzWmzheQj8",
        "colab_type": "code",
        "colab": {
          "base_uri": "https://localhost:8080/",
          "height": 51
        },
        "outputId": "68bc9760-fd54-4732-8ed5-346618d8c2f2"
      },
      "source": [
        "y_pred_prob_2 = y_pred_prob[:,1]\n",
        "y_pred_prob_2"
      ],
      "execution_count": 14,
      "outputs": [
        {
          "output_type": "execute_result",
          "data": {
            "text/plain": [
              "array([0.07145372, 0.1098622 , 0.41643062, ..., 0.22885347, 0.20590735,\n",
              "       0.08094375])"
            ]
          },
          "metadata": {
            "tags": []
          },
          "execution_count": 14
        }
      ]
    },
    {
      "cell_type": "markdown",
      "metadata": {
        "id": "IRnVsR62BOT7",
        "colab_type": "text"
      },
      "source": [
        "_________________________________________________________________________\n",
        "**Next, calculate the ROC AUC using the predicted probabilities and the true labels of the testing data. Compare this to the ROC AUC from using the `EDUCATION` feature.**\n"
      ]
    },
    {
      "cell_type": "code",
      "metadata": {
        "eid": "58476",
        "id": "UQKZ46PjBOT8",
        "colab_type": "code",
        "colab": {
          "base_uri": "https://localhost:8080/",
          "height": 34
        },
        "outputId": "f767fcdf-e198-4eae-b6e2-a4b21a3e2e00"
      },
      "source": [
        "from sklearn.metrics import roc_auc_score\n",
        "roc_auc_score(y_test , y_pred_prob_2)"
      ],
      "execution_count": 16,
      "outputs": [
        {
          "output_type": "execute_result",
          "data": {
            "text/plain": [
              "0.6196226715625339"
            ]
          },
          "metadata": {
            "tags": []
          },
          "execution_count": 16
        }
      ]
    },
    {
      "cell_type": "markdown",
      "metadata": {
        "id": "Gg3KSWdTBOUC",
        "colab_type": "text"
      },
      "source": [
        "_________________________________________________________________________\n",
        "**Now, plot the ROC curve.**\n"
      ]
    },
    {
      "cell_type": "code",
      "metadata": {
        "eid": "289eb",
        "id": "_2zYM2kVBOUD",
        "colab_type": "code",
        "colab": {
          "base_uri": "https://localhost:8080/",
          "height": 458
        },
        "outputId": "d2cf656b-85ea-4664-84ac-8eb619645ec3"
      },
      "source": [
        "from sklearn.metrics import roc_curve\n",
        "fpr,tpr,threshold = roc_curve(y_test , y_pred_prob_2)\n",
        "plt.figure(figsize=(10,7))\n",
        "plt.plot(fpr,tpr,label = 'roc curve')\n",
        "plt.plot([0,1],[0,1],'r--')\n",
        "plt.title('ROC curve')\n",
        "plt.xlabel('False positive rate')\n",
        "plt.ylabel('True positive rate')\n",
        "plt.legend()\n",
        "plt.show()"
      ],
      "execution_count": 17,
      "outputs": [
        {
          "output_type": "display_data",
          "data": {
            "image/png": "[encoded data removed]",
            "text/plain": [
              "<Figure size 720x504 with 1 Axes>"
            ]
          },
          "metadata": {
            "tags": [],
            "needs_background": "light"
          }
        }
      ]
    },
    {
      "cell_type": "markdown",
      "metadata": {
        "id": "3IfU2zo8BOUJ",
        "colab_type": "text"
      },
      "source": [
        "_________________________________________________________________________\n",
        "**Then, calculate the data for the precision-recall curve on the testing data using scikit-learn functionality.**\n"
      ]
    },
    {
      "cell_type": "code",
      "metadata": {
        "eid": "73fdb",
        "id": "ob7DGDQ7BOUL",
        "colab_type": "code",
        "colab": {
          "base_uri": "https://localhost:8080/",
          "height": 731
        },
        "outputId": "86d5fac3-ba65-4a20-dd25-43a2dfa0f7e9"
      },
      "source": [
        "from sklearn.metrics import precision_recall_curve\n",
        "precision_recall_curve(y_test , y_pred_prob_2)"
      ],
      "execution_count": 18,
      "outputs": [
        {
          "output_type": "execute_result",
          "data": {
            "text/plain": [
              "(array([0.21181989, 0.21171171, 0.21175145, 0.21179121, 0.21164319,\n",
              "        0.21168295, 0.2117625 , 0.21161436, 0.21169393, 0.21177356,\n",
              "        0.21185325, 0.21193299, 0.21197289, 0.21209267, 0.21213263,\n",
              "        0.21225259, 0.21229261, 0.21576202, 0.21609596, 0.21665696,\n",
              "        0.21705275, 0.2178334 , 0.21820326, 0.21838627, 0.21857058,\n",
              "        0.21919714, 0.21914257, 0.22043443, 0.22141267, 0.22219959,\n",
              "        0.22260834, 0.22395614, 0.22428115, 0.22530069, 0.22652531,\n",
              "        0.22635793, 0.22762092, 0.22905151, 0.22990063, 0.23075166,\n",
              "        0.23216783, 0.23303487, 0.23414986, 0.23664308, 0.23832245,\n",
              "        0.24128132, 0.24193548, 0.24560922, 0.25297265, 0.25361011,\n",
              "        0.2585164 , 0.26300197, 0.26584867, 0.2715959 , 0.27458542,\n",
              "        0.27721158, 0.27937337, 0.28312981, 0.28281327, 0.28391167,\n",
              "        0.29748002, 0.30106101, 0.304     , 0.34898477, 0.34491979,\n",
              "        0.34309623, 0.37037037, 1.        ]),\n",
              " array([1.        , 0.99911426, 0.99911426, 0.99911426, 0.99822852,\n",
              "        0.99822852, 0.99822852, 0.99734278, 0.99734278, 0.99734278,\n",
              "        0.99734278, 0.99734278, 0.99734278, 0.99734278, 0.99734278,\n",
              "        0.99734278, 0.99734278, 0.98937112, 0.98937112, 0.98848539,\n",
              "        0.98759965, 0.98671391, 0.98317095, 0.98051373, 0.97785651,\n",
              "        0.97697077, 0.97342781, 0.97077059, 0.96899911, 0.9663419 ,\n",
              "        0.96457042, 0.94065545, 0.93268379, 0.92914083, 0.92736935,\n",
              "        0.92648361, 0.92116918, 0.91762622, 0.90168291, 0.89459699,\n",
              "        0.88219663, 0.87599646, 0.8635961 , 0.8591674 , 0.84056687,\n",
              "        0.82728078, 0.81045173, 0.79273694, 0.75376439, 0.74667848,\n",
              "        0.71922055, 0.70770593, 0.69087688, 0.65721878, 0.63064659,\n",
              "        0.60230292, 0.56864482, 0.55447298, 0.50575731, 0.47829938,\n",
              "        0.42869796, 0.40212578, 0.37023915, 0.24357839, 0.22852081,\n",
              "        0.14526129, 0.03542958, 0.        ]),\n",
              " array([0.00673177, 0.00719838, 0.00879962, 0.01005847, 0.01075318,\n",
              "        0.0131347 , 0.01403886, 0.01500432, 0.0160351 , 0.01713546,\n",
              "        0.01830992, 0.02232726, 0.02384893, 0.0254716 , 0.02904561,\n",
              "        0.03101064, 0.03310407, 0.03533367, 0.03770758, 0.04023433,\n",
              "        0.04292284, 0.04578244, 0.04882282, 0.05205411, 0.05548677,\n",
              "        0.05913168, 0.06300005, 0.06710344, 0.07145372, 0.07606302,\n",
              "        0.08094375, 0.08610846, 0.09156988, 0.0973408 , 0.09872524,\n",
              "        0.103434  , 0.1098622 , 0.11663792, 0.12377342, 0.13128057,\n",
              "        0.13917074, 0.14745462, 0.15614214, 0.1652423 , 0.17476299,\n",
              "        0.18471085, 0.19509109, 0.20590735, 0.21716149, 0.22885347,\n",
              "        0.24098117, 0.25354026, 0.26652404, 0.27992338, 0.2937266 ,\n",
              "        0.30791941, 0.32248488, 0.33740344, 0.35265292, 0.36820863,\n",
              "        0.38404342, 0.40012792, 0.41643062, 0.4329182 , 0.44955568,\n",
              "        0.46630679, 0.48313423]))"
            ]
          },
          "metadata": {
            "tags": []
          },
          "execution_count": 18
        }
      ]
    },
    {
      "cell_type": "markdown",
      "metadata": {
        "id": "x6Akuq_QBOUZ",
        "colab_type": "text"
      },
      "source": [
        "_________________________________________________________________________\n",
        "**Plot the precision-recall curve using matplotlib.**\n"
      ]
    },
    {
      "cell_type": "code",
      "metadata": {
        "ein": "5119c",
        "id": "YVnzsc67BOUa",
        "colab_type": "code",
        "colab": {
          "base_uri": "https://localhost:8080/",
          "height": 442
        },
        "outputId": "3679d303-1c22-49a4-e7bc-d1d545118b59"
      },
      "source": [
        "from sklearn.metrics import precision_recall_curve\n",
        "from sklearn.metrics import auc\n",
        "precision , recall ,threshold = precision_recall_curve(y_test , y_pred_prob_2)\n",
        "plt.figure(figsize=(10,7))\n",
        "plt.plot(recall ,precision)\n",
        "plt.xlabel('recall')\n",
        "plt.ylabel('precision')\n",
        "plt.show()"
      ],
      "execution_count": 19,
      "outputs": [
        {
          "output_type": "display_data",
          "data": {
            "image/png": "[encoded data removed]",
            "text/plain": [
              "<Figure size 720x504 with 1 Axes>"
            ]
          },
          "metadata": {
            "tags": [],
            "needs_background": "light"
          }
        }
      ]
    },
    {
      "cell_type": "markdown",
      "metadata": {
        "id": "BuV8NmgoBOUd",
        "colab_type": "text"
      },
      "source": [
        "_________________________________________________________________________\n",
        "**Now, use scikit-learn to calculate the area under the precision-recall curve.**\n"
      ]
    },
    {
      "cell_type": "code",
      "metadata": {
        "eid": "34e7d",
        "id": "DOTcOtgzBOUe",
        "colab_type": "code",
        "colab": {
          "base_uri": "https://localhost:8080/",
          "height": 34
        },
        "outputId": "0bc8a610-bfc0-49a7-c45c-69b7d808774a"
      },
      "source": [
        "from sklearn.metrics import auc\n",
        "print(auc(recall, precision))"
      ],
      "execution_count": 20,
      "outputs": [
        {
          "output_type": "stream",
          "text": [
            "0.30350381273417226\n"
          ],
          "name": "stdout"
        }
      ]
    },
    {
      "cell_type": "markdown",
      "metadata": {
        "id": "YrT6ZlcBBOUj",
        "colab_type": "text"
      },
      "source": [
        "_________________________________________________________________________\n",
        "**Finally, recalculate the ROC AUC, except this time do it for the training data.**"
      ]
    },
    {
      "cell_type": "code",
      "metadata": {
        "eid": "d61c3",
        "id": "UOaS5wDxBOUj",
        "colab_type": "code",
        "colab": {
          "base_uri": "https://localhost:8080/",
          "height": 34
        },
        "outputId": "e1af557c-5359-427f-de67-35c6fc0a4143"
      },
      "source": [
        "y_pred_prob_train = classifier.predict_proba(X_train)\n",
        "print(roc_auc_score(y_train , y_pred_prob_train[:,1]))"
      ],
      "execution_count": 21,
      "outputs": [
        {
          "output_type": "stream",
          "text": [
            "0.6185139090400076\n"
          ],
          "name": "stdout"
        }
      ]
    },
    {
      "cell_type": "markdown",
      "metadata": {
        "id": "OQGybcgRBOUn",
        "colab_type": "text"
      },
      "source": [
        "    How is this different, conceptually and quantitatively, from your earlier calculation?\n"
      ]
    }
  ]
}