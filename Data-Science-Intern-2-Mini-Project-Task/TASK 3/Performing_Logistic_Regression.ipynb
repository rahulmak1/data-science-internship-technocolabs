{
  "nbformat": 4,
  "nbformat_minor": 0,
  "metadata": {
    "kernelspec": {
      "display_name": "Python 3",
      "language": "python",
      "name": "python3"
    },
    "language_info": {
      "codemirror_mode": {
        "name": "ipython",
        "version": 3
      },
      "file_extension": ".py",
      "mimetype": "text/x-python",
      "name": "python",
      "nbconvert_exporter": "python",
      "pygments_lexer": "ipython3",
      "version": "3.7.4"
    },
    "colab": {
      "name": "Performing_Logistic_Regression.ipynb",
      "provenance": []
    }
  },
  "cells": [
    {
      "cell_type": "code",
      "metadata": {
        "id": "UU7ZhoThDYj0",
        "colab_type": "code",
        "colab": {
          "base_uri": "https://localhost:8080/",
          "height": 122
        },
        "outputId": "4433f504-5004-4ec9-859b-aaa002ba6f5b"
      },
      "source": [
        "from google.colab import drive\n",
        "drive.mount('/content/drive')"
      ],
      "execution_count": 1,
      "outputs": [
        {
          "output_type": "stream",
          "text": [
            "Go to this URL in a browser: https://accounts.google.com/o/oauth2/auth?client_id=947318989803-6bn6qk8qdgf4n4g3pfee6491hc0brc4i.apps.googleusercontent.com&redirect_uri=urn%3aietf%3awg%3aoauth%3a2.0%3aoob&response_type=code&scope=email%20https%3a%2f%2fwww.googleapis.com%2fauth%2fdocs.test%20https%3a%2f%2fwww.googleapis.com%2fauth%2fdrive%20https%3a%2f%2fwww.googleapis.com%2fauth%2fdrive.photos.readonly%20https%3a%2f%2fwww.googleapis.com%2fauth%2fpeopleapi.readonly\n",
            "\n",
            "Enter your authorization code:\n",
            "··········\n",
            "Mounted at /content/drive\n"
          ],
          "name": "stdout"
        }
      ]
    },
    {
      "cell_type": "code",
      "metadata": {
        "id": "_xBCaJ-SBOTf",
        "colab_type": "code",
        "colab": {
          "base_uri": "https://localhost:8080/",
          "height": 34
        },
        "outputId": "6a5f985b-823d-4cfb-e0e3-b768afc57da8"
      },
      "source": [
        "%autosave 10"
      ],
      "execution_count": 2,
      "outputs": [
        {
          "output_type": "display_data",
          "data": {
            "application/javascript": [
              "IPython.notebook.set_autosave_interval(10000)"
            ]
          },
          "metadata": {
            "tags": []
          }
        },
        {
          "output_type": "stream",
          "text": [
            "Autosaving every 10 seconds\n"
          ],
          "name": "stdout"
        }
      ]
    },
    {
      "cell_type": "markdown",
      "metadata": {
        "id": "Wq4rcVt7BOTn",
        "colab_type": "text"
      },
      "source": [
        "**First, create a dataframe of *cleaned_data.csv*. Then, use scikit-learn's `train_test_split` to make a new set of training and testing data. This time, instead of `EDUCATION`, use `LIMIT_BAL`: the account's credit limit.**"
      ]
    },
    {
      "cell_type": "code",
      "metadata": {
        "id": "txfG5EpoIliF",
        "colab_type": "code",
        "colab": {}
      },
      "source": [
        "import pandas as pd\n",
        "import matplotlib.pyplot as plt\n",
        "# Import the dataset\n",
        "df_train = pd.read_csv('/content/drive/My Drive/cleaned_data.csv')"
      ],
      "execution_count": 3,
      "outputs": []
    },
    {
      "cell_type": "code",
      "metadata": {
        "id": "cHZTEeZxcx4W",
        "colab_type": "code",
        "colab": {
          "base_uri": "https://localhost:8080/",
          "height": 136
        },
        "outputId": "94f61365-a84e-4627-87c8-78f755cf42dc"
      },
      "source": [
        "df_train.columns"
      ],
      "execution_count": 4,
      "outputs": [
        {
          "output_type": "execute_result",
          "data": {
            "text/plain": [
              "Index(['ID', 'LIMIT_BAL', 'SEX', 'EDUCATION', 'MARRIAGE', 'AGE', 'PAY_1',\n",
              "       'PAY_2', 'PAY_3', 'PAY_4', 'PAY_5', 'PAY_6', 'BILL_AMT1', 'BILL_AMT2',\n",
              "       'BILL_AMT3', 'BILL_AMT4', 'BILL_AMT5', 'BILL_AMT6', 'PAY_AMT1',\n",
              "       'PAY_AMT2', 'PAY_AMT3', 'PAY_AMT4', 'PAY_AMT5', 'PAY_AMT6',\n",
              "       'default payment next month', 'EDUCATION_CAT', 'graduate school',\n",
              "       'high school', 'others', 'university'],\n",
              "      dtype='object')"
            ]
          },
          "metadata": {
            "tags": []
          },
          "execution_count": 4
        }
      ]
    },
    {
      "cell_type": "code",
      "metadata": {
        "id": "FTi_hX7EIalR",
        "colab_type": "code",
        "colab": {}
      },
      "source": [
        "X = df_train[['LIMIT_BAL', 'SEX','MARRIAGE', 'AGE', 'PAY_1',\n",
        "       'PAY_2', 'PAY_3', 'PAY_4', 'PAY_5', 'PAY_6', 'BILL_AMT1', 'BILL_AMT2',\n",
        "       'BILL_AMT3', 'BILL_AMT4', 'BILL_AMT5', 'BILL_AMT6', 'PAY_AMT1',\n",
        "       'PAY_AMT2', 'PAY_AMT3', 'PAY_AMT4', 'PAY_AMT5', 'PAY_AMT6',\n",
        "       'graduate school','high school', 'others', 'university','LIMIT_BAL']]\n",
        "y = df_train['default payment next month']"
      ],
      "execution_count": 7,
      "outputs": []
    },
    {
      "cell_type": "code",
      "metadata": {
        "eid": "662ef",
        "id": "0IRl3CdHBOTo",
        "colab_type": "code",
        "colab": {}
      },
      "source": [
        "from sklearn.model_selection import train_test_split\n",
        "X_train, X_test, y_train, y_test = train_test_split(X, y, test_size=0.2, random_state=0)"
      ],
      "execution_count": 8,
      "outputs": []
    },
    {
      "cell_type": "code",
      "metadata": {
        "id": "CNjBZTHBI8l_",
        "colab_type": "code",
        "colab": {
          "base_uri": "https://localhost:8080/",
          "height": 34
        },
        "outputId": "a2e46932-68bb-4ffe-ce05-5ce72f678ec9"
      },
      "source": [
        "X_train.shape, X_test.shape ,y_train.shape , X_test.shape"
      ],
      "execution_count": 9,
      "outputs": [
        {
          "output_type": "execute_result",
          "data": {
            "text/plain": [
              "((21331, 27), (5333, 27), (21331,), (5333, 27))"
            ]
          },
          "metadata": {
            "tags": []
          },
          "execution_count": 9
        }
      ]
    },
    {
      "cell_type": "markdown",
      "metadata": {
        "id": "kLF1MMk3BOTw",
        "colab_type": "text"
      },
      "source": [
        "_________________________________________________________________________\n",
        "**Next, train a logistic regression model using the training data from your split.**\n"
      ]
    },
    {
      "cell_type": "code",
      "metadata": {
        "eid": "05e84",
        "id": "9Lt2gpi7BOTx",
        "colab_type": "code",
        "colab": {
          "base_uri": "https://localhost:8080/",
          "height": 153
        },
        "outputId": "90c98a7a-ee53-4556-bb25-6a98df4f840f"
      },
      "source": [
        "# fitting logistic regression to the training set\n",
        "from sklearn.linear_model import LogisticRegression\n",
        "classifier = LogisticRegression(random_state=0)\n",
        "classifier.fit(X_train, y_train)\n",
        "# predictiing the test result\n",
        "y_pred = classifier.predict(X_test)"
      ],
      "execution_count": 10,
      "outputs": [
        {
          "output_type": "stream",
          "text": [
            "/usr/local/lib/python3.6/dist-packages/sklearn/linear_model/_logistic.py:940: ConvergenceWarning: lbfgs failed to converge (status=1):\n",
            "STOP: TOTAL NO. of ITERATIONS REACHED LIMIT.\n",
            "\n",
            "Increase the number of iterations (max_iter) or scale the data as shown in:\n",
            "    https://scikit-learn.org/stable/modules/preprocessing.html\n",
            "Please also refer to the documentation for alternative solver options:\n",
            "    https://scikit-learn.org/stable/modules/linear_model.html#logistic-regression\n",
            "  extra_warning_msg=_LOGISTIC_SOLVER_CONVERGENCE_MSG)\n"
          ],
          "name": "stderr"
        }
      ]
    },
    {
      "cell_type": "markdown",
      "metadata": {
        "id": "IOAFBvttBOT1",
        "colab_type": "text"
      },
      "source": [
        "_________________________________________________________________________\n",
        "**Then, create the array of predicted probabilities for the testing data.**\n"
      ]
    },
    {
      "cell_type": "code",
      "metadata": {
        "eid": "b671b",
        "id": "9xFm0o65BOT3",
        "colab_type": "code",
        "colab": {
          "base_uri": "https://localhost:8080/",
          "height": 34
        },
        "outputId": "cc11d0c1-93a8-4a4c-8f49-5ca7f920cb90"
      },
      "source": [
        "y_pred"
      ],
      "execution_count": 11,
      "outputs": [
        {
          "output_type": "execute_result",
          "data": {
            "text/plain": [
              "array([0, 0, 0, ..., 0, 0, 0])"
            ]
          },
          "metadata": {
            "tags": []
          },
          "execution_count": 11
        }
      ]
    },
    {
      "cell_type": "code",
      "metadata": {
        "id": "ygExY_IPeBTf",
        "colab_type": "code",
        "colab": {}
      },
      "source": [
        "y_pred_prob= classifier.predict_proba(X_test)"
      ],
      "execution_count": 12,
      "outputs": []
    },
    {
      "cell_type": "code",
      "metadata": {
        "id": "uLpzWmzheQj8",
        "colab_type": "code",
        "colab": {
          "base_uri": "https://localhost:8080/",
          "height": 51
        },
        "outputId": "fe882c6b-63c4-40b0-edd5-8d328a3a32e2"
      },
      "source": [
        "y_pred_prob_2 = y_pred_prob[:,1]\n",
        "y_pred_prob_2"
      ],
      "execution_count": 13,
      "outputs": [
        {
          "output_type": "execute_result",
          "data": {
            "text/plain": [
              "array([0.05896279, 0.02721181, 0.36740443, ..., 0.27508845, 0.2560041 ,\n",
              "       0.08035482])"
            ]
          },
          "metadata": {
            "tags": []
          },
          "execution_count": 13
        }
      ]
    },
    {
      "cell_type": "markdown",
      "metadata": {
        "id": "IRnVsR62BOT7",
        "colab_type": "text"
      },
      "source": [
        "_________________________________________________________________________\n",
        "**Next, calculate the ROC AUC using the predicted probabilities and the true labels of the testing data. Compare this to the ROC AUC from using the `EDUCATION` feature.**\n"
      ]
    },
    {
      "cell_type": "code",
      "metadata": {
        "eid": "58476",
        "id": "UQKZ46PjBOT8",
        "colab_type": "code",
        "colab": {
          "base_uri": "https://localhost:8080/",
          "height": 34
        },
        "outputId": "e80b0388-c6a2-456a-a165-7c2d286942d0"
      },
      "source": [
        "from sklearn.metrics import roc_auc_score\n",
        "roc_auc_score(y_test , y_pred_prob_2)"
      ],
      "execution_count": 14,
      "outputs": [
        {
          "output_type": "execute_result",
          "data": {
            "text/plain": [
              "0.653559413237551"
            ]
          },
          "metadata": {
            "tags": []
          },
          "execution_count": 14
        }
      ]
    },
    {
      "cell_type": "markdown",
      "metadata": {
        "id": "Gg3KSWdTBOUC",
        "colab_type": "text"
      },
      "source": [
        "_________________________________________________________________________\n",
        "**Now, plot the ROC curve.**\n"
      ]
    },
    {
      "cell_type": "code",
      "metadata": {
        "eid": "289eb",
        "id": "_2zYM2kVBOUD",
        "colab_type": "code",
        "colab": {
          "base_uri": "https://localhost:8080/",
          "height": 458
        },
        "outputId": "8c2a3ade-86cd-4951-b094-8165889ef8c7"
      },
      "source": [
        "from sklearn.metrics import roc_curve\n",
        "fpr,tpr,threshold = roc_curve(y_test , y_pred_prob_2)\n",
        "plt.figure(figsize=(10,7))\n",
        "plt.plot(fpr,tpr,label = 'roc curve')\n",
        "plt.plot([0,1],[0,1],'r--')\n",
        "plt.title('ROC curve')\n",
        "plt.xlabel('False positive rate')\n",
        "plt.ylabel('True positive rate')\n",
        "plt.legend()\n",
        "plt.show()"
      ],
      "execution_count": 15,
      "outputs": [
        {
          "output_type": "display_data",
          "data": {
            "image/png": "[encoded data removed]",
            "text/plain": [
              "<Figure size 720x504 with 1 Axes>"
            ]
          },
          "metadata": {
            "tags": [],
            "needs_background": "light"
          }
        }
      ]
    },
    {
      "cell_type": "markdown",
      "metadata": {
        "id": "3IfU2zo8BOUJ",
        "colab_type": "text"
      },
      "source": [
        "_________________________________________________________________________\n",
        "**Then, calculate the data for the precision-recall curve on the testing data using scikit-learn functionality.**\n"
      ]
    },
    {
      "cell_type": "code",
      "metadata": {
        "eid": "73fdb",
        "id": "ob7DGDQ7BOUL",
        "colab_type": "code",
        "colab": {
          "base_uri": "https://localhost:8080/",
          "height": 119
        },
        "outputId": "f582efe9-72af-4f86-fd62-06446a9696a2"
      },
      "source": [
        "from sklearn.metrics import precision_recall_curve\n",
        "precision_recall_curve(y_test , y_pred_prob_2)"
      ],
      "execution_count": 16,
      "outputs": [
        {
          "output_type": "execute_result",
          "data": {
            "text/plain": [
              "(array([0.21213829, 0.21199023, 0.21203008, ..., 0.        , 0.        ,\n",
              "        1.        ]),\n",
              " array([1.        , 0.99911426, 0.99911426, ..., 0.        , 0.        ,\n",
              "        0.        ]),\n",
              " array([4.39695924e-05, 4.48284415e-05, 5.00058957e-05, ...,\n",
              "        4.98913694e-01, 5.05368916e-01, 5.29174414e-01]))"
            ]
          },
          "metadata": {
            "tags": []
          },
          "execution_count": 16
        }
      ]
    },
    {
      "cell_type": "markdown",
      "metadata": {
        "id": "x6Akuq_QBOUZ",
        "colab_type": "text"
      },
      "source": [
        "_________________________________________________________________________\n",
        "**Plot the precision-recall curve using matplotlib.**\n"
      ]
    },
    {
      "cell_type": "code",
      "metadata": {
        "ein": "5119c",
        "id": "YVnzsc67BOUa",
        "colab_type": "code",
        "colab": {
          "base_uri": "https://localhost:8080/",
          "height": 442
        },
        "outputId": "8a118947-25fa-47a7-98d2-efa1617e3ec0"
      },
      "source": [
        "from sklearn.metrics import precision_recall_curve\n",
        "from sklearn.metrics import auc\n",
        "precision , recall ,threshold = precision_recall_curve(y_test , y_pred_prob_2)\n",
        "plt.figure(figsize=(10,7))\n",
        "plt.plot(recall ,precision)\n",
        "plt.xlabel('recall')\n",
        "plt.ylabel('precision')\n",
        "plt.show()"
      ],
      "execution_count": 17,
      "outputs": [
        {
          "output_type": "display_data",
          "data": {
            "image/png": "[encoded data removed]",
            "text/plain": [
              "<Figure size 720x504 with 1 Axes>"
            ]
          },
          "metadata": {
            "tags": [],
            "needs_background": "light"
          }
        }
      ]
    },
    {
      "cell_type": "markdown",
      "metadata": {
        "id": "BuV8NmgoBOUd",
        "colab_type": "text"
      },
      "source": [
        "_________________________________________________________________________\n",
        "**Now, use scikit-learn to calculate the area under the precision-recall curve.**\n"
      ]
    },
    {
      "cell_type": "code",
      "metadata": {
        "eid": "34e7d",
        "id": "DOTcOtgzBOUe",
        "colab_type": "code",
        "colab": {
          "base_uri": "https://localhost:8080/",
          "height": 34
        },
        "outputId": "d9db9bad-d280-42ef-a18b-b7207aaf5969"
      },
      "source": [
        "from sklearn.metrics import auc\n",
        "print(auc(recall, precision))"
      ],
      "execution_count": 18,
      "outputs": [
        {
          "output_type": "stream",
          "text": [
            "0.3304678389980314\n"
          ],
          "name": "stdout"
        }
      ]
    },
    {
      "cell_type": "markdown",
      "metadata": {
        "id": "YrT6ZlcBBOUj",
        "colab_type": "text"
      },
      "source": [
        "_________________________________________________________________________\n",
        "**Finally, recalculate the ROC AUC, except this time do it for the training data.**"
      ]
    },
    {
      "cell_type": "code",
      "metadata": {
        "eid": "d61c3",
        "id": "UOaS5wDxBOUj",
        "colab_type": "code",
        "colab": {
          "base_uri": "https://localhost:8080/",
          "height": 34
        },
        "outputId": "cbede24e-8176-4883-ba0a-252ff7fe622c"
      },
      "source": [
        "y_pred_prob_train = classifier.predict_proba(X_train)\n",
        "print(roc_auc_score(y_train , y_pred_prob_train[:,1]))"
      ],
      "execution_count": 19,
      "outputs": [
        {
          "output_type": "stream",
          "text": [
            "0.6542432730208085\n"
          ],
          "name": "stdout"
        }
      ]
    },
    {
      "cell_type": "markdown",
      "metadata": {
        "id": "OQGybcgRBOUn",
        "colab_type": "text"
      },
      "source": [
        "    How is this different, conceptually and quantitatively, from your earlier calculation?\n"
      ]
    }
  ]
}