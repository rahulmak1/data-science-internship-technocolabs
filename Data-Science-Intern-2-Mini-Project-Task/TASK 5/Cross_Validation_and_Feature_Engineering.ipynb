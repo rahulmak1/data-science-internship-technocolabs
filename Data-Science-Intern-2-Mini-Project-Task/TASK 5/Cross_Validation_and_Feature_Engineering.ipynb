{
  "nbformat": 4,
  "nbformat_minor": 0,
  "metadata": {
    "kernelspec": {
      "display_name": "Python 3",
      "language": "python",
      "name": "python3"
    },
    "language_info": {
      "codemirror_mode": {
        "name": "ipython",
        "version": 3
      },
      "file_extension": ".py",
      "mimetype": "text/x-python",
      "name": "python",
      "nbconvert_exporter": "python",
      "pygments_lexer": "ipython3",
      "version": "3.7.4"
    },
    "colab": {
      "name": "Cross-Validation_and_Feature_Engineering.ipynb",
      "provenance": []
    }
  },
  "cells": [
    {
      "cell_type": "markdown",
      "metadata": {
        "id": "uuYYM2hLiIlr",
        "colab_type": "text"
      },
      "source": [
        "**Run the following two cells before you begin.**"
      ]
    },
    {
      "cell_type": "code",
      "metadata": {
        "id": "o03C1R_AiIlt",
        "colab_type": "code",
        "colab": {
          "base_uri": "https://localhost:8080/",
          "height": 34
        },
        "outputId": "235e1a66-f87e-45c9-8692-0f408317fded"
      },
      "source": [
        "%autosave 10"
      ],
      "execution_count": 153,
      "outputs": [
        {
          "output_type": "display_data",
          "data": {
            "application/javascript": [
              "IPython.notebook.set_autosave_interval(10000)"
            ]
          },
          "metadata": {
            "tags": []
          }
        },
        {
          "output_type": "stream",
          "text": [
            "Autosaving every 10 seconds\n"
          ],
          "name": "stdout"
        }
      ]
    },
    {
      "cell_type": "code",
      "metadata": {
        "id": "sQihkCCsjXk9",
        "colab_type": "code",
        "colab": {
          "base_uri": "https://localhost:8080/",
          "height": 34
        },
        "outputId": "0de739b6-b408-4ef2-c5b6-e0561df9b058"
      },
      "source": [
        "from google.colab import drive\n",
        "drive.mount('/content/drive')"
      ],
      "execution_count": 154,
      "outputs": [
        {
          "output_type": "stream",
          "text": [
            "Drive already mounted at /content/drive; to attempt to forcibly remount, call drive.mount(\"/content/drive\", force_remount=True).\n"
          ],
          "name": "stdout"
        }
      ]
    },
    {
      "cell_type": "code",
      "metadata": {
        "id": "GXUjkEDyiIlz",
        "colab_type": "code",
        "colab": {}
      },
      "source": [
        "import pandas as pd\n",
        "import numpy as np\n",
        "import matplotlib.pyplot as plt\n",
        "\n",
        "from sklearn.model_selection import train_test_split, StratifiedKFold\n",
        "from sklearn.preprocessing import MinMaxScaler\n",
        "from sklearn.linear_model import LogisticRegression\n",
        "from sklearn.metrics import roc_auc_score, roc_curve\n",
        "\n",
        "%matplotlib inline"
      ],
      "execution_count": 155,
      "outputs": []
    },
    {
      "cell_type": "markdown",
      "metadata": {
        "id": "kgRRg_MJiIl5",
        "colab_type": "text"
      },
      "source": [
        "**First, import the cleaned data set. Then, select the features from the DataFrame of the case study data.**\n",
        "    \n",
        "These features should be: `'LIMIT_BAL'`, `'EDUCATION'`, `'MARRIAGE'`, `'AGE'`, `'PAY_1'`, `'BILL_AMT1'`, `'BILL_AMT2'`, `'BILL_AMT3'`, `'BILL_AMT4'`, `'BILL_AMT5'`, `'BILL_AMT6'`, `'PAY_AMT1'`, `'PAY_AMT2'`, `'PAY_AMT3'`, `'PAY_AMT4'`, `'PAY_AMT5'`, AND `'PAY_AMT6'`."
      ]
    },
    {
      "cell_type": "code",
      "metadata": {
        "id": "dH6PY6aJiIl6",
        "colab_type": "code",
        "colab": {}
      },
      "source": [
        "# Import data set\n",
        "import pandas as pd\n",
        "import matplotlib.pyplot as plt\n",
        "# Import the dataset\n",
        "df_train = pd.read_csv('/content/drive/My Drive/cleaned_data.csv')"
      ],
      "execution_count": 156,
      "outputs": []
    },
    {
      "cell_type": "code",
      "metadata": {
        "id": "HXvJzTauiImC",
        "colab_type": "code",
        "colab": {}
      },
      "source": [
        "# Create features list\n",
        "X = df_train[['LIMIT_BAL', 'EDUCATION', 'MARRIAGE', 'AGE', 'PAY_1', 'BILL_AMT1', 'BILL_AMT2', 'BILL_AMT3',\n",
        "              'BILL_AMT4', 'BILL_AMT5', 'BILL_AMT6', 'PAY_AMT1', 'PAY_AMT2', 'PAY_AMT3', 'PAY_AMT4', \n",
        "              'PAY_AMT5', 'PAY_AMT6']]\n",
        "y = df_train['default payment next month']"
      ],
      "execution_count": 157,
      "outputs": []
    },
    {
      "cell_type": "markdown",
      "metadata": {
        "id": "s8AAXoc1iImH",
        "colab_type": "text"
      },
      "source": [
        "_____________________________________________________\n",
        "**Next, make a 80:20 train/test split using a random seed of 24.**"
      ]
    },
    {
      "cell_type": "code",
      "metadata": {
        "id": "LujuzC5BiImI",
        "colab_type": "code",
        "colab": {}
      },
      "source": [
        "import random\n",
        "random.seed(24)\n",
        "from sklearn.model_selection import train_test_split\n",
        "X_train, X_test, y_train, y_test = train_test_split(X, y, test_size=0.2, random_state=0)"
      ],
      "execution_count": 158,
      "outputs": []
    },
    {
      "cell_type": "markdown",
      "metadata": {
        "id": "wMh-a-qRiImN",
        "colab_type": "text"
      },
      "source": [
        "_____________________________________________________\n",
        "**Then, instantiate the `MinMaxScaler` to scale the data.**"
      ]
    },
    {
      "cell_type": "code",
      "metadata": {
        "id": "bxfl0v5hiImN",
        "colab_type": "code",
        "colab": {}
      },
      "source": [
        "from sklearn.preprocessing import MinMaxScaler\n",
        "scalar = MinMaxScaler()\n",
        "X_train = scalar.fit_transform(X_train)\n",
        "X_test = scalar.fit_transform(X_test)"
      ],
      "execution_count": 159,
      "outputs": []
    },
    {
      "cell_type": "markdown",
      "metadata": {
        "id": "QP2bUkaoiImS",
        "colab_type": "text"
      },
      "source": [
        "_____________________________________________________\n",
        "**Next, instantiate a logistic regression model with the `saga` solver, L1 penalty, and set `max_iter` to 1,000 as we want the solver to have enough iterations to find a good solution.**"
      ]
    },
    {
      "cell_type": "code",
      "metadata": {
        "id": "jALShhpWiImT",
        "colab_type": "code",
        "colab": {
          "base_uri": "https://localhost:8080/",
          "height": 34
        },
        "outputId": "01f726d1-a7eb-4705-d1e8-2029caef9091"
      },
      "source": [
        "# fitting logistic regression to the training set\n",
        "from sklearn.linear_model import LogisticRegression\n",
        "classifier = LogisticRegression(solver='saga',max_iter = 1000)\n",
        "classifier.fit(X_train, y_train)\n",
        "# predictiing the test result\n",
        "y_pred = classifier.predict(X_test)\n",
        "y_pred"
      ],
      "execution_count": 160,
      "outputs": [
        {
          "output_type": "execute_result",
          "data": {
            "text/plain": [
              "array([0, 0, 0, ..., 0, 0, 0])"
            ]
          },
          "metadata": {
            "tags": []
          },
          "execution_count": 160
        }
      ]
    },
    {
      "cell_type": "code",
      "metadata": {
        "id": "nRzQRWz3xWQC",
        "colab_type": "code",
        "colab": {
          "base_uri": "https://localhost:8080/",
          "height": 316
        },
        "outputId": "b14f11e3-5263-43dc-bca3-6aa03cdfbd12"
      },
      "source": [
        "from sklearn.metrics import confusion_matrix \n",
        "cm = confusion_matrix(y_test ,y_pred)\n",
        "print(cm)\n",
        "import seaborn as sns\n",
        "sns.heatmap(data=cm,annot =True)\n"
      ],
      "execution_count": 161,
      "outputs": [
        {
          "output_type": "stream",
          "text": [
            "[[4107   97]\n",
            " [ 859  270]]\n"
          ],
          "name": "stdout"
        },
        {
          "output_type": "execute_result",
          "data": {
            "text/plain": [
              "<matplotlib.axes._subplots.AxesSubplot at 0x7fa57f4421d0>"
            ]
          },
          "metadata": {
            "tags": []
          },
          "execution_count": 161
        },
        {
          "output_type": "display_data",
          "data": {
            "image/png": "[encoded data removed]",
            "text/plain": [
              "<Figure size 432x288 with 2 Axes>"
            ]
          },
          "metadata": {
            "tags": [],
            "needs_background": "light"
          }
        }
      ]
    },
    {
      "cell_type": "markdown",
      "metadata": {
        "id": "OM_S0o23iImY",
        "colab_type": "text"
      },
      "source": [
        "_____________________________________________________\n",
        "**Next, import the `Pipeline` class and create a `Pipeline` with the scaler and the logistic regression model, using the names `'scaler'` and `'model'` for the steps, respectively.**"
      ]
    },
    {
      "cell_type": "code",
      "metadata": {
        "id": "bE5jN_6wiImZ",
        "colab_type": "code",
        "colab": {}
      },
      "source": [
        "from sklearn.pipeline import Pipeline\n",
        "                 \n",
        "model = Pipeline([('scaler',scalar),('model',classifier)])"
      ],
      "execution_count": 162,
      "outputs": []
    },
    {
      "cell_type": "markdown",
      "metadata": {
        "id": "Wf7sEn6KiImd",
        "colab_type": "text"
      },
      "source": [
        "_____________________________________________________\n",
        "**Now, use the `get_params` method to view the parameters from each stage of the pipeline.**"
      ]
    },
    {
      "cell_type": "code",
      "metadata": {
        "scrolled": false,
        "id": "86kvJNJhiIme",
        "colab_type": "code",
        "colab": {
          "base_uri": "https://localhost:8080/",
          "height": 204
        },
        "outputId": "0521d9d0-6f19-4854-c6d4-b520bf5b7f26"
      },
      "source": [
        "# Use `get_params`\n",
        "model.get_params"
      ],
      "execution_count": 163,
      "outputs": [
        {
          "output_type": "execute_result",
          "data": {
            "text/plain": [
              "<bound method Pipeline.get_params of Pipeline(memory=None,\n",
              "         steps=[('scaler', MinMaxScaler(copy=True, feature_range=(0, 1))),\n",
              "                ('model',\n",
              "                 LogisticRegression(C=1.0, class_weight=None, dual=False,\n",
              "                                    fit_intercept=True, intercept_scaling=1,\n",
              "                                    l1_ratio=None, max_iter=1000,\n",
              "                                    multi_class='auto', n_jobs=None,\n",
              "                                    penalty='l2', random_state=None,\n",
              "                                    solver='saga', tol=0.0001, verbose=0,\n",
              "                                    warm_start=False))],\n",
              "         verbose=False)>"
            ]
          },
          "metadata": {
            "tags": []
          },
          "execution_count": 163
        }
      ]
    },
    {
      "cell_type": "markdown",
      "metadata": {
        "id": "3fcsQCNXiImi",
        "colab_type": "text"
      },
      "source": [
        "**Use the `set_params` method to change the the `model__C` parameter to 2.**"
      ]
    },
    {
      "cell_type": "code",
      "metadata": {
        "id": "I_RelhWrNz7t",
        "colab_type": "code",
        "colab": {
          "base_uri": "https://localhost:8080/",
          "height": 561
        },
        "outputId": "617b3cdc-b9f2-45a0-eec1-7cc3c6b20138"
      },
      "source": [
        "# View what `model__C` is set to currently\n",
        "model.get_params('model__C')"
      ],
      "execution_count": 164,
      "outputs": [
        {
          "output_type": "execute_result",
          "data": {
            "text/plain": [
              "{'memory': None,\n",
              " 'model': LogisticRegression(C=1.0, class_weight=None, dual=False, fit_intercept=True,\n",
              "                    intercept_scaling=1, l1_ratio=None, max_iter=1000,\n",
              "                    multi_class='auto', n_jobs=None, penalty='l2',\n",
              "                    random_state=None, solver='saga', tol=0.0001, verbose=0,\n",
              "                    warm_start=False),\n",
              " 'model__C': 1.0,\n",
              " 'model__class_weight': None,\n",
              " 'model__dual': False,\n",
              " 'model__fit_intercept': True,\n",
              " 'model__intercept_scaling': 1,\n",
              " 'model__l1_ratio': None,\n",
              " 'model__max_iter': 1000,\n",
              " 'model__multi_class': 'auto',\n",
              " 'model__n_jobs': None,\n",
              " 'model__penalty': 'l2',\n",
              " 'model__random_state': None,\n",
              " 'model__solver': 'saga',\n",
              " 'model__tol': 0.0001,\n",
              " 'model__verbose': 0,\n",
              " 'model__warm_start': False,\n",
              " 'scaler': MinMaxScaler(copy=True, feature_range=(0, 1)),\n",
              " 'scaler__copy': True,\n",
              " 'scaler__feature_range': (0, 1),\n",
              " 'steps': [('scaler', MinMaxScaler(copy=True, feature_range=(0, 1))),\n",
              "  ('model',\n",
              "   LogisticRegression(C=1.0, class_weight=None, dual=False, fit_intercept=True,\n",
              "                      intercept_scaling=1, l1_ratio=None, max_iter=1000,\n",
              "                      multi_class='auto', n_jobs=None, penalty='l2',\n",
              "                      random_state=None, solver='saga', tol=0.0001, verbose=0,\n",
              "                      warm_start=False))],\n",
              " 'verbose': False}"
            ]
          },
          "metadata": {
            "tags": []
          },
          "execution_count": 164
        }
      ]
    },
    {
      "cell_type": "code",
      "metadata": {
        "id": "O9fKURh-iImj",
        "colab_type": "code",
        "colab": {
          "base_uri": "https://localhost:8080/",
          "height": 204
        },
        "outputId": "4e0324da-6d3f-4927-fc3b-74e7cf0c0a82"
      },
      "source": [
        "# Change `model__C` to 2\n",
        "model.set_params(model__C = 2)"
      ],
      "execution_count": 165,
      "outputs": [
        {
          "output_type": "execute_result",
          "data": {
            "text/plain": [
              "Pipeline(memory=None,\n",
              "         steps=[('scaler', MinMaxScaler(copy=True, feature_range=(0, 1))),\n",
              "                ('model',\n",
              "                 LogisticRegression(C=2, class_weight=None, dual=False,\n",
              "                                    fit_intercept=True, intercept_scaling=1,\n",
              "                                    l1_ratio=None, max_iter=1000,\n",
              "                                    multi_class='auto', n_jobs=None,\n",
              "                                    penalty='l2', random_state=None,\n",
              "                                    solver='saga', tol=0.0001, verbose=0,\n",
              "                                    warm_start=False))],\n",
              "         verbose=False)"
            ]
          },
          "metadata": {
            "tags": []
          },
          "execution_count": 165
        }
      ]
    },
    {
      "cell_type": "markdown",
      "metadata": {
        "id": "xDKpZubPiImu",
        "colab_type": "text"
      },
      "source": [
        "_____________________________________________________\n",
        "**Then, create a smaller range of C values to test with cross-validation, as these models will take longer to train and test with more data than our previous activities.**\n",
        "\n",
        "**Use C_vals = [$10^2$, $10$, $1$, $10^{-1}$, $10^{-2}$, $10^{-3}$].**\n",
        "\n",
        "\n",
        "<details>\n",
        "    <summary>Hint:</summary>\n",
        "    Recall that exponents in Python use the ** operator.\n",
        "</details>"
      ]
    },
    {
      "cell_type": "code",
      "metadata": {
        "id": "KB_9VIx-iImu",
        "colab_type": "code",
        "colab": {}
      },
      "source": [
        "c = [1000 , 10 , 1 , 0.1 , 0.01 , 0.001]"
      ],
      "execution_count": 166,
      "outputs": []
    },
    {
      "cell_type": "code",
      "metadata": {
        "id": "k6-EiqD7bgWk",
        "colab_type": "code",
        "colab": {
          "base_uri": "https://localhost:8080/",
          "height": 34
        },
        "outputId": "249523d8-9d8a-4502-bf24-29ddb2d5c2c7"
      },
      "source": [
        "C_val_exponents = np.linspace(2,-3,6)\n",
        "C_val_exponents"
      ],
      "execution_count": 178,
      "outputs": [
        {
          "output_type": "execute_result",
          "data": {
            "text/plain": [
              "array([ 2.,  1.,  0., -1., -2., -3.])"
            ]
          },
          "metadata": {
            "tags": []
          },
          "execution_count": 178
        }
      ]
    },
    {
      "cell_type": "markdown",
      "metadata": {
        "id": "_72dpYGbiImy",
        "colab_type": "text"
      },
      "source": [
        "Now, define `k_folds` using `StratifiedKFold`. The number of folds should be 4. Set the random state to 1."
      ]
    },
    {
      "cell_type": "code",
      "metadata": {
        "id": "9CPVR695iImy",
        "colab_type": "code",
        "colab": {
          "base_uri": "https://localhost:8080/",
          "height": 71
        },
        "outputId": "4b5728c8-3c89-42b3-cdca-bd6e614b6b92"
      },
      "source": [
        "from sklearn.model_selection import KFold, StratifiedKFold\n",
        "k_folds = StratifiedKFold(n_splits=4, random_state=1)"
      ],
      "execution_count": 167,
      "outputs": [
        {
          "output_type": "stream",
          "text": [
            "/usr/local/lib/python3.6/dist-packages/sklearn/model_selection/_split.py:296: FutureWarning: Setting a random_state has no effect since shuffle is False. This will raise an error in 0.24. You should leave random_state to its default (None), or set shuffle=True.\n",
            "  FutureWarning\n"
          ],
          "name": "stderr"
        }
      ]
    },
    {
      "cell_type": "markdown",
      "metadata": {
        "id": "wtgCzO_1iIm6",
        "colab_type": "text"
      },
      "source": [
        "_____________________________________________________\n",
        "**Next, make a new version of the `cross_val_C_search` function, called `cross_val_C_search_pipe`. Instead of the model argument, this function will take a pipeline argument. The changes inside the function will be to set the `C` value using `set_params(model__C = <value you want to test>)` on the pipeline, replacing the model with the pipeline for the fit and `predict_proba` methods, and accessing the `C` value using `pipeline.get_params()['model__C']` for the printed status update.**"
      ]
    },
    {
      "cell_type": "code",
      "metadata": {
        "id": "HrPGyEAeiIm7",
        "colab_type": "code",
        "colab": {}
      },
      "source": [
        "def cross_val_C_search_pipe(model,c,fc=False):\n",
        "    model.set_params(model__C = c)\n",
        "    model.fit(X_train,y_train)\n",
        "    if (fc):\n",
        "        print(f\"For {model.get_params()['model__C']} predicted proba is:{model.predict_proba(X_test)}\")\n",
        "    return model.predict_proba(X_test)"
      ],
      "execution_count": 168,
      "outputs": []
    },
    {
      "cell_type": "markdown",
      "metadata": {
        "id": "MQ_p8umeiIm_",
        "colab_type": "text"
      },
      "source": [
        "_____________________________________________________\n",
        "**Now, run this function as in the previous activity, but using the new range of `C` values, the pipeline you created, and the features and response variable from the training split of the case study data.**\n",
        "\n",
        "    You may see warnings here, or in later steps, about the non-convergence of the solver; you could experiment with the `tol` or `max_iter`` options to try and achieve convergence, although the results you obtain with `max_iter = 1000` are likely to be sufficient."
      ]
    },
    {
      "cell_type": "code",
      "metadata": {
        "id": "fmQxue5uiInA",
        "colab_type": "code",
        "colab": {
          "base_uri": "https://localhost:8080/",
          "height": 731
        },
        "outputId": "89e11647-8965-4fac-b0e2-140a882e3dba"
      },
      "source": [
        "for i in c: \n",
        "    cross_val_C_search_pipe(model,i,fc=True)"
      ],
      "execution_count": 169,
      "outputs": [
        {
          "output_type": "stream",
          "text": [
            "For 1000 predicted proba is:[[0.89571466 0.10428534]\n",
            " [0.96072536 0.03927464]\n",
            " [0.74147428 0.25852572]\n",
            " ...\n",
            " [0.81812684 0.18187316]\n",
            " [0.68628833 0.31371167]\n",
            " [0.86591796 0.13408204]]\n",
            "For 10 predicted proba is:[[0.90670797 0.09329203]\n",
            " [0.96088303 0.03911697]\n",
            " [0.76269954 0.23730046]\n",
            " ...\n",
            " [0.83717838 0.16282162]\n",
            " [0.72825272 0.27174728]\n",
            " [0.87956407 0.12043593]]\n",
            "For 1 predicted proba is:[[0.92019957 0.07980043]\n",
            " [0.95917766 0.04082234]\n",
            " [0.78891876 0.21108124]\n",
            " ...\n",
            " [0.86229377 0.13770623]\n",
            " [0.78768128 0.21231872]\n",
            " [0.89631238 0.10368762]]\n",
            "For 0.1 predicted proba is:[[0.90374883 0.09625117]\n",
            " [0.93975024 0.06024976]\n",
            " [0.77059677 0.22940323]\n",
            " ...\n",
            " [0.84398479 0.15601521]\n",
            " [0.79361177 0.20638823]\n",
            " [0.8798312  0.1201688 ]]\n",
            "For 0.01 predicted proba is:[[0.84405871 0.15594129]\n",
            " [0.87173513 0.12826487]\n",
            " [0.76062694 0.23937306]\n",
            " ...\n",
            " [0.79824148 0.20175852]\n",
            " [0.78292249 0.21707751]\n",
            " [0.83490601 0.16509399]]\n",
            "For 0.001 predicted proba is:[[0.78742788 0.21257212]\n",
            " [0.79619257 0.20380743]\n",
            " [0.77138098 0.22861902]\n",
            " ...\n",
            " [0.77711837 0.22288163]\n",
            " [0.77820292 0.22179708]\n",
            " [0.78816083 0.21183917]]\n"
          ],
          "name": "stdout"
        }
      ]
    },
    {
      "cell_type": "markdown",
      "metadata": {
        "id": "b16HWMYPiInF",
        "colab_type": "text"
      },
      "source": [
        "_____________________________________________________\n",
        "**Plot the average training and testing ROC AUC across folds, for each `np.log(C_vals)` value.**"
      ]
    },
    {
      "cell_type": "code",
      "metadata": {
        "id": "Pm0bSGrgiInH",
        "colab_type": "code",
        "colab": {
          "base_uri": "https://localhost:8080/",
          "height": 560
        },
        "outputId": "22dc37cb-fb28-423b-f8f4-c4a18fd44120"
      },
      "source": [
        "auc = []\n",
        "for i in range (len(c)):\n",
        "    Y_predict_proba = cross_val_C_search_pipe(model,c[i])\n",
        "    fpr,tpr,threshold = roc_curve(y_test,Y_predict_proba[:,1])\n",
        "    plt.figure(figsize=(10,7))\n",
        "    auc.append(roc_auc_score(y_test,Y_predict_proba[:,1]))\n",
        "plt.plot(fpr,tpr,label = 'roc curve')\n",
        "plt.plot([0,1],[0,1],'r--')\n",
        "plt.title('ROC curve')\n",
        "plt.xlabel('False positive rate')\n",
        "plt.ylabel('True positive rate')\n",
        "plt.show()\n",
        "auc = np.mean(auc)\n",
        "print(auc)"
      ],
      "execution_count": 170,
      "outputs": [
        {
          "output_type": "display_data",
          "data": {
            "text/plain": [
              "<Figure size 720x504 with 0 Axes>"
            ]
          },
          "metadata": {
            "tags": []
          }
        },
        {
          "output_type": "display_data",
          "data": {
            "text/plain": [
              "<Figure size 720x504 with 0 Axes>"
            ]
          },
          "metadata": {
            "tags": []
          }
        },
        {
          "output_type": "display_data",
          "data": {
            "text/plain": [
              "<Figure size 720x504 with 0 Axes>"
            ]
          },
          "metadata": {
            "tags": []
          }
        },
        {
          "output_type": "display_data",
          "data": {
            "text/plain": [
              "<Figure size 720x504 with 0 Axes>"
            ]
          },
          "metadata": {
            "tags": []
          }
        },
        {
          "output_type": "display_data",
          "data": {
            "text/plain": [
              "<Figure size 720x504 with 0 Axes>"
            ]
          },
          "metadata": {
            "tags": []
          }
        },
        {
          "output_type": "display_data",
          "data": {
            "image/png": "[encoded data removed]",
            "text/plain": [
              "<Figure size 720x504 with 1 Axes>"
            ]
          },
          "metadata": {
            "tags": [],
            "needs_background": "light"
          }
        },
        {
          "output_type": "stream",
          "text": [
            "0.7132869998542027\n"
          ],
          "name": "stdout"
        }
      ]
    },
    {
      "cell_type": "markdown",
      "metadata": {
        "id": "mVpW9bhoiInL",
        "colab_type": "text"
      },
      "source": [
        "_____________________________________________________\n",
        "**Up next, create interaction features for the case study data using scikit-learn's `PolynomialFeatures`. You should use 2 as the degree of polynomial features. Confirm that the number of new features makes sense.**"
      ]
    },
    {
      "cell_type": "code",
      "metadata": {
        "id": "CqQLN979iInL",
        "colab_type": "code",
        "colab": {
          "base_uri": "https://localhost:8080/",
          "height": 238
        },
        "outputId": "5dbb11a6-f806-433d-e5b3-43c6cfa379e6"
      },
      "source": [
        "from sklearn.preprocessing import PolynomialFeatures\n",
        "pf = PolynomialFeatures(degree=2)\n",
        "X2 = pf.fit_transform(X)\n",
        "X2"
      ],
      "execution_count": 171,
      "outputs": [
        {
          "output_type": "execute_result",
          "data": {
            "text/plain": [
              "array([[1.0000000e+00, 2.0000000e+04, 2.0000000e+00, ..., 0.0000000e+00,\n",
              "        0.0000000e+00, 0.0000000e+00],\n",
              "       [1.0000000e+00, 1.2000000e+05, 2.0000000e+00, ..., 0.0000000e+00,\n",
              "        0.0000000e+00, 4.0000000e+06],\n",
              "       [1.0000000e+00, 9.0000000e+04, 2.0000000e+00, ..., 1.0000000e+06,\n",
              "        5.0000000e+06, 2.5000000e+07],\n",
              "       ...,\n",
              "       [1.0000000e+00, 3.0000000e+04, 2.0000000e+00, ..., 4.0000000e+06,\n",
              "        6.2000000e+06, 9.6100000e+06],\n",
              "       [1.0000000e+00, 8.0000000e+04, 3.0000000e+00, ..., 2.8051853e+09,\n",
              "        9.5547056e+07, 3.2544160e+06],\n",
              "       [1.0000000e+00, 5.0000000e+04, 2.0000000e+00, ..., 1.0000000e+06,\n",
              "        1.0000000e+06, 1.0000000e+06]])"
            ]
          },
          "metadata": {
            "tags": []
          },
          "execution_count": 171
        }
      ]
    },
    {
      "cell_type": "markdown",
      "metadata": {
        "id": "x_wwy1XaiInP",
        "colab_type": "text"
      },
      "source": [
        "_____________________________________________________\n",
        "**Finally, repeat the cross-validation procedure and observe the model performance now.**"
      ]
    },
    {
      "cell_type": "code",
      "metadata": {
        "id": "v3pYrvGRiInQ",
        "colab_type": "code",
        "colab": {
          "base_uri": "https://localhost:8080/",
          "height": 34
        },
        "outputId": "2f7f5517-64b2-4550-94e8-85c26b530ba6"
      },
      "source": [
        "# Using the new features, make a 80:20 train/test split using a random seed of 24.**\n",
        "from sklearn.model_selection import train_test_split\n",
        "X1_train, X1_test, y1_train, y1_test = train_test_split(X2, y, test_size=0.2, random_state=24)\n",
        "X2_train.shape , X2_test.shape ,y1_train.shape , y1_test.shape"
      ],
      "execution_count": 172,
      "outputs": [
        {
          "output_type": "execute_result",
          "data": {
            "text/plain": [
              "((21331, 171), (5333, 171), (21331,), (5333,))"
            ]
          },
          "metadata": {
            "tags": []
          },
          "execution_count": 172
        }
      ]
    },
    {
      "cell_type": "code",
      "metadata": {
        "id": "ZyvNQibSiInU",
        "colab_type": "code",
        "colab": {}
      },
      "source": [
        "# Call the cross_val_C_search_pipe() function using the new training data.\n",
        "# All other parameters should remain the same.\n",
        "# Note that this training may take a few minutes due to the larger number of features.\n",
        "def cross_val_C_search_pipe(model,c,fc=False):\n",
        "    model.set_params(model__C = c)\n",
        "    model.fit(X1_train,y1_train)\n",
        "    if (fc):\n",
        "        print(f\"For {model.get_params()['model__C']} predicted proba is:{model.predict_proba(X1_test)}\")\n",
        "    return model.predict_proba(X1_test)"
      ],
      "execution_count": 173,
      "outputs": []
    },
    {
      "cell_type": "code",
      "metadata": {
        "id": "ws-gDH__M9W2",
        "colab_type": "code",
        "colab": {
          "base_uri": "https://localhost:8080/",
          "height": 765
        },
        "outputId": "d6ac88ef-81a7-43b0-c4bc-566d71baac51"
      },
      "source": [
        "for i in c: \n",
        "    cross_val_C_search_pipe(model,i,fc=True)"
      ],
      "execution_count": 174,
      "outputs": [
        {
          "output_type": "stream",
          "text": [
            "/usr/local/lib/python3.6/dist-packages/sklearn/linear_model/_sag.py:330: ConvergenceWarning: The max_iter was reached which means the coef_ did not converge\n",
            "  \"the coef_ did not converge\", ConvergenceWarning)\n"
          ],
          "name": "stderr"
        },
        {
          "output_type": "stream",
          "text": [
            "For 1000 predicted proba is:[[0.46022258 0.53977742]\n",
            " [0.60091379 0.39908621]\n",
            " [0.91104167 0.08895833]\n",
            " ...\n",
            " [0.90188983 0.09811017]\n",
            " [0.58854392 0.41145608]\n",
            " [0.39375419 0.60624581]]\n",
            "For 10 predicted proba is:[[0.46368898 0.53631102]\n",
            " [0.61213065 0.38786935]\n",
            " [0.91938514 0.08061486]\n",
            " ...\n",
            " [0.88389541 0.11610459]\n",
            " [0.59589693 0.40410307]\n",
            " [0.41172269 0.58827731]]\n",
            "For 1 predicted proba is:[[0.47390793 0.52609207]\n",
            " [0.63323618 0.36676382]\n",
            " [0.91506508 0.08493492]\n",
            " ...\n",
            " [0.84933059 0.15066941]\n",
            " [0.61206434 0.38793566]\n",
            " [0.45261238 0.54738762]]\n",
            "For 0.1 predicted proba is:[[0.50440894 0.49559106]\n",
            " [0.65699815 0.34300185]\n",
            " [0.89822596 0.10177404]\n",
            " ...\n",
            " [0.82258033 0.17741967]\n",
            " [0.64073258 0.35926742]\n",
            " [0.51554656 0.48445344]]\n",
            "For 0.01 predicted proba is:[[0.63681391 0.36318609]\n",
            " [0.69914725 0.30085275]\n",
            " [0.85145462 0.14854538]\n",
            " ...\n",
            " [0.78716867 0.21283133]\n",
            " [0.72969679 0.27030321]\n",
            " [0.64021884 0.35978116]]\n",
            "For 0.001 predicted proba is:[[0.7481888  0.2518112 ]\n",
            " [0.75721632 0.24278368]\n",
            " [0.79613926 0.20386074]\n",
            " ...\n",
            " [0.77440993 0.22559007]\n",
            " [0.77497552 0.22502448]\n",
            " [0.75290818 0.24709182]]\n"
          ],
          "name": "stdout"
        }
      ]
    },
    {
      "cell_type": "code",
      "metadata": {
        "eid": "b4f5a",
        "id": "8GN8fBOCiInX",
        "colab_type": "code",
        "colab": {
          "base_uri": "https://localhost:8080/",
          "height": 594
        },
        "outputId": "818c4a5c-7d64-4814-efde-ee2b0867789b"
      },
      "source": [
        "# Plot the average training and testing ROC AUC across folds, for each C value.\n",
        "auc = []\n",
        "for i in range (len(c)):\n",
        "    Y_predict_proba = cross_val_C_search_pipe(model,c[i])\n",
        "    fpr,tpr,threshold = roc_curve(y1_test,Y_predict_proba[:,1])\n",
        "    plt.figure(figsize=(10,7))\n",
        "    auc.append(roc_auc_score(y1_test,Y_predict_proba[:,1]))\n",
        "mean_auc = np.mean(auc)\n",
        "plt.plot(fpr,tpr,label=r'Mean ROC (AUC = %0.2f)' % (mean_auc))\n",
        "plt.plot([0,1],[0,1],'r--',label='Guessing')\n",
        "plt.title('ROC curve')\n",
        "plt.xlabel('False positive rate')\n",
        "plt.ylabel('True positive rate')\n",
        "plt.show()\n",
        "print(mean_auc)"
      ],
      "execution_count": 176,
      "outputs": [
        {
          "output_type": "stream",
          "text": [
            "/usr/local/lib/python3.6/dist-packages/sklearn/linear_model/_sag.py:330: ConvergenceWarning: The max_iter was reached which means the coef_ did not converge\n",
            "  \"the coef_ did not converge\", ConvergenceWarning)\n"
          ],
          "name": "stderr"
        },
        {
          "output_type": "display_data",
          "data": {
            "text/plain": [
              "<Figure size 720x504 with 0 Axes>"
            ]
          },
          "metadata": {
            "tags": []
          }
        },
        {
          "output_type": "display_data",
          "data": {
            "text/plain": [
              "<Figure size 720x504 with 0 Axes>"
            ]
          },
          "metadata": {
            "tags": []
          }
        },
        {
          "output_type": "display_data",
          "data": {
            "text/plain": [
              "<Figure size 720x504 with 0 Axes>"
            ]
          },
          "metadata": {
            "tags": []
          }
        },
        {
          "output_type": "display_data",
          "data": {
            "text/plain": [
              "<Figure size 720x504 with 0 Axes>"
            ]
          },
          "metadata": {
            "tags": []
          }
        },
        {
          "output_type": "display_data",
          "data": {
            "text/plain": [
              "<Figure size 720x504 with 0 Axes>"
            ]
          },
          "metadata": {
            "tags": []
          }
        },
        {
          "output_type": "display_data",
          "data": {
            "image/png": "[encoded data removed]",
            "text/plain": [
              "<Figure size 720x504 with 1 Axes>"
            ]
          },
          "metadata": {
            "tags": [],
            "needs_background": "light"
          }
        },
        {
          "output_type": "stream",
          "text": [
            "0.723647194781709\n"
          ],
          "name": "stdout"
        }
      ]
    },
    {
      "cell_type": "code",
      "metadata": {
        "id": "CON9hNnpbuxl",
        "colab_type": "code",
        "colab": {
          "base_uri": "https://localhost:8080/",
          "height": 51
        },
        "outputId": "fd739b91-c9dc-46ca-c2a9-18c40b36d75b"
      },
      "source": [
        "fpr"
      ],
      "execution_count": 180,
      "outputs": [
        {
          "output_type": "execute_result",
          "data": {
            "text/plain": [
              "array([0.00000000e+00, 2.39348971e-04, 4.78697942e-04, ...,\n",
              "       9.98324557e-01, 9.98324557e-01, 1.00000000e+00])"
            ]
          },
          "metadata": {
            "tags": []
          },
          "execution_count": 180
        }
      ]
    },
    {
      "cell_type": "code",
      "metadata": {
        "id": "MSiFGlh4bw4j",
        "colab_type": "code",
        "colab": {
          "base_uri": "https://localhost:8080/",
          "height": 51
        },
        "outputId": "86d5b017-b0fb-40f7-9e9f-003db92a3449"
      },
      "source": [
        "tpr"
      ],
      "execution_count": 181,
      "outputs": [
        {
          "output_type": "execute_result",
          "data": {
            "text/plain": [
              "array([0.       , 0.       , 0.       , ..., 0.9991342, 1.       ,\n",
              "       1.       ])"
            ]
          },
          "metadata": {
            "tags": []
          },
          "execution_count": 181
        }
      ]
    },
    {
      "cell_type": "markdown",
      "metadata": {
        "id": "4n3W9A9ZiInb",
        "colab_type": "text"
      },
      "source": [
        "**Take a look at the above graph. Does the average cross-validation testing performance improve with the interaction features? Is regularization useful?**"
      ]
    }
  ]
}