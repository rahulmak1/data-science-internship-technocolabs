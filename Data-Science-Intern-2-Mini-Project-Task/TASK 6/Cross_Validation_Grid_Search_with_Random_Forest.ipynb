{
  "nbformat": 4,
  "nbformat_minor": 0,
  "metadata": {
    "kernelspec": {
      "display_name": "Python 3",
      "language": "python",
      "name": "python3"
    },
    "language_info": {
      "codemirror_mode": {
        "name": "ipython",
        "version": 3
      },
      "file_extension": ".py",
      "mimetype": "text/x-python",
      "name": "python",
      "nbconvert_exporter": "python",
      "pygments_lexer": "ipython3",
      "version": "3.7.4"
    },
    "colab": {
      "name": "Cross-Validation_Grid_Search_with_Random_Forest.ipynb",
      "provenance": []
    }
  },
  "cells": [
    {
      "cell_type": "markdown",
      "metadata": {
        "id": "Gt_D4UTTRU3i",
        "colab_type": "text"
      },
      "source": [
        "**Run the following two cells before you begin.**"
      ]
    },
    {
      "cell_type": "code",
      "metadata": {
        "id": "66sCEDCaRU3k",
        "colab_type": "code",
        "colab": {
          "base_uri": "https://localhost:8080/",
          "height": 34
        },
        "outputId": "f0a2d3f2-1373-498b-8b4e-b48b79bfd18e"
      },
      "source": [
        "%autosave 10"
      ],
      "execution_count": 1,
      "outputs": [
        {
          "output_type": "display_data",
          "data": {
            "application/javascript": [
              "IPython.notebook.set_autosave_interval(10000)"
            ]
          },
          "metadata": {
            "tags": []
          }
        },
        {
          "output_type": "stream",
          "text": [
            "Autosaving every 10 seconds\n"
          ],
          "name": "stdout"
        }
      ]
    },
    {
      "cell_type": "code",
      "metadata": {
        "id": "R2Kx3_NYRcbO",
        "colab_type": "code",
        "colab": {
          "base_uri": "https://localhost:8080/",
          "height": 122
        },
        "outputId": "3b819ec5-b2c0-4dfe-b226-c12a63848c05"
      },
      "source": [
        "from google.colab import drive\n",
        "drive.mount('/content/drive')"
      ],
      "execution_count": 2,
      "outputs": [
        {
          "output_type": "stream",
          "text": [
            "Go to this URL in a browser: https://accounts.google.com/o/oauth2/auth?client_id=947318989803-6bn6qk8qdgf4n4g3pfee6491hc0brc4i.apps.googleusercontent.com&redirect_uri=urn%3aietf%3awg%3aoauth%3a2.0%3aoob&response_type=code&scope=email%20https%3a%2f%2fwww.googleapis.com%2fauth%2fdocs.test%20https%3a%2f%2fwww.googleapis.com%2fauth%2fdrive%20https%3a%2f%2fwww.googleapis.com%2fauth%2fdrive.photos.readonly%20https%3a%2f%2fwww.googleapis.com%2fauth%2fpeopleapi.readonly\n",
            "\n",
            "Enter your authorization code:\n",
            "··········\n",
            "Mounted at /content/drive\n"
          ],
          "name": "stdout"
        }
      ]
    },
    {
      "cell_type": "code",
      "metadata": {
        "id": "DZ29jJO1RU3q",
        "colab_type": "code",
        "colab": {}
      },
      "source": [
        "import pandas as pd\n",
        "import numpy as np\n",
        "import matplotlib.pyplot as plt\n",
        "\n",
        "%matplotlib inline\n",
        "\n",
        "df = pd.read_csv('/content/drive/My Drive/cleaned_data.csv')"
      ],
      "execution_count": 3,
      "outputs": []
    },
    {
      "cell_type": "code",
      "metadata": {
        "id": "pIwSpIgxbHIE",
        "colab_type": "code",
        "colab": {
          "base_uri": "https://localhost:8080/",
          "height": 660
        },
        "outputId": "3e616818-0d53-4fad-be5b-aa718a2f3bea"
      },
      "source": [
        "df"
      ],
      "execution_count": 4,
      "outputs": [
        {
          "output_type": "execute_result",
          "data": {
            "text/html": [
              "<div>\n",
              "<style scoped>\n",
              "    .dataframe tbody tr th:only-of-type {\n",
              "        vertical-align: middle;\n",
              "    }\n",
              "\n",
              "    .dataframe tbody tr th {\n",
              "        vertical-align: top;\n",
              "    }\n",
              "\n",
              "    .dataframe thead th {\n",
              "        text-align: right;\n",
              "    }\n",
              "</style>\n",
              "<table border=\"1\" class=\"dataframe\">\n",
              "  <thead>\n",
              "    <tr style=\"text-align: right;\">\n",
              "      <th></th>\n",
              "      <th>ID</th>\n",
              "      <th>LIMIT_BAL</th>\n",
              "      <th>SEX</th>\n",
              "      <th>EDUCATION</th>\n",
              "      <th>MARRIAGE</th>\n",
              "      <th>AGE</th>\n",
              "      <th>PAY_1</th>\n",
              "      <th>PAY_2</th>\n",
              "      <th>PAY_3</th>\n",
              "      <th>PAY_4</th>\n",
              "      <th>PAY_5</th>\n",
              "      <th>PAY_6</th>\n",
              "      <th>BILL_AMT1</th>\n",
              "      <th>BILL_AMT2</th>\n",
              "      <th>BILL_AMT3</th>\n",
              "      <th>BILL_AMT4</th>\n",
              "      <th>BILL_AMT5</th>\n",
              "      <th>BILL_AMT6</th>\n",
              "      <th>PAY_AMT1</th>\n",
              "      <th>PAY_AMT2</th>\n",
              "      <th>PAY_AMT3</th>\n",
              "      <th>PAY_AMT4</th>\n",
              "      <th>PAY_AMT5</th>\n",
              "      <th>PAY_AMT6</th>\n",
              "      <th>default payment next month</th>\n",
              "      <th>EDUCATION_CAT</th>\n",
              "      <th>graduate school</th>\n",
              "      <th>high school</th>\n",
              "      <th>others</th>\n",
              "      <th>university</th>\n",
              "    </tr>\n",
              "  </thead>\n",
              "  <tbody>\n",
              "    <tr>\n",
              "      <th>0</th>\n",
              "      <td>798fc410-45c1</td>\n",
              "      <td>20000</td>\n",
              "      <td>2</td>\n",
              "      <td>2</td>\n",
              "      <td>1</td>\n",
              "      <td>24</td>\n",
              "      <td>2</td>\n",
              "      <td>2</td>\n",
              "      <td>-1</td>\n",
              "      <td>-1</td>\n",
              "      <td>-2</td>\n",
              "      <td>-2</td>\n",
              "      <td>3913</td>\n",
              "      <td>3102</td>\n",
              "      <td>689</td>\n",
              "      <td>0</td>\n",
              "      <td>0</td>\n",
              "      <td>0</td>\n",
              "      <td>0</td>\n",
              "      <td>689</td>\n",
              "      <td>0</td>\n",
              "      <td>0</td>\n",
              "      <td>0</td>\n",
              "      <td>0</td>\n",
              "      <td>1</td>\n",
              "      <td>university</td>\n",
              "      <td>0</td>\n",
              "      <td>0</td>\n",
              "      <td>0</td>\n",
              "      <td>1</td>\n",
              "    </tr>\n",
              "    <tr>\n",
              "      <th>1</th>\n",
              "      <td>8a8c8f3b-8eb4</td>\n",
              "      <td>120000</td>\n",
              "      <td>2</td>\n",
              "      <td>2</td>\n",
              "      <td>2</td>\n",
              "      <td>26</td>\n",
              "      <td>-1</td>\n",
              "      <td>2</td>\n",
              "      <td>0</td>\n",
              "      <td>0</td>\n",
              "      <td>0</td>\n",
              "      <td>2</td>\n",
              "      <td>2682</td>\n",
              "      <td>1725</td>\n",
              "      <td>2682</td>\n",
              "      <td>3272</td>\n",
              "      <td>3455</td>\n",
              "      <td>3261</td>\n",
              "      <td>0</td>\n",
              "      <td>1000</td>\n",
              "      <td>1000</td>\n",
              "      <td>1000</td>\n",
              "      <td>0</td>\n",
              "      <td>2000</td>\n",
              "      <td>1</td>\n",
              "      <td>university</td>\n",
              "      <td>0</td>\n",
              "      <td>0</td>\n",
              "      <td>0</td>\n",
              "      <td>1</td>\n",
              "    </tr>\n",
              "    <tr>\n",
              "      <th>2</th>\n",
              "      <td>85698822-43f5</td>\n",
              "      <td>90000</td>\n",
              "      <td>2</td>\n",
              "      <td>2</td>\n",
              "      <td>2</td>\n",
              "      <td>34</td>\n",
              "      <td>0</td>\n",
              "      <td>0</td>\n",
              "      <td>0</td>\n",
              "      <td>0</td>\n",
              "      <td>0</td>\n",
              "      <td>0</td>\n",
              "      <td>29239</td>\n",
              "      <td>14027</td>\n",
              "      <td>13559</td>\n",
              "      <td>14331</td>\n",
              "      <td>14948</td>\n",
              "      <td>15549</td>\n",
              "      <td>1518</td>\n",
              "      <td>1500</td>\n",
              "      <td>1000</td>\n",
              "      <td>1000</td>\n",
              "      <td>1000</td>\n",
              "      <td>5000</td>\n",
              "      <td>0</td>\n",
              "      <td>university</td>\n",
              "      <td>0</td>\n",
              "      <td>0</td>\n",
              "      <td>0</td>\n",
              "      <td>1</td>\n",
              "    </tr>\n",
              "    <tr>\n",
              "      <th>3</th>\n",
              "      <td>0737c11b-be42</td>\n",
              "      <td>50000</td>\n",
              "      <td>2</td>\n",
              "      <td>2</td>\n",
              "      <td>1</td>\n",
              "      <td>37</td>\n",
              "      <td>0</td>\n",
              "      <td>0</td>\n",
              "      <td>0</td>\n",
              "      <td>0</td>\n",
              "      <td>0</td>\n",
              "      <td>0</td>\n",
              "      <td>46990</td>\n",
              "      <td>48233</td>\n",
              "      <td>49291</td>\n",
              "      <td>28314</td>\n",
              "      <td>28959</td>\n",
              "      <td>29547</td>\n",
              "      <td>2000</td>\n",
              "      <td>2019</td>\n",
              "      <td>1200</td>\n",
              "      <td>1100</td>\n",
              "      <td>1069</td>\n",
              "      <td>1000</td>\n",
              "      <td>0</td>\n",
              "      <td>university</td>\n",
              "      <td>0</td>\n",
              "      <td>0</td>\n",
              "      <td>0</td>\n",
              "      <td>1</td>\n",
              "    </tr>\n",
              "    <tr>\n",
              "      <th>4</th>\n",
              "      <td>3b7f77cc-dbc0</td>\n",
              "      <td>50000</td>\n",
              "      <td>1</td>\n",
              "      <td>2</td>\n",
              "      <td>1</td>\n",
              "      <td>57</td>\n",
              "      <td>-1</td>\n",
              "      <td>0</td>\n",
              "      <td>-1</td>\n",
              "      <td>0</td>\n",
              "      <td>0</td>\n",
              "      <td>0</td>\n",
              "      <td>8617</td>\n",
              "      <td>5670</td>\n",
              "      <td>35835</td>\n",
              "      <td>20940</td>\n",
              "      <td>19146</td>\n",
              "      <td>19131</td>\n",
              "      <td>2000</td>\n",
              "      <td>36681</td>\n",
              "      <td>10000</td>\n",
              "      <td>9000</td>\n",
              "      <td>689</td>\n",
              "      <td>679</td>\n",
              "      <td>0</td>\n",
              "      <td>university</td>\n",
              "      <td>0</td>\n",
              "      <td>0</td>\n",
              "      <td>0</td>\n",
              "      <td>1</td>\n",
              "    </tr>\n",
              "    <tr>\n",
              "      <th>...</th>\n",
              "      <td>...</td>\n",
              "      <td>...</td>\n",
              "      <td>...</td>\n",
              "      <td>...</td>\n",
              "      <td>...</td>\n",
              "      <td>...</td>\n",
              "      <td>...</td>\n",
              "      <td>...</td>\n",
              "      <td>...</td>\n",
              "      <td>...</td>\n",
              "      <td>...</td>\n",
              "      <td>...</td>\n",
              "      <td>...</td>\n",
              "      <td>...</td>\n",
              "      <td>...</td>\n",
              "      <td>...</td>\n",
              "      <td>...</td>\n",
              "      <td>...</td>\n",
              "      <td>...</td>\n",
              "      <td>...</td>\n",
              "      <td>...</td>\n",
              "      <td>...</td>\n",
              "      <td>...</td>\n",
              "      <td>...</td>\n",
              "      <td>...</td>\n",
              "      <td>...</td>\n",
              "      <td>...</td>\n",
              "      <td>...</td>\n",
              "      <td>...</td>\n",
              "      <td>...</td>\n",
              "    </tr>\n",
              "    <tr>\n",
              "      <th>26659</th>\n",
              "      <td>ecff42d0-bdc6</td>\n",
              "      <td>220000</td>\n",
              "      <td>1</td>\n",
              "      <td>3</td>\n",
              "      <td>1</td>\n",
              "      <td>39</td>\n",
              "      <td>0</td>\n",
              "      <td>0</td>\n",
              "      <td>0</td>\n",
              "      <td>0</td>\n",
              "      <td>0</td>\n",
              "      <td>0</td>\n",
              "      <td>188948</td>\n",
              "      <td>192815</td>\n",
              "      <td>208365</td>\n",
              "      <td>88004</td>\n",
              "      <td>31237</td>\n",
              "      <td>15980</td>\n",
              "      <td>8500</td>\n",
              "      <td>20000</td>\n",
              "      <td>5003</td>\n",
              "      <td>3047</td>\n",
              "      <td>5000</td>\n",
              "      <td>1000</td>\n",
              "      <td>0</td>\n",
              "      <td>high school</td>\n",
              "      <td>0</td>\n",
              "      <td>1</td>\n",
              "      <td>0</td>\n",
              "      <td>0</td>\n",
              "    </tr>\n",
              "    <tr>\n",
              "      <th>26660</th>\n",
              "      <td>99d1fa0e-222b</td>\n",
              "      <td>150000</td>\n",
              "      <td>1</td>\n",
              "      <td>3</td>\n",
              "      <td>2</td>\n",
              "      <td>43</td>\n",
              "      <td>-1</td>\n",
              "      <td>-1</td>\n",
              "      <td>-1</td>\n",
              "      <td>-1</td>\n",
              "      <td>0</td>\n",
              "      <td>0</td>\n",
              "      <td>1683</td>\n",
              "      <td>1828</td>\n",
              "      <td>3502</td>\n",
              "      <td>8979</td>\n",
              "      <td>5190</td>\n",
              "      <td>0</td>\n",
              "      <td>1837</td>\n",
              "      <td>3526</td>\n",
              "      <td>8998</td>\n",
              "      <td>129</td>\n",
              "      <td>0</td>\n",
              "      <td>0</td>\n",
              "      <td>0</td>\n",
              "      <td>high school</td>\n",
              "      <td>0</td>\n",
              "      <td>1</td>\n",
              "      <td>0</td>\n",
              "      <td>0</td>\n",
              "    </tr>\n",
              "    <tr>\n",
              "      <th>26661</th>\n",
              "      <td>95cdd3e7-4f24</td>\n",
              "      <td>30000</td>\n",
              "      <td>1</td>\n",
              "      <td>2</td>\n",
              "      <td>2</td>\n",
              "      <td>37</td>\n",
              "      <td>4</td>\n",
              "      <td>3</td>\n",
              "      <td>2</td>\n",
              "      <td>-1</td>\n",
              "      <td>0</td>\n",
              "      <td>0</td>\n",
              "      <td>3565</td>\n",
              "      <td>3356</td>\n",
              "      <td>2758</td>\n",
              "      <td>20878</td>\n",
              "      <td>20582</td>\n",
              "      <td>19357</td>\n",
              "      <td>0</td>\n",
              "      <td>0</td>\n",
              "      <td>22000</td>\n",
              "      <td>4200</td>\n",
              "      <td>2000</td>\n",
              "      <td>3100</td>\n",
              "      <td>1</td>\n",
              "      <td>university</td>\n",
              "      <td>0</td>\n",
              "      <td>0</td>\n",
              "      <td>0</td>\n",
              "      <td>1</td>\n",
              "    </tr>\n",
              "    <tr>\n",
              "      <th>26662</th>\n",
              "      <td>00d03f02-04cd</td>\n",
              "      <td>80000</td>\n",
              "      <td>1</td>\n",
              "      <td>3</td>\n",
              "      <td>1</td>\n",
              "      <td>41</td>\n",
              "      <td>1</td>\n",
              "      <td>-1</td>\n",
              "      <td>0</td>\n",
              "      <td>0</td>\n",
              "      <td>0</td>\n",
              "      <td>-1</td>\n",
              "      <td>-1645</td>\n",
              "      <td>78379</td>\n",
              "      <td>76304</td>\n",
              "      <td>52774</td>\n",
              "      <td>11855</td>\n",
              "      <td>48944</td>\n",
              "      <td>85900</td>\n",
              "      <td>3409</td>\n",
              "      <td>1178</td>\n",
              "      <td>1926</td>\n",
              "      <td>52964</td>\n",
              "      <td>1804</td>\n",
              "      <td>1</td>\n",
              "      <td>high school</td>\n",
              "      <td>0</td>\n",
              "      <td>1</td>\n",
              "      <td>0</td>\n",
              "      <td>0</td>\n",
              "    </tr>\n",
              "    <tr>\n",
              "      <th>26663</th>\n",
              "      <td>15d69f9f-5ad3</td>\n",
              "      <td>50000</td>\n",
              "      <td>1</td>\n",
              "      <td>2</td>\n",
              "      <td>1</td>\n",
              "      <td>46</td>\n",
              "      <td>0</td>\n",
              "      <td>0</td>\n",
              "      <td>0</td>\n",
              "      <td>0</td>\n",
              "      <td>0</td>\n",
              "      <td>0</td>\n",
              "      <td>47929</td>\n",
              "      <td>48905</td>\n",
              "      <td>49764</td>\n",
              "      <td>36535</td>\n",
              "      <td>32428</td>\n",
              "      <td>15313</td>\n",
              "      <td>2078</td>\n",
              "      <td>1800</td>\n",
              "      <td>1430</td>\n",
              "      <td>1000</td>\n",
              "      <td>1000</td>\n",
              "      <td>1000</td>\n",
              "      <td>1</td>\n",
              "      <td>university</td>\n",
              "      <td>0</td>\n",
              "      <td>0</td>\n",
              "      <td>0</td>\n",
              "      <td>1</td>\n",
              "    </tr>\n",
              "  </tbody>\n",
              "</table>\n",
              "<p>26664 rows × 30 columns</p>\n",
              "</div>"
            ],
            "text/plain": [
              "                  ID  LIMIT_BAL  SEX  ...  high school  others  university\n",
              "0      798fc410-45c1      20000    2  ...            0       0           1\n",
              "1      8a8c8f3b-8eb4     120000    2  ...            0       0           1\n",
              "2      85698822-43f5      90000    2  ...            0       0           1\n",
              "3      0737c11b-be42      50000    2  ...            0       0           1\n",
              "4      3b7f77cc-dbc0      50000    1  ...            0       0           1\n",
              "...              ...        ...  ...  ...          ...     ...         ...\n",
              "26659  ecff42d0-bdc6     220000    1  ...            1       0           0\n",
              "26660  99d1fa0e-222b     150000    1  ...            1       0           0\n",
              "26661  95cdd3e7-4f24      30000    1  ...            0       0           1\n",
              "26662  00d03f02-04cd      80000    1  ...            1       0           0\n",
              "26663  15d69f9f-5ad3      50000    1  ...            0       0           1\n",
              "\n",
              "[26664 rows x 30 columns]"
            ]
          },
          "metadata": {
            "tags": []
          },
          "execution_count": 4
        }
      ]
    },
    {
      "cell_type": "markdown",
      "metadata": {
        "id": "Ynh-J5PTRU3w",
        "colab_type": "text"
      },
      "source": [
        "**Run the following 3 cells to create a list of features, create a train/test split, and instantiate a random forest classifier.**"
      ]
    },
    {
      "cell_type": "code",
      "metadata": {
        "id": "BPKRj5QvRU3y",
        "colab_type": "code",
        "colab": {
          "base_uri": "https://localhost:8080/",
          "height": 323
        },
        "outputId": "5fde7efe-cdc7-43d4-8800-002acfd77174"
      },
      "source": [
        "features_response = df.columns.tolist()\n",
        "items_to_remove = ['ID', 'SEX', 'PAY_2', 'PAY_3', 'PAY_4', 'PAY_5', 'PAY_6',\n",
        "                   'EDUCATION_CAT', 'graduate school', 'high school', 'none',\n",
        "                   'others', 'university']\n",
        "features_response = [item for item in features_response if item not in items_to_remove]\n",
        "features_response"
      ],
      "execution_count": 5,
      "outputs": [
        {
          "output_type": "execute_result",
          "data": {
            "text/plain": [
              "['LIMIT_BAL',\n",
              " 'EDUCATION',\n",
              " 'MARRIAGE',\n",
              " 'AGE',\n",
              " 'PAY_1',\n",
              " 'BILL_AMT1',\n",
              " 'BILL_AMT2',\n",
              " 'BILL_AMT3',\n",
              " 'BILL_AMT4',\n",
              " 'BILL_AMT5',\n",
              " 'BILL_AMT6',\n",
              " 'PAY_AMT1',\n",
              " 'PAY_AMT2',\n",
              " 'PAY_AMT3',\n",
              " 'PAY_AMT4',\n",
              " 'PAY_AMT5',\n",
              " 'PAY_AMT6',\n",
              " 'default payment next month']"
            ]
          },
          "metadata": {
            "tags": []
          },
          "execution_count": 5
        }
      ]
    },
    {
      "cell_type": "code",
      "metadata": {
        "id": "HNPwZ7miRU32",
        "colab_type": "code",
        "colab": {}
      },
      "source": [
        "from sklearn.model_selection import train_test_split\n",
        "\n",
        "X_train, X_test, y_train, y_test = train_test_split(\n",
        "    df[features_response[:-1]].values,\n",
        "    df['default payment next month'].values,\n",
        "    test_size=0.2, random_state=24\n",
        ")"
      ],
      "execution_count": 6,
      "outputs": []
    },
    {
      "cell_type": "code",
      "metadata": {
        "id": "mDOhlf3aRwMv",
        "colab_type": "code",
        "colab": {
          "base_uri": "https://localhost:8080/",
          "height": 34
        },
        "outputId": "882124d8-df33-4a29-b074-fdb01d250ffe"
      },
      "source": [
        "X_train.shape,X_test.shape"
      ],
      "execution_count": 7,
      "outputs": [
        {
          "output_type": "execute_result",
          "data": {
            "text/plain": [
              "((21331, 17), (5333, 17))"
            ]
          },
          "metadata": {
            "tags": []
          },
          "execution_count": 7
        }
      ]
    },
    {
      "cell_type": "code",
      "metadata": {
        "id": "2Hgz-TpER38m",
        "colab_type": "code",
        "colab": {
          "base_uri": "https://localhost:8080/",
          "height": 136
        },
        "outputId": "40374684-1119-4f4b-af91-4db1349c12c5"
      },
      "source": [
        "X_train"
      ],
      "execution_count": 8,
      "outputs": [
        {
          "output_type": "execute_result",
          "data": {
            "text/plain": [
              "array([[120000,      2,      2, ...,      0,   3107,   8542],\n",
              "       [190000,      1,      1, ...,  10091,  20000,  10000],\n",
              "       [420000,      2,      1, ...,   3034,   3012,   5012],\n",
              "       ...,\n",
              "       [ 30000,      2,      1, ...,   1434,      0,   1581],\n",
              "       [150000,      3,      2, ...,      0,      0,      0],\n",
              "       [360000,      1,      2, ...,   2562,     13,   2989]])"
            ]
          },
          "metadata": {
            "tags": []
          },
          "execution_count": 8
        }
      ]
    },
    {
      "cell_type": "code",
      "metadata": {
        "id": "EWa6z0rWRU4A",
        "colab_type": "code",
        "colab": {}
      },
      "source": [
        "from sklearn.ensemble import RandomForestClassifier\n",
        "\n",
        "rf = RandomForestClassifier(\n",
        "    n_estimators=10, criterion='gini', max_depth=3,\n",
        "    min_samples_split=2, min_samples_leaf=1, min_weight_fraction_leaf=0.0,\n",
        "    max_features='auto', max_leaf_nodes=None, min_impurity_decrease=0.0,\n",
        "    min_impurity_split=None, bootstrap=True, oob_score=False, n_jobs=None,\n",
        "    random_state=4, verbose=0, warm_start=False, class_weight=None\n",
        ")"
      ],
      "execution_count": 9,
      "outputs": []
    },
    {
      "cell_type": "markdown",
      "metadata": {
        "id": "v0o-YfTTRU4F",
        "colab_type": "text"
      },
      "source": [
        "**Create a dictionary representing the grid for the `max_depth` and `n_estimators` hyperparameters that will be searched. Include depths of 3, 6, 9, and 12, and 10, 50, 100, and 200 trees.**"
      ]
    },
    {
      "cell_type": "code",
      "metadata": {
        "id": "RgaoL_oPRU4G",
        "colab_type": "code",
        "colab": {}
      },
      "source": [
        "parameters = {'max_depth' : [3,6,9,12],\n",
        "              'n_estimators' : [10,50,100,200]}"
      ],
      "execution_count": 10,
      "outputs": []
    },
    {
      "cell_type": "markdown",
      "metadata": {
        "id": "AEzu34krRU4N",
        "colab_type": "text"
      },
      "source": [
        "________________________________________________________________\n",
        "**Instantiate a `GridSearchCV` object using the same options that we have previously in this course, but with the dictionary of hyperparameters created above. Set `verbose=2` to see the output for each fit performed.**"
      ]
    },
    {
      "cell_type": "code",
      "metadata": {
        "id": "Q-w67o_ARU4R",
        "colab_type": "code",
        "colab": {}
      },
      "source": [
        "from sklearn.model_selection import GridSearchCV\n",
        "gs = GridSearchCV(estimator = rf, param_grid = parameters, \n",
        "                          cv = 5, n_jobs = -1, verbose = 2)"
      ],
      "execution_count": 11,
      "outputs": []
    },
    {
      "cell_type": "markdown",
      "metadata": {
        "id": "PKY1IJUWRU4j",
        "colab_type": "text"
      },
      "source": [
        "____________________________________________________\n",
        "**Fit the `GridSearchCV` object on the training data.**"
      ]
    },
    {
      "cell_type": "code",
      "metadata": {
        "id": "Yut1fWyORU4k",
        "colab_type": "code",
        "colab": {
          "base_uri": "https://localhost:8080/",
          "height": 425
        },
        "outputId": "3a11bd2e-1011-43d8-fa81-cb69e9cf23fa"
      },
      "source": [
        "gs.fit(X_train,y_train)"
      ],
      "execution_count": 12,
      "outputs": [
        {
          "output_type": "stream",
          "text": [
            "Fitting 5 folds for each of 16 candidates, totalling 80 fits\n"
          ],
          "name": "stdout"
        },
        {
          "output_type": "stream",
          "text": [
            "[Parallel(n_jobs=-1)]: Using backend LokyBackend with 2 concurrent workers.\n",
            "[Parallel(n_jobs=-1)]: Done  37 tasks      | elapsed:   43.0s\n",
            "[Parallel(n_jobs=-1)]: Done  80 out of  80 | elapsed:  2.6min finished\n"
          ],
          "name": "stderr"
        },
        {
          "output_type": "execute_result",
          "data": {
            "text/plain": [
              "GridSearchCV(cv=5, error_score=nan,\n",
              "             estimator=RandomForestClassifier(bootstrap=True, ccp_alpha=0.0,\n",
              "                                              class_weight=None,\n",
              "                                              criterion='gini', max_depth=3,\n",
              "                                              max_features='auto',\n",
              "                                              max_leaf_nodes=None,\n",
              "                                              max_samples=None,\n",
              "                                              min_impurity_decrease=0.0,\n",
              "                                              min_impurity_split=None,\n",
              "                                              min_samples_leaf=1,\n",
              "                                              min_samples_split=2,\n",
              "                                              min_weight_fraction_leaf=0.0,\n",
              "                                              n_estimators=10, n_jobs=None,\n",
              "                                              oob_score=False, random_state=4,\n",
              "                                              verbose=0, warm_start=False),\n",
              "             iid='deprecated', n_jobs=-1,\n",
              "             param_grid={'max_depth': [3, 6, 9, 12],\n",
              "                         'n_estimators': [10, 50, 100, 200]},\n",
              "             pre_dispatch='2*n_jobs', refit=True, return_train_score=False,\n",
              "             scoring=None, verbose=2)"
            ]
          },
          "metadata": {
            "tags": []
          },
          "execution_count": 12
        }
      ]
    },
    {
      "cell_type": "markdown",
      "metadata": {
        "id": "YJQqPTqlRU4s",
        "colab_type": "text"
      },
      "source": [
        "___________________________________________________________\n",
        "**Put the results of the grid search in a pandas DataFrame.**"
      ]
    },
    {
      "cell_type": "code",
      "metadata": {
        "scrolled": true,
        "id": "xKa-bxoERU4t",
        "colab_type": "code",
        "colab": {
          "base_uri": "https://localhost:8080/",
          "height": 1000
        },
        "outputId": "aca80acf-5411-476e-a80a-2de5304871f7"
      },
      "source": [
        "gs_df = pd.DataFrame(gs.cv_results_)\n",
        "gs_df"
      ],
      "execution_count": 13,
      "outputs": [
        {
          "output_type": "execute_result",
          "data": {
            "text/html": [
              "<div>\n",
              "<style scoped>\n",
              "    .dataframe tbody tr th:only-of-type {\n",
              "        vertical-align: middle;\n",
              "    }\n",
              "\n",
              "    .dataframe tbody tr th {\n",
              "        vertical-align: top;\n",
              "    }\n",
              "\n",
              "    .dataframe thead th {\n",
              "        text-align: right;\n",
              "    }\n",
              "</style>\n",
              "<table border=\"1\" class=\"dataframe\">\n",
              "  <thead>\n",
              "    <tr style=\"text-align: right;\">\n",
              "      <th></th>\n",
              "      <th>mean_fit_time</th>\n",
              "      <th>std_fit_time</th>\n",
              "      <th>mean_score_time</th>\n",
              "      <th>std_score_time</th>\n",
              "      <th>param_max_depth</th>\n",
              "      <th>param_n_estimators</th>\n",
              "      <th>params</th>\n",
              "      <th>split0_test_score</th>\n",
              "      <th>split1_test_score</th>\n",
              "      <th>split2_test_score</th>\n",
              "      <th>split3_test_score</th>\n",
              "      <th>split4_test_score</th>\n",
              "      <th>mean_test_score</th>\n",
              "      <th>std_test_score</th>\n",
              "      <th>rank_test_score</th>\n",
              "    </tr>\n",
              "  </thead>\n",
              "  <tbody>\n",
              "    <tr>\n",
              "      <th>0</th>\n",
              "      <td>0.228911</td>\n",
              "      <td>0.002779</td>\n",
              "      <td>0.007328</td>\n",
              "      <td>0.000189</td>\n",
              "      <td>3</td>\n",
              "      <td>10</td>\n",
              "      <td>{'max_depth': 3, 'n_estimators': 10}</td>\n",
              "      <td>0.814390</td>\n",
              "      <td>0.819269</td>\n",
              "      <td>0.816925</td>\n",
              "      <td>0.824426</td>\n",
              "      <td>0.815284</td>\n",
              "      <td>0.818058</td>\n",
              "      <td>0.003590</td>\n",
              "      <td>11</td>\n",
              "    </tr>\n",
              "    <tr>\n",
              "      <th>1</th>\n",
              "      <td>1.066590</td>\n",
              "      <td>0.014730</td>\n",
              "      <td>0.026273</td>\n",
              "      <td>0.000306</td>\n",
              "      <td>3</td>\n",
              "      <td>50</td>\n",
              "      <td>{'max_depth': 3, 'n_estimators': 50}</td>\n",
              "      <td>0.812046</td>\n",
              "      <td>0.815284</td>\n",
              "      <td>0.814346</td>\n",
              "      <td>0.820206</td>\n",
              "      <td>0.813408</td>\n",
              "      <td>0.815058</td>\n",
              "      <td>0.002788</td>\n",
              "      <td>15</td>\n",
              "    </tr>\n",
              "    <tr>\n",
              "      <th>2</th>\n",
              "      <td>2.051750</td>\n",
              "      <td>0.035963</td>\n",
              "      <td>0.049466</td>\n",
              "      <td>0.000775</td>\n",
              "      <td>3</td>\n",
              "      <td>100</td>\n",
              "      <td>{'max_depth': 3, 'n_estimators': 100}</td>\n",
              "      <td>0.810640</td>\n",
              "      <td>0.812705</td>\n",
              "      <td>0.813408</td>\n",
              "      <td>0.820441</td>\n",
              "      <td>0.810830</td>\n",
              "      <td>0.813605</td>\n",
              "      <td>0.003580</td>\n",
              "      <td>16</td>\n",
              "    </tr>\n",
              "    <tr>\n",
              "      <th>3</th>\n",
              "      <td>4.064424</td>\n",
              "      <td>0.012557</td>\n",
              "      <td>0.096719</td>\n",
              "      <td>0.000528</td>\n",
              "      <td>3</td>\n",
              "      <td>200</td>\n",
              "      <td>{'max_depth': 3, 'n_estimators': 200}</td>\n",
              "      <td>0.811577</td>\n",
              "      <td>0.815518</td>\n",
              "      <td>0.814346</td>\n",
              "      <td>0.821378</td>\n",
              "      <td>0.813408</td>\n",
              "      <td>0.815246</td>\n",
              "      <td>0.003326</td>\n",
              "      <td>14</td>\n",
              "    </tr>\n",
              "    <tr>\n",
              "      <th>4</th>\n",
              "      <td>0.350990</td>\n",
              "      <td>0.005525</td>\n",
              "      <td>0.007713</td>\n",
              "      <td>0.000105</td>\n",
              "      <td>6</td>\n",
              "      <td>10</td>\n",
              "      <td>{'max_depth': 6, 'n_estimators': 10}</td>\n",
              "      <td>0.814390</td>\n",
              "      <td>0.818565</td>\n",
              "      <td>0.819972</td>\n",
              "      <td>0.826301</td>\n",
              "      <td>0.819503</td>\n",
              "      <td>0.819746</td>\n",
              "      <td>0.003825</td>\n",
              "      <td>10</td>\n",
              "    </tr>\n",
              "    <tr>\n",
              "      <th>5</th>\n",
              "      <td>1.743447</td>\n",
              "      <td>0.011838</td>\n",
              "      <td>0.031590</td>\n",
              "      <td>0.001503</td>\n",
              "      <td>6</td>\n",
              "      <td>50</td>\n",
              "      <td>{'max_depth': 6, 'n_estimators': 50}</td>\n",
              "      <td>0.815561</td>\n",
              "      <td>0.819034</td>\n",
              "      <td>0.819737</td>\n",
              "      <td>0.826067</td>\n",
              "      <td>0.820206</td>\n",
              "      <td>0.820121</td>\n",
              "      <td>0.003390</td>\n",
              "      <td>8</td>\n",
              "    </tr>\n",
              "    <tr>\n",
              "      <th>6</th>\n",
              "      <td>3.485394</td>\n",
              "      <td>0.027233</td>\n",
              "      <td>0.060935</td>\n",
              "      <td>0.001739</td>\n",
              "      <td>6</td>\n",
              "      <td>100</td>\n",
              "      <td>{'max_depth': 6, 'n_estimators': 100}</td>\n",
              "      <td>0.815796</td>\n",
              "      <td>0.819972</td>\n",
              "      <td>0.819503</td>\n",
              "      <td>0.827004</td>\n",
              "      <td>0.820206</td>\n",
              "      <td>0.820496</td>\n",
              "      <td>0.003628</td>\n",
              "      <td>3</td>\n",
              "    </tr>\n",
              "    <tr>\n",
              "      <th>7</th>\n",
              "      <td>6.954026</td>\n",
              "      <td>0.030068</td>\n",
              "      <td>0.117407</td>\n",
              "      <td>0.000828</td>\n",
              "      <td>6</td>\n",
              "      <td>200</td>\n",
              "      <td>{'max_depth': 6, 'n_estimators': 200}</td>\n",
              "      <td>0.815796</td>\n",
              "      <td>0.819972</td>\n",
              "      <td>0.819269</td>\n",
              "      <td>0.826770</td>\n",
              "      <td>0.820675</td>\n",
              "      <td>0.820496</td>\n",
              "      <td>0.003557</td>\n",
              "      <td>3</td>\n",
              "    </tr>\n",
              "    <tr>\n",
              "      <th>8</th>\n",
              "      <td>0.485650</td>\n",
              "      <td>0.003201</td>\n",
              "      <td>0.008911</td>\n",
              "      <td>0.000059</td>\n",
              "      <td>9</td>\n",
              "      <td>10</td>\n",
              "      <td>{'max_depth': 9, 'n_estimators': 10}</td>\n",
              "      <td>0.809702</td>\n",
              "      <td>0.815987</td>\n",
              "      <td>0.819972</td>\n",
              "      <td>0.824895</td>\n",
              "      <td>0.816221</td>\n",
              "      <td>0.817355</td>\n",
              "      <td>0.005008</td>\n",
              "      <td>12</td>\n",
              "    </tr>\n",
              "    <tr>\n",
              "      <th>9</th>\n",
              "      <td>2.442812</td>\n",
              "      <td>0.014150</td>\n",
              "      <td>0.037349</td>\n",
              "      <td>0.000376</td>\n",
              "      <td>9</td>\n",
              "      <td>50</td>\n",
              "      <td>{'max_depth': 9, 'n_estimators': 50}</td>\n",
              "      <td>0.815796</td>\n",
              "      <td>0.818565</td>\n",
              "      <td>0.819503</td>\n",
              "      <td>0.826301</td>\n",
              "      <td>0.819972</td>\n",
              "      <td>0.820027</td>\n",
              "      <td>0.003455</td>\n",
              "      <td>9</td>\n",
              "    </tr>\n",
              "    <tr>\n",
              "      <th>10</th>\n",
              "      <td>4.821348</td>\n",
              "      <td>0.037947</td>\n",
              "      <td>0.071906</td>\n",
              "      <td>0.000877</td>\n",
              "      <td>9</td>\n",
              "      <td>100</td>\n",
              "      <td>{'max_depth': 9, 'n_estimators': 100}</td>\n",
              "      <td>0.816264</td>\n",
              "      <td>0.819503</td>\n",
              "      <td>0.819737</td>\n",
              "      <td>0.826535</td>\n",
              "      <td>0.819269</td>\n",
              "      <td>0.820262</td>\n",
              "      <td>0.003382</td>\n",
              "      <td>7</td>\n",
              "    </tr>\n",
              "    <tr>\n",
              "      <th>11</th>\n",
              "      <td>9.932099</td>\n",
              "      <td>0.123125</td>\n",
              "      <td>0.144486</td>\n",
              "      <td>0.002620</td>\n",
              "      <td>9</td>\n",
              "      <td>200</td>\n",
              "      <td>{'max_depth': 9, 'n_estimators': 200}</td>\n",
              "      <td>0.815327</td>\n",
              "      <td>0.819503</td>\n",
              "      <td>0.819737</td>\n",
              "      <td>0.827473</td>\n",
              "      <td>0.820675</td>\n",
              "      <td>0.820543</td>\n",
              "      <td>0.003924</td>\n",
              "      <td>2</td>\n",
              "    </tr>\n",
              "    <tr>\n",
              "      <th>12</th>\n",
              "      <td>0.618654</td>\n",
              "      <td>0.006318</td>\n",
              "      <td>0.011814</td>\n",
              "      <td>0.000874</td>\n",
              "      <td>12</td>\n",
              "      <td>10</td>\n",
              "      <td>{'max_depth': 12, 'n_estimators': 10}</td>\n",
              "      <td>0.816264</td>\n",
              "      <td>0.814112</td>\n",
              "      <td>0.816690</td>\n",
              "      <td>0.825598</td>\n",
              "      <td>0.813408</td>\n",
              "      <td>0.817214</td>\n",
              "      <td>0.004372</td>\n",
              "      <td>13</td>\n",
              "    </tr>\n",
              "    <tr>\n",
              "      <th>13</th>\n",
              "      <td>3.105550</td>\n",
              "      <td>0.014923</td>\n",
              "      <td>0.045989</td>\n",
              "      <td>0.000504</td>\n",
              "      <td>12</td>\n",
              "      <td>50</td>\n",
              "      <td>{'max_depth': 12, 'n_estimators': 50}</td>\n",
              "      <td>0.817436</td>\n",
              "      <td>0.817862</td>\n",
              "      <td>0.819737</td>\n",
              "      <td>0.827004</td>\n",
              "      <td>0.820441</td>\n",
              "      <td>0.820496</td>\n",
              "      <td>0.003442</td>\n",
              "      <td>6</td>\n",
              "    </tr>\n",
              "    <tr>\n",
              "      <th>14</th>\n",
              "      <td>6.131160</td>\n",
              "      <td>0.073372</td>\n",
              "      <td>0.089232</td>\n",
              "      <td>0.000906</td>\n",
              "      <td>12</td>\n",
              "      <td>100</td>\n",
              "      <td>{'max_depth': 12, 'n_estimators': 100}</td>\n",
              "      <td>0.815796</td>\n",
              "      <td>0.816925</td>\n",
              "      <td>0.820675</td>\n",
              "      <td>0.828645</td>\n",
              "      <td>0.820441</td>\n",
              "      <td>0.820496</td>\n",
              "      <td>0.004501</td>\n",
              "      <td>3</td>\n",
              "    </tr>\n",
              "    <tr>\n",
              "      <th>15</th>\n",
              "      <td>11.921272</td>\n",
              "      <td>0.735385</td>\n",
              "      <td>0.173444</td>\n",
              "      <td>0.024741</td>\n",
              "      <td>12</td>\n",
              "      <td>200</td>\n",
              "      <td>{'max_depth': 12, 'n_estimators': 200}</td>\n",
              "      <td>0.816967</td>\n",
              "      <td>0.817862</td>\n",
              "      <td>0.821613</td>\n",
              "      <td>0.828411</td>\n",
              "      <td>0.819034</td>\n",
              "      <td>0.820777</td>\n",
              "      <td>0.004124</td>\n",
              "      <td>1</td>\n",
              "    </tr>\n",
              "  </tbody>\n",
              "</table>\n",
              "</div>"
            ],
            "text/plain": [
              "    mean_fit_time  std_fit_time  ...  std_test_score  rank_test_score\n",
              "0        0.228911      0.002779  ...        0.003590               11\n",
              "1        1.066590      0.014730  ...        0.002788               15\n",
              "2        2.051750      0.035963  ...        0.003580               16\n",
              "3        4.064424      0.012557  ...        0.003326               14\n",
              "4        0.350990      0.005525  ...        0.003825               10\n",
              "5        1.743447      0.011838  ...        0.003390                8\n",
              "6        3.485394      0.027233  ...        0.003628                3\n",
              "7        6.954026      0.030068  ...        0.003557                3\n",
              "8        0.485650      0.003201  ...        0.005008               12\n",
              "9        2.442812      0.014150  ...        0.003455                9\n",
              "10       4.821348      0.037947  ...        0.003382                7\n",
              "11       9.932099      0.123125  ...        0.003924                2\n",
              "12       0.618654      0.006318  ...        0.004372               13\n",
              "13       3.105550      0.014923  ...        0.003442                6\n",
              "14       6.131160      0.073372  ...        0.004501                3\n",
              "15      11.921272      0.735385  ...        0.004124                1\n",
              "\n",
              "[16 rows x 15 columns]"
            ]
          },
          "metadata": {
            "tags": []
          },
          "execution_count": 13
        }
      ]
    },
    {
      "cell_type": "markdown",
      "metadata": {
        "id": "0rTK4s6-RU41",
        "colab_type": "text"
      },
      "source": [
        "**Find the best hyperparameters from the cross-validation.**"
      ]
    },
    {
      "cell_type": "code",
      "metadata": {
        "id": "gBVcl6ydRU42",
        "colab_type": "code",
        "colab": {
          "base_uri": "https://localhost:8080/",
          "height": 34
        },
        "outputId": "49aa7c78-3cd4-4ea8-dacd-6b38fb37fa60"
      },
      "source": [
        "gs.best_params_"
      ],
      "execution_count": 18,
      "outputs": [
        {
          "output_type": "execute_result",
          "data": {
            "text/plain": [
              "{'max_depth': 12, 'n_estimators': 200}"
            ]
          },
          "metadata": {
            "tags": []
          },
          "execution_count": 18
        }
      ]
    },
    {
      "cell_type": "code",
      "metadata": {
        "id": "sa-z0FEtWLF2",
        "colab_type": "code",
        "colab": {
          "base_uri": "https://localhost:8080/",
          "height": 34
        },
        "outputId": "f89d65d5-d276-49d8-e128-f7fc2200f5b5"
      },
      "source": [
        "gs.best_score_"
      ],
      "execution_count": 19,
      "outputs": [
        {
          "output_type": "execute_result",
          "data": {
            "text/plain": [
              "0.8207774511287191"
            ]
          },
          "metadata": {
            "tags": []
          },
          "execution_count": 19
        }
      ]
    },
    {
      "cell_type": "code",
      "metadata": {
        "id": "QVXIQ1cceAX_",
        "colab_type": "code",
        "colab": {
          "base_uri": "https://localhost:8080/",
          "height": 1000
        },
        "outputId": "fb2526af-7b75-4e33-bd17-17ea7ca6792c"
      },
      "source": [
        "gs.cv_results_"
      ],
      "execution_count": 20,
      "outputs": [
        {
          "output_type": "execute_result",
          "data": {
            "text/plain": [
              "{'mean_fit_time': array([ 0.22891064,  1.06659007,  2.05174952,  4.06442351,  0.3509903 ,\n",
              "         1.74344721,  3.48539433,  6.95402594,  0.48565011,  2.44281201,\n",
              "         4.82134819,  9.93209891,  0.61865377,  3.10554972,  6.13115983,\n",
              "        11.9212719 ]),\n",
              " 'mean_score_time': array([0.00732818, 0.0262732 , 0.04946551, 0.09671922, 0.00771337,\n",
              "        0.03159046, 0.06093516, 0.11740723, 0.00891085, 0.03734908,\n",
              "        0.07190628, 0.14448586, 0.0118144 , 0.04598861, 0.08923197,\n",
              "        0.17344413]),\n",
              " 'mean_test_score': array([0.8180584 , 0.81505804, 0.81360475, 0.81524559, 0.81974616,\n",
              "        0.82012116, 0.82049621, 0.82049621, 0.81735538, 0.82002739,\n",
              "        0.82026178, 0.82054312, 0.81721443, 0.82049614, 0.82049621,\n",
              "        0.82077745]),\n",
              " 'param_max_depth': masked_array(data=[3, 3, 3, 3, 6, 6, 6, 6, 9, 9, 9, 9, 12, 12, 12, 12],\n",
              "              mask=[False, False, False, False, False, False, False, False,\n",
              "                    False, False, False, False, False, False, False, False],\n",
              "        fill_value='?',\n",
              "             dtype=object),\n",
              " 'param_n_estimators': masked_array(data=[10, 50, 100, 200, 10, 50, 100, 200, 10, 50, 100, 200,\n",
              "                    10, 50, 100, 200],\n",
              "              mask=[False, False, False, False, False, False, False, False,\n",
              "                    False, False, False, False, False, False, False, False],\n",
              "        fill_value='?',\n",
              "             dtype=object),\n",
              " 'params': [{'max_depth': 3, 'n_estimators': 10},\n",
              "  {'max_depth': 3, 'n_estimators': 50},\n",
              "  {'max_depth': 3, 'n_estimators': 100},\n",
              "  {'max_depth': 3, 'n_estimators': 200},\n",
              "  {'max_depth': 6, 'n_estimators': 10},\n",
              "  {'max_depth': 6, 'n_estimators': 50},\n",
              "  {'max_depth': 6, 'n_estimators': 100},\n",
              "  {'max_depth': 6, 'n_estimators': 200},\n",
              "  {'max_depth': 9, 'n_estimators': 10},\n",
              "  {'max_depth': 9, 'n_estimators': 50},\n",
              "  {'max_depth': 9, 'n_estimators': 100},\n",
              "  {'max_depth': 9, 'n_estimators': 200},\n",
              "  {'max_depth': 12, 'n_estimators': 10},\n",
              "  {'max_depth': 12, 'n_estimators': 50},\n",
              "  {'max_depth': 12, 'n_estimators': 100},\n",
              "  {'max_depth': 12, 'n_estimators': 200}],\n",
              " 'rank_test_score': array([11, 15, 16, 14, 10,  8,  3,  3, 12,  9,  7,  2, 13,  6,  3,  1],\n",
              "       dtype=int32),\n",
              " 'split0_test_score': array([0.8143895 , 0.81204593, 0.81063979, 0.81157722, 0.8143895 ,\n",
              "        0.81556128, 0.81579564, 0.81579564, 0.80970237, 0.81579564,\n",
              "        0.81626435, 0.81532693, 0.81626435, 0.81743614, 0.81579564,\n",
              "        0.81696742]),\n",
              " 'split1_test_score': array([0.81926864, 0.81528364, 0.81270511, 0.81551805, 0.8185654 ,\n",
              "        0.81903422, 0.81997187, 0.81997187, 0.81598687, 0.8185654 ,\n",
              "        0.81950305, 0.81950305, 0.81411158, 0.81786217, 0.81692452,\n",
              "        0.81786217]),\n",
              " 'split2_test_score': array([0.81692452, 0.81434599, 0.81340835, 0.81434599, 0.81997187,\n",
              "        0.81973746, 0.81950305, 0.81926864, 0.81997187, 0.81950305,\n",
              "        0.81973746, 0.81973746, 0.81669011, 0.81973746, 0.82067511,\n",
              "        0.82161275]),\n",
              " 'split3_test_score': array([0.82442569, 0.82020628, 0.82044069, 0.82137834, 0.82630098,\n",
              "        0.82606657, 0.82700422, 0.82676981, 0.82489451, 0.82630098,\n",
              "        0.8265354 , 0.82747304, 0.82559775, 0.82700422, 0.8286451 ,\n",
              "        0.82841069]),\n",
              " 'split4_test_score': array([0.81528364, 0.81340835, 0.81082982, 0.81340835, 0.81950305,\n",
              "        0.82020628, 0.82020628, 0.82067511, 0.81622128, 0.81997187,\n",
              "        0.81926864, 0.82067511, 0.81340835, 0.82044069, 0.82044069,\n",
              "        0.81903422]),\n",
              " 'std_fit_time': array([0.00277905, 0.01473015, 0.03596282, 0.01255656, 0.00552467,\n",
              "        0.01183756, 0.02723309, 0.0300677 , 0.00320099, 0.01414963,\n",
              "        0.03794736, 0.12312502, 0.00631751, 0.01492286, 0.07337196,\n",
              "        0.73538514]),\n",
              " 'std_score_time': array([1.88918501e-04, 3.06434027e-04, 7.74710650e-04, 5.28298482e-04,\n",
              "        1.05118251e-04, 1.50295270e-03, 1.73916271e-03, 8.27838810e-04,\n",
              "        5.87718772e-05, 3.75672474e-04, 8.76626455e-04, 2.62027994e-03,\n",
              "        8.74455508e-04, 5.04085970e-04, 9.06033402e-04, 2.47409017e-02]),\n",
              " 'std_test_score': array([0.00359034, 0.00278771, 0.00357964, 0.00332646, 0.00382528,\n",
              "        0.00339047, 0.00362753, 0.00355717, 0.00500824, 0.00345488,\n",
              "        0.00338156, 0.00392379, 0.00437199, 0.00344195, 0.00450093,\n",
              "        0.00412354])}"
            ]
          },
          "metadata": {
            "tags": []
          },
          "execution_count": 20
        }
      ]
    },
    {
      "cell_type": "markdown",
      "metadata": {
        "id": "dqEoTNlnRU48",
        "colab_type": "text"
      },
      "source": [
        "________________________________________________________________________________________________________\n",
        "**Create a `pcolormesh` visualization of the mean testing score for each combination of hyperparameters.**\n",
        "\n",
        "<details>\n",
        "    <summary>Hint:</summary>\n",
        "    Remember to reshape the values of the mean testing scores to be a two-dimensional 4x4 grid.\n",
        "</details>"
      ]
    },
    {
      "cell_type": "code",
      "metadata": {
        "id": "fbpY9ezdRU4-",
        "colab_type": "code",
        "colab": {}
      },
      "source": [
        "# Create a 5x5 grid\n",
        "x,y = np.meshgrid(range(5), range(5))"
      ],
      "execution_count": 21,
      "outputs": []
    },
    {
      "cell_type": "code",
      "metadata": {
        "id": "tzPlsjKbRU5G",
        "colab_type": "code",
        "colab": {}
      },
      "source": [
        "# Set color map to `plt.cm.jet`\n",
        "color_map= plt.cm.jet"
      ],
      "execution_count": 22,
      "outputs": []
    },
    {
      "cell_type": "code",
      "metadata": {
        "eid": "f0c62",
        "id": "DJM0lV3uRU5N",
        "colab_type": "code",
        "colab": {
          "base_uri": "https://localhost:8080/",
          "height": 300
        },
        "outputId": "41bf0a20-d861-440b-df7d-d1499d296a28"
      },
      "source": [
        "ax = plt.axes()\n",
        "graph = ax.pcolormesh(x, y, gs_df['mean_test_score'].values.reshape((4,4)))\n",
        "plt.colorbar(graph, label='Mean Testing Score')\n",
        "ax.set_xlabel('Number of trees')\n",
        "ax.set_ylabel('Maximum depth')"
      ],
      "execution_count": 25,
      "outputs": [
        {
          "output_type": "execute_result",
          "data": {
            "text/plain": [
              "Text(0, 0.5, 'Maximum depth')"
            ]
          },
          "metadata": {
            "tags": []
          },
          "execution_count": 25
        },
        {
          "output_type": "display_data",
          "data": {
            "image/png": "[encoded data removed]",
            "text/plain": [
              "<Figure size 432x288 with 2 Axes>"
            ]
          },
          "metadata": {
            "tags": [],
            "needs_background": "light"
          }
        }
      ]
    },
    {
      "cell_type": "markdown",
      "metadata": {
        "id": "qGi00iMURU5V",
        "colab_type": "text"
      },
      "source": [
        "________________________________________________________________________________________________________\n",
        "**Conclude which set of hyperparameters to use.**"
      ]
    },
    {
      "cell_type": "code",
      "metadata": {
        "id": "wvlgiOhRRU5W",
        "colab_type": "code",
        "colab": {
          "base_uri": "https://localhost:8080/",
          "height": 510
        },
        "outputId": "bb1954d9-1ee8-4a82-fa24-54f51828214f"
      },
      "source": [
        "# Create a dataframe of the feature names and importance\n",
        "df.corr()['default payment next month']"
      ],
      "execution_count": 26,
      "outputs": [
        {
          "output_type": "execute_result",
          "data": {
            "text/plain": [
              "LIMIT_BAL                    -0.154423\n",
              "SEX                          -0.039945\n",
              "EDUCATION                     0.034966\n",
              "MARRIAGE                     -0.026030\n",
              "AGE                           0.014334\n",
              "PAY_1                         0.325365\n",
              "PAY_2                         0.263649\n",
              "PAY_3                         0.238085\n",
              "PAY_4                         0.219889\n",
              "PAY_5                         0.204948\n",
              "PAY_6                         0.190182\n",
              "BILL_AMT1                    -0.020508\n",
              "BILL_AMT2                    -0.014579\n",
              "BILL_AMT3                    -0.014649\n",
              "BILL_AMT4                    -0.011349\n",
              "BILL_AMT5                    -0.006753\n",
              "BILL_AMT6                    -0.006274\n",
              "PAY_AMT1                     -0.072431\n",
              "PAY_AMT2                     -0.061555\n",
              "PAY_AMT3                     -0.058010\n",
              "PAY_AMT4                     -0.054572\n",
              "PAY_AMT5                     -0.056651\n",
              "PAY_AMT6                     -0.054838\n",
              "default payment next month    1.000000\n",
              "graduate school              -0.049595\n",
              "high school                   0.035943\n",
              "others                       -0.044411\n",
              "university                    0.031817\n",
              "Name: default payment next month, dtype: float64"
            ]
          },
          "metadata": {
            "tags": []
          },
          "execution_count": 26
        }
      ]
    },
    {
      "cell_type": "code",
      "metadata": {
        "id": "jhM2D2MDbpUH",
        "colab_type": "code",
        "colab": {
          "base_uri": "https://localhost:8080/",
          "height": 85
        },
        "outputId": "c996736e-3a3a-4cfd-8d15-5954fce4f683"
      },
      "source": [
        "gs.best_estimator_.feature_importances_"
      ],
      "execution_count": 27,
      "outputs": [
        {
          "output_type": "execute_result",
          "data": {
            "text/plain": [
              "array([0.0598768 , 0.01245122, 0.00781853, 0.04287095, 0.30459238,\n",
              "       0.05397308, 0.05202858, 0.04863935, 0.04617078, 0.04306215,\n",
              "       0.04571771, 0.0605955 , 0.05169707, 0.04825381, 0.04249536,\n",
              "       0.03998141, 0.03977532])"
            ]
          },
          "metadata": {
            "tags": []
          },
          "execution_count": 27
        }
      ]
    },
    {
      "cell_type": "code",
      "metadata": {
        "id": "SeYpNkeQa6Sf",
        "colab_type": "code",
        "colab": {}
      },
      "source": [
        "df_new = pd.DataFrame({'Feature name':features_response[:-1],\n",
        "                      'Importance':gs.best_estimator_.feature_importances_})"
      ],
      "execution_count": 28,
      "outputs": []
    },
    {
      "cell_type": "code",
      "metadata": {
        "id": "Zl1G1GwbRU5d",
        "colab_type": "code",
        "colab": {
          "base_uri": "https://localhost:8080/",
          "height": 576
        },
        "outputId": "a9dd6fc6-2952-425d-8426-9222f378eea4"
      },
      "source": [
        "# Sort values by importance\n",
        "df_new.sort_values('Importance',ascending=False)"
      ],
      "execution_count": 29,
      "outputs": [
        {
          "output_type": "execute_result",
          "data": {
            "text/html": [
              "<div>\n",
              "<style scoped>\n",
              "    .dataframe tbody tr th:only-of-type {\n",
              "        vertical-align: middle;\n",
              "    }\n",
              "\n",
              "    .dataframe tbody tr th {\n",
              "        vertical-align: top;\n",
              "    }\n",
              "\n",
              "    .dataframe thead th {\n",
              "        text-align: right;\n",
              "    }\n",
              "</style>\n",
              "<table border=\"1\" class=\"dataframe\">\n",
              "  <thead>\n",
              "    <tr style=\"text-align: right;\">\n",
              "      <th></th>\n",
              "      <th>Feature name</th>\n",
              "      <th>Importance</th>\n",
              "    </tr>\n",
              "  </thead>\n",
              "  <tbody>\n",
              "    <tr>\n",
              "      <th>4</th>\n",
              "      <td>PAY_1</td>\n",
              "      <td>0.304592</td>\n",
              "    </tr>\n",
              "    <tr>\n",
              "      <th>11</th>\n",
              "      <td>PAY_AMT1</td>\n",
              "      <td>0.060596</td>\n",
              "    </tr>\n",
              "    <tr>\n",
              "      <th>0</th>\n",
              "      <td>LIMIT_BAL</td>\n",
              "      <td>0.059877</td>\n",
              "    </tr>\n",
              "    <tr>\n",
              "      <th>5</th>\n",
              "      <td>BILL_AMT1</td>\n",
              "      <td>0.053973</td>\n",
              "    </tr>\n",
              "    <tr>\n",
              "      <th>6</th>\n",
              "      <td>BILL_AMT2</td>\n",
              "      <td>0.052029</td>\n",
              "    </tr>\n",
              "    <tr>\n",
              "      <th>12</th>\n",
              "      <td>PAY_AMT2</td>\n",
              "      <td>0.051697</td>\n",
              "    </tr>\n",
              "    <tr>\n",
              "      <th>7</th>\n",
              "      <td>BILL_AMT3</td>\n",
              "      <td>0.048639</td>\n",
              "    </tr>\n",
              "    <tr>\n",
              "      <th>13</th>\n",
              "      <td>PAY_AMT3</td>\n",
              "      <td>0.048254</td>\n",
              "    </tr>\n",
              "    <tr>\n",
              "      <th>8</th>\n",
              "      <td>BILL_AMT4</td>\n",
              "      <td>0.046171</td>\n",
              "    </tr>\n",
              "    <tr>\n",
              "      <th>10</th>\n",
              "      <td>BILL_AMT6</td>\n",
              "      <td>0.045718</td>\n",
              "    </tr>\n",
              "    <tr>\n",
              "      <th>9</th>\n",
              "      <td>BILL_AMT5</td>\n",
              "      <td>0.043062</td>\n",
              "    </tr>\n",
              "    <tr>\n",
              "      <th>3</th>\n",
              "      <td>AGE</td>\n",
              "      <td>0.042871</td>\n",
              "    </tr>\n",
              "    <tr>\n",
              "      <th>14</th>\n",
              "      <td>PAY_AMT4</td>\n",
              "      <td>0.042495</td>\n",
              "    </tr>\n",
              "    <tr>\n",
              "      <th>15</th>\n",
              "      <td>PAY_AMT5</td>\n",
              "      <td>0.039981</td>\n",
              "    </tr>\n",
              "    <tr>\n",
              "      <th>16</th>\n",
              "      <td>PAY_AMT6</td>\n",
              "      <td>0.039775</td>\n",
              "    </tr>\n",
              "    <tr>\n",
              "      <th>1</th>\n",
              "      <td>EDUCATION</td>\n",
              "      <td>0.012451</td>\n",
              "    </tr>\n",
              "    <tr>\n",
              "      <th>2</th>\n",
              "      <td>MARRIAGE</td>\n",
              "      <td>0.007819</td>\n",
              "    </tr>\n",
              "  </tbody>\n",
              "</table>\n",
              "</div>"
            ],
            "text/plain": [
              "   Feature name  Importance\n",
              "4         PAY_1    0.304592\n",
              "11     PAY_AMT1    0.060596\n",
              "0     LIMIT_BAL    0.059877\n",
              "5     BILL_AMT1    0.053973\n",
              "6     BILL_AMT2    0.052029\n",
              "12     PAY_AMT2    0.051697\n",
              "7     BILL_AMT3    0.048639\n",
              "13     PAY_AMT3    0.048254\n",
              "8     BILL_AMT4    0.046171\n",
              "10    BILL_AMT6    0.045718\n",
              "9     BILL_AMT5    0.043062\n",
              "3           AGE    0.042871\n",
              "14     PAY_AMT4    0.042495\n",
              "15     PAY_AMT5    0.039981\n",
              "16     PAY_AMT6    0.039775\n",
              "1     EDUCATION    0.012451\n",
              "2      MARRIAGE    0.007819"
            ]
          },
          "metadata": {
            "tags": []
          },
          "execution_count": 29
        }
      ]
    }
  ]
}